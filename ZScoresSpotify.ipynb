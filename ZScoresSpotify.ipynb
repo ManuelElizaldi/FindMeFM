{
 "metadata": {
  "language_info": {
   "codemirror_mode": {
    "name": "ipython",
    "version": 3
   },
   "file_extension": ".py",
   "mimetype": "text/x-python",
   "name": "python",
   "nbconvert_exporter": "python",
   "pygments_lexer": "ipython3",
   "version": "3.7.9"
  },
  "orig_nbformat": 2,
  "kernelspec": {
   "name": "python379jvsc74a57bd0354c2eb913e37078b9eceed7c36555952391f234b1993a26210500db07202fdf",
   "display_name": "Python 3.7.9 64-bit ('mlenv': conda)"
  }
 },
 "nbformat": 4,
 "nbformat_minor": 2,
 "cells": [
  {
   "cell_type": "code",
   "execution_count": 2,
   "metadata": {},
   "outputs": [],
   "source": [
    "import pandas as pd\n",
    "import numpy as np\n",
    "from scipy.special import ndtr as ndtr"
   ]
  },
  {
   "cell_type": "code",
   "execution_count": 3,
   "metadata": {},
   "outputs": [
    {
     "output_type": "execute_result",
     "data": {
      "text/plain": [
       "        valence  year  acousticness  \\\n",
       "0        0.0594  1921       0.98200   \n",
       "1        0.9630  1921       0.73200   \n",
       "2        0.0394  1921       0.96100   \n",
       "3        0.1650  1921       0.96700   \n",
       "4        0.2530  1921       0.95700   \n",
       "...         ...   ...           ...   \n",
       "170648   0.6080  2020       0.08460   \n",
       "170649   0.7340  2020       0.20600   \n",
       "170650   0.6370  2020       0.10100   \n",
       "170651   0.1950  2020       0.00998   \n",
       "170652   0.6420  2020       0.13200   \n",
       "\n",
       "                                                  artists  danceability  \\\n",
       "0       ['Sergei Rachmaninoff', 'James Levine', 'Berli...         0.279   \n",
       "1                                          ['Dennis Day']         0.819   \n",
       "2       ['KHP Kridhamardawa Karaton Ngayogyakarta Hadi...         0.328   \n",
       "3                                        ['Frank Parker']         0.275   \n",
       "4                                          ['Phil Regan']         0.418   \n",
       "...                                                   ...           ...   \n",
       "170648  ['Anuel AA', 'Daddy Yankee', 'KAROL G', 'Ozuna...         0.786   \n",
       "170649                                       ['Ashnikko']         0.717   \n",
       "170650                                        ['MAMAMOO']         0.634   \n",
       "170651                                         ['Eminem']         0.671   \n",
       "170652                              ['KEVVO', 'J Balvin']         0.856   \n",
       "\n",
       "        duration_ms  energy  explicit                      id  \\\n",
       "0            831667   0.211         0  4BJqT0PrAfrxzMOxytFOIz   \n",
       "1            180533   0.341         0  7xPhfUan2yNtyFG0cUWkt8   \n",
       "2            500062   0.166         0  1o6I8BglA6ylDMrIELygv1   \n",
       "3            210000   0.309         0  3ftBPsC5vPBKxYSee08FDH   \n",
       "4            166693   0.193         0  4d6HGyGT8e121BsdKmw9v6   \n",
       "...             ...     ...       ...                     ...   \n",
       "170648       301714   0.808         0  0KkIkfsLEJbrcIhYsCL7L5   \n",
       "170649       150654   0.753         0  0OStKKAuXlxA0fMH54Qs6E   \n",
       "170650       211280   0.858         0  4BZXVFYCb76Q0Klojq4piV   \n",
       "170651       337147   0.623         1  5SiZJoLXp3WOl3J4C8IK0d   \n",
       "170652       189507   0.721         1  7HmnJHfs0BkFzX4x8j0hkl   \n",
       "\n",
       "        instrumentalness  key  liveness  loudness  mode  \\\n",
       "0               0.878000   10    0.6650   -20.096     1   \n",
       "1               0.000000    7    0.1600   -12.441     1   \n",
       "2               0.913000    3    0.1010   -14.850     1   \n",
       "3               0.000028    5    0.3810    -9.316     1   \n",
       "4               0.000002    3    0.2290   -10.096     1   \n",
       "...                  ...  ...       ...       ...   ...   \n",
       "170648          0.000289    7    0.0822    -3.702     1   \n",
       "170649          0.000000    7    0.1010    -6.020     1   \n",
       "170650          0.000009    4    0.2580    -2.226     0   \n",
       "170651          0.000008    2    0.6430    -7.161     1   \n",
       "170652          0.004710    7    0.1820    -4.928     1   \n",
       "\n",
       "                                                     name  popularity  \\\n",
       "0       Piano Concerto No. 3 in D Minor, Op. 30: III. ...           4   \n",
       "1                                 Clancy Lowered the Boom           5   \n",
       "2                                               Gati Bali           5   \n",
       "3                                               Danny Boy           3   \n",
       "4                             When Irish Eyes Are Smiling           2   \n",
       "...                                                   ...         ...   \n",
       "170648                                              China          72   \n",
       "170649                        Halloweenie III: Seven Days          68   \n",
       "170650                                                AYA          76   \n",
       "170651                                           Darkness          70   \n",
       "170652                    Billetes Azules (with J Balvin)          74   \n",
       "\n",
       "       release_date  speechiness    tempo  \n",
       "0              1921       0.0366   80.954  \n",
       "1              1921       0.4150   60.936  \n",
       "2              1921       0.0339  110.339  \n",
       "3              1921       0.0354  100.109  \n",
       "4              1921       0.0380  101.665  \n",
       "...             ...          ...      ...  \n",
       "170648   2020-05-29       0.0881  105.029  \n",
       "170649   2020-10-23       0.0605  137.936  \n",
       "170650   2020-11-03       0.0809   91.688  \n",
       "170651   2020-01-17       0.3080   75.055  \n",
       "170652   2020-10-16       0.1080   94.991  \n",
       "\n",
       "[170653 rows x 19 columns]"
      ],
      "text/html": "<div>\n<style scoped>\n    .dataframe tbody tr th:only-of-type {\n        vertical-align: middle;\n    }\n\n    .dataframe tbody tr th {\n        vertical-align: top;\n    }\n\n    .dataframe thead th {\n        text-align: right;\n    }\n</style>\n<table border=\"1\" class=\"dataframe\">\n  <thead>\n    <tr style=\"text-align: right;\">\n      <th></th>\n      <th>valence</th>\n      <th>year</th>\n      <th>acousticness</th>\n      <th>artists</th>\n      <th>danceability</th>\n      <th>duration_ms</th>\n      <th>energy</th>\n      <th>explicit</th>\n      <th>id</th>\n      <th>instrumentalness</th>\n      <th>key</th>\n      <th>liveness</th>\n      <th>loudness</th>\n      <th>mode</th>\n      <th>name</th>\n      <th>popularity</th>\n      <th>release_date</th>\n      <th>speechiness</th>\n      <th>tempo</th>\n    </tr>\n  </thead>\n  <tbody>\n    <tr>\n      <th>0</th>\n      <td>0.0594</td>\n      <td>1921</td>\n      <td>0.98200</td>\n      <td>['Sergei Rachmaninoff', 'James Levine', 'Berli...</td>\n      <td>0.279</td>\n      <td>831667</td>\n      <td>0.211</td>\n      <td>0</td>\n      <td>4BJqT0PrAfrxzMOxytFOIz</td>\n      <td>0.878000</td>\n      <td>10</td>\n      <td>0.6650</td>\n      <td>-20.096</td>\n      <td>1</td>\n      <td>Piano Concerto No. 3 in D Minor, Op. 30: III. ...</td>\n      <td>4</td>\n      <td>1921</td>\n      <td>0.0366</td>\n      <td>80.954</td>\n    </tr>\n    <tr>\n      <th>1</th>\n      <td>0.9630</td>\n      <td>1921</td>\n      <td>0.73200</td>\n      <td>['Dennis Day']</td>\n      <td>0.819</td>\n      <td>180533</td>\n      <td>0.341</td>\n      <td>0</td>\n      <td>7xPhfUan2yNtyFG0cUWkt8</td>\n      <td>0.000000</td>\n      <td>7</td>\n      <td>0.1600</td>\n      <td>-12.441</td>\n      <td>1</td>\n      <td>Clancy Lowered the Boom</td>\n      <td>5</td>\n      <td>1921</td>\n      <td>0.4150</td>\n      <td>60.936</td>\n    </tr>\n    <tr>\n      <th>2</th>\n      <td>0.0394</td>\n      <td>1921</td>\n      <td>0.96100</td>\n      <td>['KHP Kridhamardawa Karaton Ngayogyakarta Hadi...</td>\n      <td>0.328</td>\n      <td>500062</td>\n      <td>0.166</td>\n      <td>0</td>\n      <td>1o6I8BglA6ylDMrIELygv1</td>\n      <td>0.913000</td>\n      <td>3</td>\n      <td>0.1010</td>\n      <td>-14.850</td>\n      <td>1</td>\n      <td>Gati Bali</td>\n      <td>5</td>\n      <td>1921</td>\n      <td>0.0339</td>\n      <td>110.339</td>\n    </tr>\n    <tr>\n      <th>3</th>\n      <td>0.1650</td>\n      <td>1921</td>\n      <td>0.96700</td>\n      <td>['Frank Parker']</td>\n      <td>0.275</td>\n      <td>210000</td>\n      <td>0.309</td>\n      <td>0</td>\n      <td>3ftBPsC5vPBKxYSee08FDH</td>\n      <td>0.000028</td>\n      <td>5</td>\n      <td>0.3810</td>\n      <td>-9.316</td>\n      <td>1</td>\n      <td>Danny Boy</td>\n      <td>3</td>\n      <td>1921</td>\n      <td>0.0354</td>\n      <td>100.109</td>\n    </tr>\n    <tr>\n      <th>4</th>\n      <td>0.2530</td>\n      <td>1921</td>\n      <td>0.95700</td>\n      <td>['Phil Regan']</td>\n      <td>0.418</td>\n      <td>166693</td>\n      <td>0.193</td>\n      <td>0</td>\n      <td>4d6HGyGT8e121BsdKmw9v6</td>\n      <td>0.000002</td>\n      <td>3</td>\n      <td>0.2290</td>\n      <td>-10.096</td>\n      <td>1</td>\n      <td>When Irish Eyes Are Smiling</td>\n      <td>2</td>\n      <td>1921</td>\n      <td>0.0380</td>\n      <td>101.665</td>\n    </tr>\n    <tr>\n      <th>...</th>\n      <td>...</td>\n      <td>...</td>\n      <td>...</td>\n      <td>...</td>\n      <td>...</td>\n      <td>...</td>\n      <td>...</td>\n      <td>...</td>\n      <td>...</td>\n      <td>...</td>\n      <td>...</td>\n      <td>...</td>\n      <td>...</td>\n      <td>...</td>\n      <td>...</td>\n      <td>...</td>\n      <td>...</td>\n      <td>...</td>\n      <td>...</td>\n    </tr>\n    <tr>\n      <th>170648</th>\n      <td>0.6080</td>\n      <td>2020</td>\n      <td>0.08460</td>\n      <td>['Anuel AA', 'Daddy Yankee', 'KAROL G', 'Ozuna...</td>\n      <td>0.786</td>\n      <td>301714</td>\n      <td>0.808</td>\n      <td>0</td>\n      <td>0KkIkfsLEJbrcIhYsCL7L5</td>\n      <td>0.000289</td>\n      <td>7</td>\n      <td>0.0822</td>\n      <td>-3.702</td>\n      <td>1</td>\n      <td>China</td>\n      <td>72</td>\n      <td>2020-05-29</td>\n      <td>0.0881</td>\n      <td>105.029</td>\n    </tr>\n    <tr>\n      <th>170649</th>\n      <td>0.7340</td>\n      <td>2020</td>\n      <td>0.20600</td>\n      <td>['Ashnikko']</td>\n      <td>0.717</td>\n      <td>150654</td>\n      <td>0.753</td>\n      <td>0</td>\n      <td>0OStKKAuXlxA0fMH54Qs6E</td>\n      <td>0.000000</td>\n      <td>7</td>\n      <td>0.1010</td>\n      <td>-6.020</td>\n      <td>1</td>\n      <td>Halloweenie III: Seven Days</td>\n      <td>68</td>\n      <td>2020-10-23</td>\n      <td>0.0605</td>\n      <td>137.936</td>\n    </tr>\n    <tr>\n      <th>170650</th>\n      <td>0.6370</td>\n      <td>2020</td>\n      <td>0.10100</td>\n      <td>['MAMAMOO']</td>\n      <td>0.634</td>\n      <td>211280</td>\n      <td>0.858</td>\n      <td>0</td>\n      <td>4BZXVFYCb76Q0Klojq4piV</td>\n      <td>0.000009</td>\n      <td>4</td>\n      <td>0.2580</td>\n      <td>-2.226</td>\n      <td>0</td>\n      <td>AYA</td>\n      <td>76</td>\n      <td>2020-11-03</td>\n      <td>0.0809</td>\n      <td>91.688</td>\n    </tr>\n    <tr>\n      <th>170651</th>\n      <td>0.1950</td>\n      <td>2020</td>\n      <td>0.00998</td>\n      <td>['Eminem']</td>\n      <td>0.671</td>\n      <td>337147</td>\n      <td>0.623</td>\n      <td>1</td>\n      <td>5SiZJoLXp3WOl3J4C8IK0d</td>\n      <td>0.000008</td>\n      <td>2</td>\n      <td>0.6430</td>\n      <td>-7.161</td>\n      <td>1</td>\n      <td>Darkness</td>\n      <td>70</td>\n      <td>2020-01-17</td>\n      <td>0.3080</td>\n      <td>75.055</td>\n    </tr>\n    <tr>\n      <th>170652</th>\n      <td>0.6420</td>\n      <td>2020</td>\n      <td>0.13200</td>\n      <td>['KEVVO', 'J Balvin']</td>\n      <td>0.856</td>\n      <td>189507</td>\n      <td>0.721</td>\n      <td>1</td>\n      <td>7HmnJHfs0BkFzX4x8j0hkl</td>\n      <td>0.004710</td>\n      <td>7</td>\n      <td>0.1820</td>\n      <td>-4.928</td>\n      <td>1</td>\n      <td>Billetes Azules (with J Balvin)</td>\n      <td>74</td>\n      <td>2020-10-16</td>\n      <td>0.1080</td>\n      <td>94.991</td>\n    </tr>\n  </tbody>\n</table>\n<p>170653 rows × 19 columns</p>\n</div>"
     },
     "metadata": {},
     "execution_count": 3
    }
   ],
   "source": [
    "df = pd.read_csv(r'C:\\Users\\USER\\UT-MCC-VIRT-DATA-PT-12-2020-U-B\\Week20\\final_project\\data\\original_data\\data_o.csv')\n",
    "df"
   ]
  },
  {
   "cell_type": "code",
   "execution_count": 4,
   "metadata": {},
   "outputs": [],
   "source": [
    "# Function to get mean\n",
    "def getMean(sampleList):\n",
    "    sampleSize = len(sampleList)\n",
    "    totalSum = 0\n",
    "    for row in sampleList:\n",
    "        totalSum = totalSum + row\n",
    "    mean = totalSum/sampleSize\n",
    "    return mean"
   ]
  },
  {
   "cell_type": "code",
   "execution_count": 5,
   "metadata": {},
   "outputs": [],
   "source": [
    "# Function to get std dev\n",
    "def getSD(sampleList, mean):\n",
    "    sumOfSquares = 0\n",
    "    sampleSize = len(sampleList)\n",
    "    for row in sampleList:\n",
    "        deviationScore = row - mean\n",
    "        sumOfSquares = deviationScore**2+sumOfSquares\n",
    "    \n",
    "    variance = sumOfSquares/sampleSize\n",
    "    SD = variance**0.5\n",
    "    return SD"
   ]
  },
  {
   "cell_type": "code",
   "execution_count": 6,
   "metadata": {},
   "outputs": [
    {
     "output_type": "execute_result",
     "data": {
      "text/plain": [
       "   acousticness  danceability  energy  instrumentalness  liveness  loudness  \\\n",
       "0         0.982         0.279   0.211          0.878000     0.665   -20.096   \n",
       "1         0.732         0.819   0.341          0.000000     0.160   -12.441   \n",
       "2         0.961         0.328   0.166          0.913000     0.101   -14.850   \n",
       "3         0.967         0.275   0.309          0.000028     0.381    -9.316   \n",
       "4         0.957         0.418   0.193          0.000002     0.229   -10.096   \n",
       "\n",
       "   popularity  speechiness    tempo  \n",
       "0           4       0.0366   80.954  \n",
       "1           5       0.4150   60.936  \n",
       "2           5       0.0339  110.339  \n",
       "3           3       0.0354  100.109  \n",
       "4           2       0.0380  101.665  "
      ],
      "text/html": "<div>\n<style scoped>\n    .dataframe tbody tr th:only-of-type {\n        vertical-align: middle;\n    }\n\n    .dataframe tbody tr th {\n        vertical-align: top;\n    }\n\n    .dataframe thead th {\n        text-align: right;\n    }\n</style>\n<table border=\"1\" class=\"dataframe\">\n  <thead>\n    <tr style=\"text-align: right;\">\n      <th></th>\n      <th>acousticness</th>\n      <th>danceability</th>\n      <th>energy</th>\n      <th>instrumentalness</th>\n      <th>liveness</th>\n      <th>loudness</th>\n      <th>popularity</th>\n      <th>speechiness</th>\n      <th>tempo</th>\n    </tr>\n  </thead>\n  <tbody>\n    <tr>\n      <th>0</th>\n      <td>0.982</td>\n      <td>0.279</td>\n      <td>0.211</td>\n      <td>0.878000</td>\n      <td>0.665</td>\n      <td>-20.096</td>\n      <td>4</td>\n      <td>0.0366</td>\n      <td>80.954</td>\n    </tr>\n    <tr>\n      <th>1</th>\n      <td>0.732</td>\n      <td>0.819</td>\n      <td>0.341</td>\n      <td>0.000000</td>\n      <td>0.160</td>\n      <td>-12.441</td>\n      <td>5</td>\n      <td>0.4150</td>\n      <td>60.936</td>\n    </tr>\n    <tr>\n      <th>2</th>\n      <td>0.961</td>\n      <td>0.328</td>\n      <td>0.166</td>\n      <td>0.913000</td>\n      <td>0.101</td>\n      <td>-14.850</td>\n      <td>5</td>\n      <td>0.0339</td>\n      <td>110.339</td>\n    </tr>\n    <tr>\n      <th>3</th>\n      <td>0.967</td>\n      <td>0.275</td>\n      <td>0.309</td>\n      <td>0.000028</td>\n      <td>0.381</td>\n      <td>-9.316</td>\n      <td>3</td>\n      <td>0.0354</td>\n      <td>100.109</td>\n    </tr>\n    <tr>\n      <th>4</th>\n      <td>0.957</td>\n      <td>0.418</td>\n      <td>0.193</td>\n      <td>0.000002</td>\n      <td>0.229</td>\n      <td>-10.096</td>\n      <td>2</td>\n      <td>0.0380</td>\n      <td>101.665</td>\n    </tr>\n  </tbody>\n</table>\n</div>"
     },
     "metadata": {},
     "execution_count": 6
    }
   ],
   "source": [
    "features = df[['acousticness','danceability','energy','instrumentalness','liveness','loudness','popularity','speechiness','tempo']]\n",
    "features.head()"
   ]
  },
  {
   "cell_type": "code",
   "execution_count": 7,
   "metadata": {},
   "outputs": [
    {
     "output_type": "execute_result",
     "data": {
      "text/plain": [
       "acousticness        float64\n",
       "danceability        float64\n",
       "energy              float64\n",
       "instrumentalness    float64\n",
       "liveness            float64\n",
       "loudness            float64\n",
       "popularity            int64\n",
       "speechiness         float64\n",
       "tempo               float64\n",
       "dtype: object"
      ]
     },
     "metadata": {},
     "execution_count": 7
    }
   ],
   "source": [
    "features.dtypes"
   ]
  },
  {
   "cell_type": "code",
   "execution_count": 8,
   "metadata": {},
   "outputs": [
    {
     "output_type": "stream",
     "name": "stdout",
     "text": [
      "acousticness          0.502115\ndanceability          0.537396\nenergy                0.482389\ninstrumentalness      0.167010\nliveness              0.205839\nloudness            -11.467990\npopularity           31.431794\nspeechiness           0.098393\ntempo               116.861590\ndtype: float64\n"
     ]
    }
   ],
   "source": [
    "mean_f = features.mean()\n",
    "print(mean_f)"
   ]
  },
  {
   "cell_type": "code",
   "execution_count": 9,
   "metadata": {},
   "outputs": [
    {
     "output_type": "stream",
     "name": "stdout",
     "text": [
      "acousticness         0.376032\ndanceability         0.176138\nenergy               0.267646\ninstrumentalness     0.313475\nliveness             0.174805\nloudness             5.697943\npopularity          21.826615\nspeechiness          0.162740\ntempo               30.708533\ndtype: float64\n"
     ]
    }
   ],
   "source": [
    "std_f = features.std()\n",
    "print(std_f)"
   ]
  },
  {
   "cell_type": "code",
   "execution_count": 10,
   "metadata": {},
   "outputs": [],
   "source": [
    "#for col in df.columns:\n",
    "    #col_zscore = col + '_zscore'\n",
    "    #features[col_zscore] = (features[col] - features[col].mean())/df[col].std(ddof=0)"
   ]
  },
  {
   "cell_type": "code",
   "execution_count": 11,
   "metadata": {},
   "outputs": [
    {
     "output_type": "execute_result",
     "data": {
      "text/plain": [
       "        acousticness  danceability  energy  instrumentalness  liveness  \\\n",
       "0            0.98200         0.279   0.211          0.878000    0.6650   \n",
       "1            0.73200         0.819   0.341          0.000000    0.1600   \n",
       "2            0.96100         0.328   0.166          0.913000    0.1010   \n",
       "3            0.96700         0.275   0.309          0.000028    0.3810   \n",
       "4            0.95700         0.418   0.193          0.000002    0.2290   \n",
       "...              ...           ...     ...               ...       ...   \n",
       "170648       0.08460         0.786   0.808          0.000289    0.0822   \n",
       "170649       0.20600         0.717   0.753          0.000000    0.1010   \n",
       "170650       0.10100         0.634   0.858          0.000009    0.2580   \n",
       "170651       0.00998         0.671   0.623          0.000008    0.6430   \n",
       "170652       0.13200         0.856   0.721          0.004710    0.1820   \n",
       "\n",
       "        loudness  popularity  speechiness    tempo  \n",
       "0        -20.096           4       0.0366   80.954  \n",
       "1        -12.441           5       0.4150   60.936  \n",
       "2        -14.850           5       0.0339  110.339  \n",
       "3         -9.316           3       0.0354  100.109  \n",
       "4        -10.096           2       0.0380  101.665  \n",
       "...          ...         ...          ...      ...  \n",
       "170648    -3.702          72       0.0881  105.029  \n",
       "170649    -6.020          68       0.0605  137.936  \n",
       "170650    -2.226          76       0.0809   91.688  \n",
       "170651    -7.161          70       0.3080   75.055  \n",
       "170652    -4.928          74       0.1080   94.991  \n",
       "\n",
       "[170653 rows x 9 columns]"
      ],
      "text/html": "<div>\n<style scoped>\n    .dataframe tbody tr th:only-of-type {\n        vertical-align: middle;\n    }\n\n    .dataframe tbody tr th {\n        vertical-align: top;\n    }\n\n    .dataframe thead th {\n        text-align: right;\n    }\n</style>\n<table border=\"1\" class=\"dataframe\">\n  <thead>\n    <tr style=\"text-align: right;\">\n      <th></th>\n      <th>acousticness</th>\n      <th>danceability</th>\n      <th>energy</th>\n      <th>instrumentalness</th>\n      <th>liveness</th>\n      <th>loudness</th>\n      <th>popularity</th>\n      <th>speechiness</th>\n      <th>tempo</th>\n    </tr>\n  </thead>\n  <tbody>\n    <tr>\n      <th>0</th>\n      <td>0.98200</td>\n      <td>0.279</td>\n      <td>0.211</td>\n      <td>0.878000</td>\n      <td>0.6650</td>\n      <td>-20.096</td>\n      <td>4</td>\n      <td>0.0366</td>\n      <td>80.954</td>\n    </tr>\n    <tr>\n      <th>1</th>\n      <td>0.73200</td>\n      <td>0.819</td>\n      <td>0.341</td>\n      <td>0.000000</td>\n      <td>0.1600</td>\n      <td>-12.441</td>\n      <td>5</td>\n      <td>0.4150</td>\n      <td>60.936</td>\n    </tr>\n    <tr>\n      <th>2</th>\n      <td>0.96100</td>\n      <td>0.328</td>\n      <td>0.166</td>\n      <td>0.913000</td>\n      <td>0.1010</td>\n      <td>-14.850</td>\n      <td>5</td>\n      <td>0.0339</td>\n      <td>110.339</td>\n    </tr>\n    <tr>\n      <th>3</th>\n      <td>0.96700</td>\n      <td>0.275</td>\n      <td>0.309</td>\n      <td>0.000028</td>\n      <td>0.3810</td>\n      <td>-9.316</td>\n      <td>3</td>\n      <td>0.0354</td>\n      <td>100.109</td>\n    </tr>\n    <tr>\n      <th>4</th>\n      <td>0.95700</td>\n      <td>0.418</td>\n      <td>0.193</td>\n      <td>0.000002</td>\n      <td>0.2290</td>\n      <td>-10.096</td>\n      <td>2</td>\n      <td>0.0380</td>\n      <td>101.665</td>\n    </tr>\n    <tr>\n      <th>...</th>\n      <td>...</td>\n      <td>...</td>\n      <td>...</td>\n      <td>...</td>\n      <td>...</td>\n      <td>...</td>\n      <td>...</td>\n      <td>...</td>\n      <td>...</td>\n    </tr>\n    <tr>\n      <th>170648</th>\n      <td>0.08460</td>\n      <td>0.786</td>\n      <td>0.808</td>\n      <td>0.000289</td>\n      <td>0.0822</td>\n      <td>-3.702</td>\n      <td>72</td>\n      <td>0.0881</td>\n      <td>105.029</td>\n    </tr>\n    <tr>\n      <th>170649</th>\n      <td>0.20600</td>\n      <td>0.717</td>\n      <td>0.753</td>\n      <td>0.000000</td>\n      <td>0.1010</td>\n      <td>-6.020</td>\n      <td>68</td>\n      <td>0.0605</td>\n      <td>137.936</td>\n    </tr>\n    <tr>\n      <th>170650</th>\n      <td>0.10100</td>\n      <td>0.634</td>\n      <td>0.858</td>\n      <td>0.000009</td>\n      <td>0.2580</td>\n      <td>-2.226</td>\n      <td>76</td>\n      <td>0.0809</td>\n      <td>91.688</td>\n    </tr>\n    <tr>\n      <th>170651</th>\n      <td>0.00998</td>\n      <td>0.671</td>\n      <td>0.623</td>\n      <td>0.000008</td>\n      <td>0.6430</td>\n      <td>-7.161</td>\n      <td>70</td>\n      <td>0.3080</td>\n      <td>75.055</td>\n    </tr>\n    <tr>\n      <th>170652</th>\n      <td>0.13200</td>\n      <td>0.856</td>\n      <td>0.721</td>\n      <td>0.004710</td>\n      <td>0.1820</td>\n      <td>-4.928</td>\n      <td>74</td>\n      <td>0.1080</td>\n      <td>94.991</td>\n    </tr>\n  </tbody>\n</table>\n<p>170653 rows × 9 columns</p>\n</div>"
     },
     "metadata": {},
     "execution_count": 11
    }
   ],
   "source": [
    "cols = list(features.columns)\n",
    "features[cols]"
   ]
  },
  {
   "cell_type": "code",
   "execution_count": 12,
   "metadata": {},
   "outputs": [
    {
     "output_type": "stream",
     "name": "stderr",
     "text": [
      "C:\\Users\\USER\\anaconda3\\envs\\mlenv\\lib\\site-packages\\ipykernel_launcher.py:3: SettingWithCopyWarning: \nA value is trying to be set on a copy of a slice from a DataFrame.\nTry using .loc[row_indexer,col_indexer] = value instead\n\nSee the caveats in the documentation: https://pandas.pydata.org/pandas-docs/stable/user_guide/indexing.html#returning-a-view-versus-a-copy\n  This is separate from the ipykernel package so we can avoid doing imports until\n"
     ]
    },
    {
     "output_type": "execute_result",
     "data": {
      "text/plain": [
       "        acousticness  danceability  energy  instrumentalness  liveness  \\\n",
       "0            0.98200         0.279   0.211          0.878000    0.6650   \n",
       "1            0.73200         0.819   0.341          0.000000    0.1600   \n",
       "2            0.96100         0.328   0.166          0.913000    0.1010   \n",
       "3            0.96700         0.275   0.309          0.000028    0.3810   \n",
       "4            0.95700         0.418   0.193          0.000002    0.2290   \n",
       "...              ...           ...     ...               ...       ...   \n",
       "170648       0.08460         0.786   0.808          0.000289    0.0822   \n",
       "170649       0.20600         0.717   0.753          0.000000    0.1010   \n",
       "170650       0.10100         0.634   0.858          0.000009    0.2580   \n",
       "170651       0.00998         0.671   0.623          0.000008    0.6430   \n",
       "170652       0.13200         0.856   0.721          0.004710    0.1820   \n",
       "\n",
       "        loudness  popularity  speechiness    tempo  acousticness_zscore  \\\n",
       "0        -20.096           4       0.0366   80.954             1.276187   \n",
       "1        -12.441           5       0.4150   60.936             0.611347   \n",
       "2        -14.850           5       0.0339  110.339             1.220340   \n",
       "3         -9.316           3       0.0354  100.109             1.236296   \n",
       "4        -10.096           2       0.0380  101.665             1.209703   \n",
       "...          ...         ...          ...      ...                  ...   \n",
       "170648    -3.702          72       0.0881  105.029            -1.110321   \n",
       "170649    -6.020          68       0.0605  137.936            -0.787475   \n",
       "170650    -2.226          76       0.0809   91.688            -1.066708   \n",
       "170651    -7.161          70       0.3080   75.055            -1.308762   \n",
       "170652    -4.928          74       0.1080   94.991            -0.984268   \n",
       "\n",
       "        danceability_zscore  energy_zscore  instrumentalness_zscore  \\\n",
       "0                 -1.467013      -1.013988                 2.268102   \n",
       "1                  1.598779      -0.528270                -0.532771   \n",
       "2                 -1.188820      -1.182122                 2.379754   \n",
       "3                 -1.489722      -0.647832                -0.532682   \n",
       "4                 -0.677855      -1.081242                -0.532765   \n",
       "...                     ...            ...                      ...   \n",
       "170648             1.411425       1.216579                -0.531849   \n",
       "170649             1.019685       1.011083                -0.532771   \n",
       "170650             0.548461       1.403394                -0.532743   \n",
       "170651             0.758525       0.525365                -0.532746   \n",
       "170652             1.808842       0.891521                -0.517745   \n",
       "\n",
       "        liveness_zscore  loudness_zscore  popularity_zscore  \\\n",
       "0              2.626719        -1.514237          -1.256808   \n",
       "1             -0.262229        -0.170766          -1.210993   \n",
       "2             -0.599749        -0.593551          -1.210993   \n",
       "3              1.002043         0.377680          -1.302624   \n",
       "4              0.132499         0.240788          -1.348440   \n",
       "...                 ...              ...                ...   \n",
       "170648        -0.707298         1.362950           1.858663   \n",
       "170649        -0.599749         0.956136           1.675400   \n",
       "170650         0.298399         1.621992           2.041926   \n",
       "170651         2.500864         0.755887           1.767032   \n",
       "170652        -0.136374         1.147784           1.950295   \n",
       "\n",
       "        speechiness_zscore  tempo_zscore  \n",
       "0                -0.379706     -1.169307  \n",
       "1                 1.945481     -1.821180  \n",
       "2                -0.396297     -0.212404  \n",
       "3                -0.387080     -0.545537  \n",
       "4                -0.371104     -0.494867  \n",
       "...                    ...           ...  \n",
       "170648           -0.063250     -0.385320  \n",
       "170649           -0.232846      0.686274  \n",
       "170650           -0.107492     -0.819761  \n",
       "170651            1.287989     -1.361404  \n",
       "170652            0.059031     -0.712201  \n",
       "\n",
       "[170653 rows x 18 columns]"
      ],
      "text/html": "<div>\n<style scoped>\n    .dataframe tbody tr th:only-of-type {\n        vertical-align: middle;\n    }\n\n    .dataframe tbody tr th {\n        vertical-align: top;\n    }\n\n    .dataframe thead th {\n        text-align: right;\n    }\n</style>\n<table border=\"1\" class=\"dataframe\">\n  <thead>\n    <tr style=\"text-align: right;\">\n      <th></th>\n      <th>acousticness</th>\n      <th>danceability</th>\n      <th>energy</th>\n      <th>instrumentalness</th>\n      <th>liveness</th>\n      <th>loudness</th>\n      <th>popularity</th>\n      <th>speechiness</th>\n      <th>tempo</th>\n      <th>acousticness_zscore</th>\n      <th>danceability_zscore</th>\n      <th>energy_zscore</th>\n      <th>instrumentalness_zscore</th>\n      <th>liveness_zscore</th>\n      <th>loudness_zscore</th>\n      <th>popularity_zscore</th>\n      <th>speechiness_zscore</th>\n      <th>tempo_zscore</th>\n    </tr>\n  </thead>\n  <tbody>\n    <tr>\n      <th>0</th>\n      <td>0.98200</td>\n      <td>0.279</td>\n      <td>0.211</td>\n      <td>0.878000</td>\n      <td>0.6650</td>\n      <td>-20.096</td>\n      <td>4</td>\n      <td>0.0366</td>\n      <td>80.954</td>\n      <td>1.276187</td>\n      <td>-1.467013</td>\n      <td>-1.013988</td>\n      <td>2.268102</td>\n      <td>2.626719</td>\n      <td>-1.514237</td>\n      <td>-1.256808</td>\n      <td>-0.379706</td>\n      <td>-1.169307</td>\n    </tr>\n    <tr>\n      <th>1</th>\n      <td>0.73200</td>\n      <td>0.819</td>\n      <td>0.341</td>\n      <td>0.000000</td>\n      <td>0.1600</td>\n      <td>-12.441</td>\n      <td>5</td>\n      <td>0.4150</td>\n      <td>60.936</td>\n      <td>0.611347</td>\n      <td>1.598779</td>\n      <td>-0.528270</td>\n      <td>-0.532771</td>\n      <td>-0.262229</td>\n      <td>-0.170766</td>\n      <td>-1.210993</td>\n      <td>1.945481</td>\n      <td>-1.821180</td>\n    </tr>\n    <tr>\n      <th>2</th>\n      <td>0.96100</td>\n      <td>0.328</td>\n      <td>0.166</td>\n      <td>0.913000</td>\n      <td>0.1010</td>\n      <td>-14.850</td>\n      <td>5</td>\n      <td>0.0339</td>\n      <td>110.339</td>\n      <td>1.220340</td>\n      <td>-1.188820</td>\n      <td>-1.182122</td>\n      <td>2.379754</td>\n      <td>-0.599749</td>\n      <td>-0.593551</td>\n      <td>-1.210993</td>\n      <td>-0.396297</td>\n      <td>-0.212404</td>\n    </tr>\n    <tr>\n      <th>3</th>\n      <td>0.96700</td>\n      <td>0.275</td>\n      <td>0.309</td>\n      <td>0.000028</td>\n      <td>0.3810</td>\n      <td>-9.316</td>\n      <td>3</td>\n      <td>0.0354</td>\n      <td>100.109</td>\n      <td>1.236296</td>\n      <td>-1.489722</td>\n      <td>-0.647832</td>\n      <td>-0.532682</td>\n      <td>1.002043</td>\n      <td>0.377680</td>\n      <td>-1.302624</td>\n      <td>-0.387080</td>\n      <td>-0.545537</td>\n    </tr>\n    <tr>\n      <th>4</th>\n      <td>0.95700</td>\n      <td>0.418</td>\n      <td>0.193</td>\n      <td>0.000002</td>\n      <td>0.2290</td>\n      <td>-10.096</td>\n      <td>2</td>\n      <td>0.0380</td>\n      <td>101.665</td>\n      <td>1.209703</td>\n      <td>-0.677855</td>\n      <td>-1.081242</td>\n      <td>-0.532765</td>\n      <td>0.132499</td>\n      <td>0.240788</td>\n      <td>-1.348440</td>\n      <td>-0.371104</td>\n      <td>-0.494867</td>\n    </tr>\n    <tr>\n      <th>...</th>\n      <td>...</td>\n      <td>...</td>\n      <td>...</td>\n      <td>...</td>\n      <td>...</td>\n      <td>...</td>\n      <td>...</td>\n      <td>...</td>\n      <td>...</td>\n      <td>...</td>\n      <td>...</td>\n      <td>...</td>\n      <td>...</td>\n      <td>...</td>\n      <td>...</td>\n      <td>...</td>\n      <td>...</td>\n      <td>...</td>\n    </tr>\n    <tr>\n      <th>170648</th>\n      <td>0.08460</td>\n      <td>0.786</td>\n      <td>0.808</td>\n      <td>0.000289</td>\n      <td>0.0822</td>\n      <td>-3.702</td>\n      <td>72</td>\n      <td>0.0881</td>\n      <td>105.029</td>\n      <td>-1.110321</td>\n      <td>1.411425</td>\n      <td>1.216579</td>\n      <td>-0.531849</td>\n      <td>-0.707298</td>\n      <td>1.362950</td>\n      <td>1.858663</td>\n      <td>-0.063250</td>\n      <td>-0.385320</td>\n    </tr>\n    <tr>\n      <th>170649</th>\n      <td>0.20600</td>\n      <td>0.717</td>\n      <td>0.753</td>\n      <td>0.000000</td>\n      <td>0.1010</td>\n      <td>-6.020</td>\n      <td>68</td>\n      <td>0.0605</td>\n      <td>137.936</td>\n      <td>-0.787475</td>\n      <td>1.019685</td>\n      <td>1.011083</td>\n      <td>-0.532771</td>\n      <td>-0.599749</td>\n      <td>0.956136</td>\n      <td>1.675400</td>\n      <td>-0.232846</td>\n      <td>0.686274</td>\n    </tr>\n    <tr>\n      <th>170650</th>\n      <td>0.10100</td>\n      <td>0.634</td>\n      <td>0.858</td>\n      <td>0.000009</td>\n      <td>0.2580</td>\n      <td>-2.226</td>\n      <td>76</td>\n      <td>0.0809</td>\n      <td>91.688</td>\n      <td>-1.066708</td>\n      <td>0.548461</td>\n      <td>1.403394</td>\n      <td>-0.532743</td>\n      <td>0.298399</td>\n      <td>1.621992</td>\n      <td>2.041926</td>\n      <td>-0.107492</td>\n      <td>-0.819761</td>\n    </tr>\n    <tr>\n      <th>170651</th>\n      <td>0.00998</td>\n      <td>0.671</td>\n      <td>0.623</td>\n      <td>0.000008</td>\n      <td>0.6430</td>\n      <td>-7.161</td>\n      <td>70</td>\n      <td>0.3080</td>\n      <td>75.055</td>\n      <td>-1.308762</td>\n      <td>0.758525</td>\n      <td>0.525365</td>\n      <td>-0.532746</td>\n      <td>2.500864</td>\n      <td>0.755887</td>\n      <td>1.767032</td>\n      <td>1.287989</td>\n      <td>-1.361404</td>\n    </tr>\n    <tr>\n      <th>170652</th>\n      <td>0.13200</td>\n      <td>0.856</td>\n      <td>0.721</td>\n      <td>0.004710</td>\n      <td>0.1820</td>\n      <td>-4.928</td>\n      <td>74</td>\n      <td>0.1080</td>\n      <td>94.991</td>\n      <td>-0.984268</td>\n      <td>1.808842</td>\n      <td>0.891521</td>\n      <td>-0.517745</td>\n      <td>-0.136374</td>\n      <td>1.147784</td>\n      <td>1.950295</td>\n      <td>0.059031</td>\n      <td>-0.712201</td>\n    </tr>\n  </tbody>\n</table>\n<p>170653 rows × 18 columns</p>\n</div>"
     },
     "metadata": {},
     "execution_count": 12
    }
   ],
   "source": [
    "for col in cols:\n",
    "    col_zscore = col + '_zscore'\n",
    "    features[col_zscore] = (features[col] - features[col].mean())/features[col].std(ddof=0)\n",
    "\n",
    "features"
   ]
  },
  {
   "cell_type": "code",
   "execution_count": 13,
   "metadata": {},
   "outputs": [],
   "source": [
    "features['acousticness_p_values'] = 1- ndtr(features['acousticness_zscore'])\r\n",
    "features['danceability_p_values'] = 1 - ndtr(features['danceability_zscore'])\r\n",
    "features['energy_p_values'] = 1 - ndtr(features['energy_zscore'])\r\n",
    "features['instrumentalness_p_values'] = 1- ndtr(features['instrumentalness_zscore'])\n",
    "features['liveness_p_values'] = 1 - ndtr(features['liveness_zscore'])\r\n",
    "features['loudness_p_values'] = 1 - ndtr(features['loudness_zscore'])\r\n",
    "features['popularity_p_values'] = 1- ndtr(features['popularity_zscore'])\r\n",
    "features['speechiness_p_values'] = 1 - ndtr(features['speechiness_zscore'])\r\n",
    "features['tempo_p_values'] = 1 - ndtr(features['tempo_zscore'])"
   ]
  },
  {
   "cell_type": "code",
   "execution_count": 14,
   "metadata": {},
   "outputs": [
    {
     "output_type": "execute_result",
     "data": {
      "text/plain": [
       "        acousticness  danceability  energy  instrumentalness  liveness  \\\n",
       "0            0.98200         0.279   0.211          0.878000    0.6650   \n",
       "1            0.73200         0.819   0.341          0.000000    0.1600   \n",
       "2            0.96100         0.328   0.166          0.913000    0.1010   \n",
       "3            0.96700         0.275   0.309          0.000028    0.3810   \n",
       "4            0.95700         0.418   0.193          0.000002    0.2290   \n",
       "...              ...           ...     ...               ...       ...   \n",
       "170648       0.08460         0.786   0.808          0.000289    0.0822   \n",
       "170649       0.20600         0.717   0.753          0.000000    0.1010   \n",
       "170650       0.10100         0.634   0.858          0.000009    0.2580   \n",
       "170651       0.00998         0.671   0.623          0.000008    0.6430   \n",
       "170652       0.13200         0.856   0.721          0.004710    0.1820   \n",
       "\n",
       "        loudness  popularity  speechiness    tempo  acousticness_zscore  ...  \\\n",
       "0        -20.096           4       0.0366   80.954             1.276187  ...   \n",
       "1        -12.441           5       0.4150   60.936             0.611347  ...   \n",
       "2        -14.850           5       0.0339  110.339             1.220340  ...   \n",
       "3         -9.316           3       0.0354  100.109             1.236296  ...   \n",
       "4        -10.096           2       0.0380  101.665             1.209703  ...   \n",
       "...          ...         ...          ...      ...                  ...  ...   \n",
       "170648    -3.702          72       0.0881  105.029            -1.110321  ...   \n",
       "170649    -6.020          68       0.0605  137.936            -0.787475  ...   \n",
       "170650    -2.226          76       0.0809   91.688            -1.066708  ...   \n",
       "170651    -7.161          70       0.3080   75.055            -1.308762  ...   \n",
       "170652    -4.928          74       0.1080   94.991            -0.984268  ...   \n",
       "\n",
       "        tempo_zscore  acousticness_p_values  danceability_p_values  \\\n",
       "0          -1.169307               0.100945               0.928814   \n",
       "1          -1.821180               0.270485               0.054935   \n",
       "2          -0.212404               0.111168               0.882745   \n",
       "3          -0.545537               0.108174               0.931851   \n",
       "4          -0.494867               0.113197               0.751068   \n",
       "...              ...                    ...                    ...   \n",
       "170648     -0.385320               0.866570               0.079060   \n",
       "170649      0.686274               0.784498               0.153939   \n",
       "170650     -0.819761               0.856948               0.291688   \n",
       "170651     -1.361404               0.904693               0.224068   \n",
       "170652     -0.712201               0.837508               0.035238   \n",
       "\n",
       "        energy_p_values  instrumentalness_p_values  liveness_p_values  \\\n",
       "0              0.844706                   0.011661           0.004311   \n",
       "1              0.701344                   0.702904           0.603427   \n",
       "2              0.881421                   0.008662           0.725663   \n",
       "3              0.741453                   0.702873           0.158161   \n",
       "4              0.860205                   0.702902           0.447295   \n",
       "...                 ...                        ...                ...   \n",
       "170648         0.111882                   0.702585           0.760309   \n",
       "170649         0.155988                   0.702904           0.725663   \n",
       "170650         0.080250                   0.702894           0.382699   \n",
       "170651         0.299665                   0.702895           0.006195   \n",
       "170652         0.186325                   0.697682           0.554237   \n",
       "\n",
       "        loudness_p_values  popularity_p_values  speechiness_p_values  \\\n",
       "0                0.935017             0.895589              0.647918   \n",
       "1                0.567796             0.887051              0.025859   \n",
       "2                0.723594             0.887051              0.654057   \n",
       "3                0.352834             0.903648              0.650652   \n",
       "4                0.404860             0.911242              0.644720   \n",
       "...                   ...                  ...                   ...   \n",
       "170648           0.086449             0.031537              0.525216   \n",
       "170649           0.169502             0.046928              0.592060   \n",
       "170650           0.052403             0.020579              0.542801   \n",
       "170651           0.224858             0.038611              0.098875   \n",
       "170652           0.125529             0.025571              0.476464   \n",
       "\n",
       "        tempo_p_values  \n",
       "0             0.878860  \n",
       "1             0.965710  \n",
       "2             0.584104  \n",
       "3             0.707308  \n",
       "4             0.689653  \n",
       "...                ...  \n",
       "170648        0.650000  \n",
       "170649        0.246270  \n",
       "170650        0.793824  \n",
       "170651        0.913307  \n",
       "170652        0.761830  \n",
       "\n",
       "[170653 rows x 27 columns]"
      ],
      "text/html": "<div>\n<style scoped>\n    .dataframe tbody tr th:only-of-type {\n        vertical-align: middle;\n    }\n\n    .dataframe tbody tr th {\n        vertical-align: top;\n    }\n\n    .dataframe thead th {\n        text-align: right;\n    }\n</style>\n<table border=\"1\" class=\"dataframe\">\n  <thead>\n    <tr style=\"text-align: right;\">\n      <th></th>\n      <th>acousticness</th>\n      <th>danceability</th>\n      <th>energy</th>\n      <th>instrumentalness</th>\n      <th>liveness</th>\n      <th>loudness</th>\n      <th>popularity</th>\n      <th>speechiness</th>\n      <th>tempo</th>\n      <th>acousticness_zscore</th>\n      <th>...</th>\n      <th>tempo_zscore</th>\n      <th>acousticness_p_values</th>\n      <th>danceability_p_values</th>\n      <th>energy_p_values</th>\n      <th>instrumentalness_p_values</th>\n      <th>liveness_p_values</th>\n      <th>loudness_p_values</th>\n      <th>popularity_p_values</th>\n      <th>speechiness_p_values</th>\n      <th>tempo_p_values</th>\n    </tr>\n  </thead>\n  <tbody>\n    <tr>\n      <th>0</th>\n      <td>0.98200</td>\n      <td>0.279</td>\n      <td>0.211</td>\n      <td>0.878000</td>\n      <td>0.6650</td>\n      <td>-20.096</td>\n      <td>4</td>\n      <td>0.0366</td>\n      <td>80.954</td>\n      <td>1.276187</td>\n      <td>...</td>\n      <td>-1.169307</td>\n      <td>0.100945</td>\n      <td>0.928814</td>\n      <td>0.844706</td>\n      <td>0.011661</td>\n      <td>0.004311</td>\n      <td>0.935017</td>\n      <td>0.895589</td>\n      <td>0.647918</td>\n      <td>0.878860</td>\n    </tr>\n    <tr>\n      <th>1</th>\n      <td>0.73200</td>\n      <td>0.819</td>\n      <td>0.341</td>\n      <td>0.000000</td>\n      <td>0.1600</td>\n      <td>-12.441</td>\n      <td>5</td>\n      <td>0.4150</td>\n      <td>60.936</td>\n      <td>0.611347</td>\n      <td>...</td>\n      <td>-1.821180</td>\n      <td>0.270485</td>\n      <td>0.054935</td>\n      <td>0.701344</td>\n      <td>0.702904</td>\n      <td>0.603427</td>\n      <td>0.567796</td>\n      <td>0.887051</td>\n      <td>0.025859</td>\n      <td>0.965710</td>\n    </tr>\n    <tr>\n      <th>2</th>\n      <td>0.96100</td>\n      <td>0.328</td>\n      <td>0.166</td>\n      <td>0.913000</td>\n      <td>0.1010</td>\n      <td>-14.850</td>\n      <td>5</td>\n      <td>0.0339</td>\n      <td>110.339</td>\n      <td>1.220340</td>\n      <td>...</td>\n      <td>-0.212404</td>\n      <td>0.111168</td>\n      <td>0.882745</td>\n      <td>0.881421</td>\n      <td>0.008662</td>\n      <td>0.725663</td>\n      <td>0.723594</td>\n      <td>0.887051</td>\n      <td>0.654057</td>\n      <td>0.584104</td>\n    </tr>\n    <tr>\n      <th>3</th>\n      <td>0.96700</td>\n      <td>0.275</td>\n      <td>0.309</td>\n      <td>0.000028</td>\n      <td>0.3810</td>\n      <td>-9.316</td>\n      <td>3</td>\n      <td>0.0354</td>\n      <td>100.109</td>\n      <td>1.236296</td>\n      <td>...</td>\n      <td>-0.545537</td>\n      <td>0.108174</td>\n      <td>0.931851</td>\n      <td>0.741453</td>\n      <td>0.702873</td>\n      <td>0.158161</td>\n      <td>0.352834</td>\n      <td>0.903648</td>\n      <td>0.650652</td>\n      <td>0.707308</td>\n    </tr>\n    <tr>\n      <th>4</th>\n      <td>0.95700</td>\n      <td>0.418</td>\n      <td>0.193</td>\n      <td>0.000002</td>\n      <td>0.2290</td>\n      <td>-10.096</td>\n      <td>2</td>\n      <td>0.0380</td>\n      <td>101.665</td>\n      <td>1.209703</td>\n      <td>...</td>\n      <td>-0.494867</td>\n      <td>0.113197</td>\n      <td>0.751068</td>\n      <td>0.860205</td>\n      <td>0.702902</td>\n      <td>0.447295</td>\n      <td>0.404860</td>\n      <td>0.911242</td>\n      <td>0.644720</td>\n      <td>0.689653</td>\n    </tr>\n    <tr>\n      <th>...</th>\n      <td>...</td>\n      <td>...</td>\n      <td>...</td>\n      <td>...</td>\n      <td>...</td>\n      <td>...</td>\n      <td>...</td>\n      <td>...</td>\n      <td>...</td>\n      <td>...</td>\n      <td>...</td>\n      <td>...</td>\n      <td>...</td>\n      <td>...</td>\n      <td>...</td>\n      <td>...</td>\n      <td>...</td>\n      <td>...</td>\n      <td>...</td>\n      <td>...</td>\n      <td>...</td>\n    </tr>\n    <tr>\n      <th>170648</th>\n      <td>0.08460</td>\n      <td>0.786</td>\n      <td>0.808</td>\n      <td>0.000289</td>\n      <td>0.0822</td>\n      <td>-3.702</td>\n      <td>72</td>\n      <td>0.0881</td>\n      <td>105.029</td>\n      <td>-1.110321</td>\n      <td>...</td>\n      <td>-0.385320</td>\n      <td>0.866570</td>\n      <td>0.079060</td>\n      <td>0.111882</td>\n      <td>0.702585</td>\n      <td>0.760309</td>\n      <td>0.086449</td>\n      <td>0.031537</td>\n      <td>0.525216</td>\n      <td>0.650000</td>\n    </tr>\n    <tr>\n      <th>170649</th>\n      <td>0.20600</td>\n      <td>0.717</td>\n      <td>0.753</td>\n      <td>0.000000</td>\n      <td>0.1010</td>\n      <td>-6.020</td>\n      <td>68</td>\n      <td>0.0605</td>\n      <td>137.936</td>\n      <td>-0.787475</td>\n      <td>...</td>\n      <td>0.686274</td>\n      <td>0.784498</td>\n      <td>0.153939</td>\n      <td>0.155988</td>\n      <td>0.702904</td>\n      <td>0.725663</td>\n      <td>0.169502</td>\n      <td>0.046928</td>\n      <td>0.592060</td>\n      <td>0.246270</td>\n    </tr>\n    <tr>\n      <th>170650</th>\n      <td>0.10100</td>\n      <td>0.634</td>\n      <td>0.858</td>\n      <td>0.000009</td>\n      <td>0.2580</td>\n      <td>-2.226</td>\n      <td>76</td>\n      <td>0.0809</td>\n      <td>91.688</td>\n      <td>-1.066708</td>\n      <td>...</td>\n      <td>-0.819761</td>\n      <td>0.856948</td>\n      <td>0.291688</td>\n      <td>0.080250</td>\n      <td>0.702894</td>\n      <td>0.382699</td>\n      <td>0.052403</td>\n      <td>0.020579</td>\n      <td>0.542801</td>\n      <td>0.793824</td>\n    </tr>\n    <tr>\n      <th>170651</th>\n      <td>0.00998</td>\n      <td>0.671</td>\n      <td>0.623</td>\n      <td>0.000008</td>\n      <td>0.6430</td>\n      <td>-7.161</td>\n      <td>70</td>\n      <td>0.3080</td>\n      <td>75.055</td>\n      <td>-1.308762</td>\n      <td>...</td>\n      <td>-1.361404</td>\n      <td>0.904693</td>\n      <td>0.224068</td>\n      <td>0.299665</td>\n      <td>0.702895</td>\n      <td>0.006195</td>\n      <td>0.224858</td>\n      <td>0.038611</td>\n      <td>0.098875</td>\n      <td>0.913307</td>\n    </tr>\n    <tr>\n      <th>170652</th>\n      <td>0.13200</td>\n      <td>0.856</td>\n      <td>0.721</td>\n      <td>0.004710</td>\n      <td>0.1820</td>\n      <td>-4.928</td>\n      <td>74</td>\n      <td>0.1080</td>\n      <td>94.991</td>\n      <td>-0.984268</td>\n      <td>...</td>\n      <td>-0.712201</td>\n      <td>0.837508</td>\n      <td>0.035238</td>\n      <td>0.186325</td>\n      <td>0.697682</td>\n      <td>0.554237</td>\n      <td>0.125529</td>\n      <td>0.025571</td>\n      <td>0.476464</td>\n      <td>0.761830</td>\n    </tr>\n  </tbody>\n</table>\n<p>170653 rows × 27 columns</p>\n</div>"
     },
     "metadata": {},
     "execution_count": 14
    }
   ],
   "source": [
    "features"
   ]
  },
  {
   "cell_type": "code",
   "execution_count": 17,
   "metadata": {},
   "outputs": [
    {
     "output_type": "execute_result",
     "data": {
      "text/plain": [
       "        acousticness_p_values  danceability_p_values  energy_p_values  \\\n",
       "0                    0.100945               0.928814         0.844706   \n",
       "1                    0.270485               0.054935         0.701344   \n",
       "2                    0.111168               0.882745         0.881421   \n",
       "3                    0.108174               0.931851         0.741453   \n",
       "4                    0.113197               0.751068         0.860205   \n",
       "...                       ...                    ...              ...   \n",
       "170648               0.866570               0.079060         0.111882   \n",
       "170649               0.784498               0.153939         0.155988   \n",
       "170650               0.856948               0.291688         0.080250   \n",
       "170651               0.904693               0.224068         0.299665   \n",
       "170652               0.837508               0.035238         0.186325   \n",
       "\n",
       "        instrumentalness_p_values  liveness_p_values  loudness_p_values  \\\n",
       "0                        0.011661           0.004311           0.935017   \n",
       "1                        0.702904           0.603427           0.567796   \n",
       "2                        0.008662           0.725663           0.723594   \n",
       "3                        0.702873           0.158161           0.352834   \n",
       "4                        0.702902           0.447295           0.404860   \n",
       "...                           ...                ...                ...   \n",
       "170648                   0.702585           0.760309           0.086449   \n",
       "170649                   0.702904           0.725663           0.169502   \n",
       "170650                   0.702894           0.382699           0.052403   \n",
       "170651                   0.702895           0.006195           0.224858   \n",
       "170652                   0.697682           0.554237           0.125529   \n",
       "\n",
       "        popularity_p_values  speechiness_p_values  tempo_p_values  \n",
       "0                  0.895589              0.647918        0.878860  \n",
       "1                  0.887051              0.025859        0.965710  \n",
       "2                  0.887051              0.654057        0.584104  \n",
       "3                  0.903648              0.650652        0.707308  \n",
       "4                  0.911242              0.644720        0.689653  \n",
       "...                     ...                   ...             ...  \n",
       "170648             0.031537              0.525216        0.650000  \n",
       "170649             0.046928              0.592060        0.246270  \n",
       "170650             0.020579              0.542801        0.793824  \n",
       "170651             0.038611              0.098875        0.913307  \n",
       "170652             0.025571              0.476464        0.761830  \n",
       "\n",
       "[170653 rows x 9 columns]"
      ],
      "text/html": "<div>\n<style scoped>\n    .dataframe tbody tr th:only-of-type {\n        vertical-align: middle;\n    }\n\n    .dataframe tbody tr th {\n        vertical-align: top;\n    }\n\n    .dataframe thead th {\n        text-align: right;\n    }\n</style>\n<table border=\"1\" class=\"dataframe\">\n  <thead>\n    <tr style=\"text-align: right;\">\n      <th></th>\n      <th>acousticness_p_values</th>\n      <th>danceability_p_values</th>\n      <th>energy_p_values</th>\n      <th>instrumentalness_p_values</th>\n      <th>liveness_p_values</th>\n      <th>loudness_p_values</th>\n      <th>popularity_p_values</th>\n      <th>speechiness_p_values</th>\n      <th>tempo_p_values</th>\n    </tr>\n  </thead>\n  <tbody>\n    <tr>\n      <th>0</th>\n      <td>0.100945</td>\n      <td>0.928814</td>\n      <td>0.844706</td>\n      <td>0.011661</td>\n      <td>0.004311</td>\n      <td>0.935017</td>\n      <td>0.895589</td>\n      <td>0.647918</td>\n      <td>0.878860</td>\n    </tr>\n    <tr>\n      <th>1</th>\n      <td>0.270485</td>\n      <td>0.054935</td>\n      <td>0.701344</td>\n      <td>0.702904</td>\n      <td>0.603427</td>\n      <td>0.567796</td>\n      <td>0.887051</td>\n      <td>0.025859</td>\n      <td>0.965710</td>\n    </tr>\n    <tr>\n      <th>2</th>\n      <td>0.111168</td>\n      <td>0.882745</td>\n      <td>0.881421</td>\n      <td>0.008662</td>\n      <td>0.725663</td>\n      <td>0.723594</td>\n      <td>0.887051</td>\n      <td>0.654057</td>\n      <td>0.584104</td>\n    </tr>\n    <tr>\n      <th>3</th>\n      <td>0.108174</td>\n      <td>0.931851</td>\n      <td>0.741453</td>\n      <td>0.702873</td>\n      <td>0.158161</td>\n      <td>0.352834</td>\n      <td>0.903648</td>\n      <td>0.650652</td>\n      <td>0.707308</td>\n    </tr>\n    <tr>\n      <th>4</th>\n      <td>0.113197</td>\n      <td>0.751068</td>\n      <td>0.860205</td>\n      <td>0.702902</td>\n      <td>0.447295</td>\n      <td>0.404860</td>\n      <td>0.911242</td>\n      <td>0.644720</td>\n      <td>0.689653</td>\n    </tr>\n    <tr>\n      <th>...</th>\n      <td>...</td>\n      <td>...</td>\n      <td>...</td>\n      <td>...</td>\n      <td>...</td>\n      <td>...</td>\n      <td>...</td>\n      <td>...</td>\n      <td>...</td>\n    </tr>\n    <tr>\n      <th>170648</th>\n      <td>0.866570</td>\n      <td>0.079060</td>\n      <td>0.111882</td>\n      <td>0.702585</td>\n      <td>0.760309</td>\n      <td>0.086449</td>\n      <td>0.031537</td>\n      <td>0.525216</td>\n      <td>0.650000</td>\n    </tr>\n    <tr>\n      <th>170649</th>\n      <td>0.784498</td>\n      <td>0.153939</td>\n      <td>0.155988</td>\n      <td>0.702904</td>\n      <td>0.725663</td>\n      <td>0.169502</td>\n      <td>0.046928</td>\n      <td>0.592060</td>\n      <td>0.246270</td>\n    </tr>\n    <tr>\n      <th>170650</th>\n      <td>0.856948</td>\n      <td>0.291688</td>\n      <td>0.080250</td>\n      <td>0.702894</td>\n      <td>0.382699</td>\n      <td>0.052403</td>\n      <td>0.020579</td>\n      <td>0.542801</td>\n      <td>0.793824</td>\n    </tr>\n    <tr>\n      <th>170651</th>\n      <td>0.904693</td>\n      <td>0.224068</td>\n      <td>0.299665</td>\n      <td>0.702895</td>\n      <td>0.006195</td>\n      <td>0.224858</td>\n      <td>0.038611</td>\n      <td>0.098875</td>\n      <td>0.913307</td>\n    </tr>\n    <tr>\n      <th>170652</th>\n      <td>0.837508</td>\n      <td>0.035238</td>\n      <td>0.186325</td>\n      <td>0.697682</td>\n      <td>0.554237</td>\n      <td>0.125529</td>\n      <td>0.025571</td>\n      <td>0.476464</td>\n      <td>0.761830</td>\n    </tr>\n  </tbody>\n</table>\n<p>170653 rows × 9 columns</p>\n</div>"
     },
     "metadata": {},
     "execution_count": 17
    }
   ],
   "source": [
    "features_pvalues = features[['acousticness_p_values','danceability_p_values','energy_p_values','instrumentalness_p_values','liveness_p_values','loudness_p_values','popularity_p_values','speechiness_p_values','tempo_p_values']]\n",
    "features_pvalues"
   ]
  },
  {
   "cell_type": "code",
   "execution_count": 18,
   "metadata": {},
   "outputs": [
    {
     "output_type": "execute_result",
     "data": {
      "text/plain": [
       "        acousticness_zscore  danceability_zscore  energy_zscore  \\\n",
       "0                  1.276187            -1.467013      -1.013988   \n",
       "1                  0.611347             1.598779      -0.528270   \n",
       "2                  1.220340            -1.188820      -1.182122   \n",
       "3                  1.236296            -1.489722      -0.647832   \n",
       "4                  1.209703            -0.677855      -1.081242   \n",
       "...                     ...                  ...            ...   \n",
       "170648            -1.110321             1.411425       1.216579   \n",
       "170649            -0.787475             1.019685       1.011083   \n",
       "170650            -1.066708             0.548461       1.403394   \n",
       "170651            -1.308762             0.758525       0.525365   \n",
       "170652            -0.984268             1.808842       0.891521   \n",
       "\n",
       "        instrumentalness_zscore  liveness_zscore  loudness_zscore  \\\n",
       "0                      2.268102         2.626719        -1.514237   \n",
       "1                     -0.532771        -0.262229        -0.170766   \n",
       "2                      2.379754        -0.599749        -0.593551   \n",
       "3                     -0.532682         1.002043         0.377680   \n",
       "4                     -0.532765         0.132499         0.240788   \n",
       "...                         ...              ...              ...   \n",
       "170648                -0.531849        -0.707298         1.362950   \n",
       "170649                -0.532771        -0.599749         0.956136   \n",
       "170650                -0.532743         0.298399         1.621992   \n",
       "170651                -0.532746         2.500864         0.755887   \n",
       "170652                -0.517745        -0.136374         1.147784   \n",
       "\n",
       "        popularity_zscore  speechiness_zscore  tempo_zscore  \n",
       "0               -1.256808           -0.379706     -1.169307  \n",
       "1               -1.210993            1.945481     -1.821180  \n",
       "2               -1.210993           -0.396297     -0.212404  \n",
       "3               -1.302624           -0.387080     -0.545537  \n",
       "4               -1.348440           -0.371104     -0.494867  \n",
       "...                   ...                 ...           ...  \n",
       "170648           1.858663           -0.063250     -0.385320  \n",
       "170649           1.675400           -0.232846      0.686274  \n",
       "170650           2.041926           -0.107492     -0.819761  \n",
       "170651           1.767032            1.287989     -1.361404  \n",
       "170652           1.950295            0.059031     -0.712201  \n",
       "\n",
       "[170653 rows x 9 columns]"
      ],
      "text/html": "<div>\n<style scoped>\n    .dataframe tbody tr th:only-of-type {\n        vertical-align: middle;\n    }\n\n    .dataframe tbody tr th {\n        vertical-align: top;\n    }\n\n    .dataframe thead th {\n        text-align: right;\n    }\n</style>\n<table border=\"1\" class=\"dataframe\">\n  <thead>\n    <tr style=\"text-align: right;\">\n      <th></th>\n      <th>acousticness_zscore</th>\n      <th>danceability_zscore</th>\n      <th>energy_zscore</th>\n      <th>instrumentalness_zscore</th>\n      <th>liveness_zscore</th>\n      <th>loudness_zscore</th>\n      <th>popularity_zscore</th>\n      <th>speechiness_zscore</th>\n      <th>tempo_zscore</th>\n    </tr>\n  </thead>\n  <tbody>\n    <tr>\n      <th>0</th>\n      <td>1.276187</td>\n      <td>-1.467013</td>\n      <td>-1.013988</td>\n      <td>2.268102</td>\n      <td>2.626719</td>\n      <td>-1.514237</td>\n      <td>-1.256808</td>\n      <td>-0.379706</td>\n      <td>-1.169307</td>\n    </tr>\n    <tr>\n      <th>1</th>\n      <td>0.611347</td>\n      <td>1.598779</td>\n      <td>-0.528270</td>\n      <td>-0.532771</td>\n      <td>-0.262229</td>\n      <td>-0.170766</td>\n      <td>-1.210993</td>\n      <td>1.945481</td>\n      <td>-1.821180</td>\n    </tr>\n    <tr>\n      <th>2</th>\n      <td>1.220340</td>\n      <td>-1.188820</td>\n      <td>-1.182122</td>\n      <td>2.379754</td>\n      <td>-0.599749</td>\n      <td>-0.593551</td>\n      <td>-1.210993</td>\n      <td>-0.396297</td>\n      <td>-0.212404</td>\n    </tr>\n    <tr>\n      <th>3</th>\n      <td>1.236296</td>\n      <td>-1.489722</td>\n      <td>-0.647832</td>\n      <td>-0.532682</td>\n      <td>1.002043</td>\n      <td>0.377680</td>\n      <td>-1.302624</td>\n      <td>-0.387080</td>\n      <td>-0.545537</td>\n    </tr>\n    <tr>\n      <th>4</th>\n      <td>1.209703</td>\n      <td>-0.677855</td>\n      <td>-1.081242</td>\n      <td>-0.532765</td>\n      <td>0.132499</td>\n      <td>0.240788</td>\n      <td>-1.348440</td>\n      <td>-0.371104</td>\n      <td>-0.494867</td>\n    </tr>\n    <tr>\n      <th>...</th>\n      <td>...</td>\n      <td>...</td>\n      <td>...</td>\n      <td>...</td>\n      <td>...</td>\n      <td>...</td>\n      <td>...</td>\n      <td>...</td>\n      <td>...</td>\n    </tr>\n    <tr>\n      <th>170648</th>\n      <td>-1.110321</td>\n      <td>1.411425</td>\n      <td>1.216579</td>\n      <td>-0.531849</td>\n      <td>-0.707298</td>\n      <td>1.362950</td>\n      <td>1.858663</td>\n      <td>-0.063250</td>\n      <td>-0.385320</td>\n    </tr>\n    <tr>\n      <th>170649</th>\n      <td>-0.787475</td>\n      <td>1.019685</td>\n      <td>1.011083</td>\n      <td>-0.532771</td>\n      <td>-0.599749</td>\n      <td>0.956136</td>\n      <td>1.675400</td>\n      <td>-0.232846</td>\n      <td>0.686274</td>\n    </tr>\n    <tr>\n      <th>170650</th>\n      <td>-1.066708</td>\n      <td>0.548461</td>\n      <td>1.403394</td>\n      <td>-0.532743</td>\n      <td>0.298399</td>\n      <td>1.621992</td>\n      <td>2.041926</td>\n      <td>-0.107492</td>\n      <td>-0.819761</td>\n    </tr>\n    <tr>\n      <th>170651</th>\n      <td>-1.308762</td>\n      <td>0.758525</td>\n      <td>0.525365</td>\n      <td>-0.532746</td>\n      <td>2.500864</td>\n      <td>0.755887</td>\n      <td>1.767032</td>\n      <td>1.287989</td>\n      <td>-1.361404</td>\n    </tr>\n    <tr>\n      <th>170652</th>\n      <td>-0.984268</td>\n      <td>1.808842</td>\n      <td>0.891521</td>\n      <td>-0.517745</td>\n      <td>-0.136374</td>\n      <td>1.147784</td>\n      <td>1.950295</td>\n      <td>0.059031</td>\n      <td>-0.712201</td>\n    </tr>\n  </tbody>\n</table>\n<p>170653 rows × 9 columns</p>\n</div>"
     },
     "metadata": {},
     "execution_count": 18
    }
   ],
   "source": [
    "features_zscores = features[['acousticness_zscore','danceability_zscore','energy_zscore','instrumentalness_zscore','liveness_zscore','loudness_zscore','popularity_zscore','speechiness_zscore','tempo_zscore']]\n",
    "features_zscores"
   ]
  },
  {
   "cell_type": "code",
   "execution_count": 20,
   "metadata": {},
   "outputs": [],
   "source": [
    "#features_pvalues.to_csv(r'C:\\Users\\USER\\UT-MCC-VIRT-DATA-PT-12-2020-U-B\\Week20\\final_project\\data\\features_pvalues.csv')\n",
    "features_zscores.to_csv(r'C:\\Users\\USER\\UT-MCC-VIRT-DATA-PT-12-2020-U-B\\Week20\\final_project\\data\\features_zscores.csv')"
   ]
  },
  {
   "cell_type": "code",
   "execution_count": 23,
   "metadata": {},
   "outputs": [],
   "source": [
    "significance = 0.025"
   ]
  },
  {
   "cell_type": "code",
   "execution_count": 25,
   "metadata": {},
   "outputs": [
    {
     "output_type": "execute_result",
     "data": {
      "text/plain": [
       "        acousticness_p_values  danceability_p_values  energy_p_values  \\\n",
       "0                    0.100945               0.928814         0.844706   \n",
       "1                    0.270485               0.054935         0.701344   \n",
       "2                    0.111168               0.882745         0.881421   \n",
       "3                    0.108174               0.931851         0.741453   \n",
       "4                    0.113197               0.751068         0.860205   \n",
       "...                       ...                    ...              ...   \n",
       "170648               0.866570               0.079060         0.111882   \n",
       "170649               0.784498               0.153939         0.155988   \n",
       "170650               0.856948               0.291688         0.080250   \n",
       "170651               0.904693               0.224068         0.299665   \n",
       "170652               0.837508               0.035238         0.186325   \n",
       "\n",
       "        instrumentalness_p_values  liveness_p_values  loudness_p_values  \\\n",
       "0                        0.011661           0.004311           0.935017   \n",
       "1                        0.702904           0.603427           0.567796   \n",
       "2                        0.008662           0.725663           0.723594   \n",
       "3                        0.702873           0.158161           0.352834   \n",
       "4                        0.702902           0.447295           0.404860   \n",
       "...                           ...                ...                ...   \n",
       "170648                   0.702585           0.760309           0.086449   \n",
       "170649                   0.702904           0.725663           0.169502   \n",
       "170650                   0.702894           0.382699           0.052403   \n",
       "170651                   0.702895           0.006195           0.224858   \n",
       "170652                   0.697682           0.554237           0.125529   \n",
       "\n",
       "        popularity_p_values  speechiness_p_values  tempo_p_values  \n",
       "0                  0.895589              0.647918        0.878860  \n",
       "1                  0.887051              0.025859        0.965710  \n",
       "2                  0.887051              0.654057        0.584104  \n",
       "3                  0.903648              0.650652        0.707308  \n",
       "4                  0.911242              0.644720        0.689653  \n",
       "...                     ...                   ...             ...  \n",
       "170648             0.031537              0.525216        0.650000  \n",
       "170649             0.046928              0.592060        0.246270  \n",
       "170650             0.020579              0.542801        0.793824  \n",
       "170651             0.038611              0.098875        0.913307  \n",
       "170652             0.025571              0.476464        0.761830  \n",
       "\n",
       "[170653 rows x 9 columns]"
      ],
      "text/html": "<div>\n<style scoped>\n    .dataframe tbody tr th:only-of-type {\n        vertical-align: middle;\n    }\n\n    .dataframe tbody tr th {\n        vertical-align: top;\n    }\n\n    .dataframe thead th {\n        text-align: right;\n    }\n</style>\n<table border=\"1\" class=\"dataframe\">\n  <thead>\n    <tr style=\"text-align: right;\">\n      <th></th>\n      <th>acousticness_p_values</th>\n      <th>danceability_p_values</th>\n      <th>energy_p_values</th>\n      <th>instrumentalness_p_values</th>\n      <th>liveness_p_values</th>\n      <th>loudness_p_values</th>\n      <th>popularity_p_values</th>\n      <th>speechiness_p_values</th>\n      <th>tempo_p_values</th>\n    </tr>\n  </thead>\n  <tbody>\n    <tr>\n      <th>0</th>\n      <td>0.100945</td>\n      <td>0.928814</td>\n      <td>0.844706</td>\n      <td>0.011661</td>\n      <td>0.004311</td>\n      <td>0.935017</td>\n      <td>0.895589</td>\n      <td>0.647918</td>\n      <td>0.878860</td>\n    </tr>\n    <tr>\n      <th>1</th>\n      <td>0.270485</td>\n      <td>0.054935</td>\n      <td>0.701344</td>\n      <td>0.702904</td>\n      <td>0.603427</td>\n      <td>0.567796</td>\n      <td>0.887051</td>\n      <td>0.025859</td>\n      <td>0.965710</td>\n    </tr>\n    <tr>\n      <th>2</th>\n      <td>0.111168</td>\n      <td>0.882745</td>\n      <td>0.881421</td>\n      <td>0.008662</td>\n      <td>0.725663</td>\n      <td>0.723594</td>\n      <td>0.887051</td>\n      <td>0.654057</td>\n      <td>0.584104</td>\n    </tr>\n    <tr>\n      <th>3</th>\n      <td>0.108174</td>\n      <td>0.931851</td>\n      <td>0.741453</td>\n      <td>0.702873</td>\n      <td>0.158161</td>\n      <td>0.352834</td>\n      <td>0.903648</td>\n      <td>0.650652</td>\n      <td>0.707308</td>\n    </tr>\n    <tr>\n      <th>4</th>\n      <td>0.113197</td>\n      <td>0.751068</td>\n      <td>0.860205</td>\n      <td>0.702902</td>\n      <td>0.447295</td>\n      <td>0.404860</td>\n      <td>0.911242</td>\n      <td>0.644720</td>\n      <td>0.689653</td>\n    </tr>\n    <tr>\n      <th>...</th>\n      <td>...</td>\n      <td>...</td>\n      <td>...</td>\n      <td>...</td>\n      <td>...</td>\n      <td>...</td>\n      <td>...</td>\n      <td>...</td>\n      <td>...</td>\n    </tr>\n    <tr>\n      <th>170648</th>\n      <td>0.866570</td>\n      <td>0.079060</td>\n      <td>0.111882</td>\n      <td>0.702585</td>\n      <td>0.760309</td>\n      <td>0.086449</td>\n      <td>0.031537</td>\n      <td>0.525216</td>\n      <td>0.650000</td>\n    </tr>\n    <tr>\n      <th>170649</th>\n      <td>0.784498</td>\n      <td>0.153939</td>\n      <td>0.155988</td>\n      <td>0.702904</td>\n      <td>0.725663</td>\n      <td>0.169502</td>\n      <td>0.046928</td>\n      <td>0.592060</td>\n      <td>0.246270</td>\n    </tr>\n    <tr>\n      <th>170650</th>\n      <td>0.856948</td>\n      <td>0.291688</td>\n      <td>0.080250</td>\n      <td>0.702894</td>\n      <td>0.382699</td>\n      <td>0.052403</td>\n      <td>0.020579</td>\n      <td>0.542801</td>\n      <td>0.793824</td>\n    </tr>\n    <tr>\n      <th>170651</th>\n      <td>0.904693</td>\n      <td>0.224068</td>\n      <td>0.299665</td>\n      <td>0.702895</td>\n      <td>0.006195</td>\n      <td>0.224858</td>\n      <td>0.038611</td>\n      <td>0.098875</td>\n      <td>0.913307</td>\n    </tr>\n    <tr>\n      <th>170652</th>\n      <td>0.837508</td>\n      <td>0.035238</td>\n      <td>0.186325</td>\n      <td>0.697682</td>\n      <td>0.554237</td>\n      <td>0.125529</td>\n      <td>0.025571</td>\n      <td>0.476464</td>\n      <td>0.761830</td>\n    </tr>\n  </tbody>\n</table>\n<p>170653 rows × 9 columns</p>\n</div>"
     },
     "metadata": {},
     "execution_count": 25
    }
   ],
   "source": [
    "stat_significant = features_pvalues[['acousticness_p_values','danceability_p_values','energy_p_values','instrumentalness_p_values','liveness_p_values','loudness_p_values','popularity_p_values','speechiness_p_values','tempo_p_values']]\n",
    "stat_significant"
   ]
  },
  {
   "cell_type": "code",
   "execution_count": 26,
   "metadata": {},
   "outputs": [],
   "source": [
    "stat_significant['acousticness_significance'] = (features_pvalues.acousticness_p_values > significance).astype(int)\n",
    "stat_significant['danceability_significance'] = (features_pvalues.danceability_p_values > significance).astype(int)\n",
    "stat_significant['energy_significance'] = (features_pvalues.energy_p_values > significance).astype(int)\n",
    "stat_significant['instrumentalness_significance'] = (features_pvalues.instrumentalness_p_values > significance).astype(int)\n",
    "stat_significant['liveness_significance'] = (features_pvalues.liveness_p_values > significance).astype(int)\n",
    "stat_significant['loudness_significance'] = (features_pvalues.loudness_p_values > significance).astype(int)\n",
    "stat_significant['popularity_significance'] = (features_pvalues.popularity_p_values > significance).astype(int)\n",
    "stat_significant['speechiness_significance'] = (features_pvalues.speechiness_p_values > significance).astype(int)\n",
    "stat_significant['tempo_significance'] = (features_pvalues.tempo_p_values > significance).astype(int)"
   ]
  },
  {
   "cell_type": "code",
   "execution_count": 27,
   "metadata": {},
   "outputs": [
    {
     "output_type": "execute_result",
     "data": {
      "text/plain": [
       "        acousticness_p_values  danceability_p_values  energy_p_values  \\\n",
       "0                    0.100945               0.928814         0.844706   \n",
       "1                    0.270485               0.054935         0.701344   \n",
       "2                    0.111168               0.882745         0.881421   \n",
       "3                    0.108174               0.931851         0.741453   \n",
       "4                    0.113197               0.751068         0.860205   \n",
       "...                       ...                    ...              ...   \n",
       "170648               0.866570               0.079060         0.111882   \n",
       "170649               0.784498               0.153939         0.155988   \n",
       "170650               0.856948               0.291688         0.080250   \n",
       "170651               0.904693               0.224068         0.299665   \n",
       "170652               0.837508               0.035238         0.186325   \n",
       "\n",
       "        instrumentalness_p_values  liveness_p_values  loudness_p_values  \\\n",
       "0                        0.011661           0.004311           0.935017   \n",
       "1                        0.702904           0.603427           0.567796   \n",
       "2                        0.008662           0.725663           0.723594   \n",
       "3                        0.702873           0.158161           0.352834   \n",
       "4                        0.702902           0.447295           0.404860   \n",
       "...                           ...                ...                ...   \n",
       "170648                   0.702585           0.760309           0.086449   \n",
       "170649                   0.702904           0.725663           0.169502   \n",
       "170650                   0.702894           0.382699           0.052403   \n",
       "170651                   0.702895           0.006195           0.224858   \n",
       "170652                   0.697682           0.554237           0.125529   \n",
       "\n",
       "        popularity_p_values  speechiness_p_values  tempo_p_values  \\\n",
       "0                  0.895589              0.647918        0.878860   \n",
       "1                  0.887051              0.025859        0.965710   \n",
       "2                  0.887051              0.654057        0.584104   \n",
       "3                  0.903648              0.650652        0.707308   \n",
       "4                  0.911242              0.644720        0.689653   \n",
       "...                     ...                   ...             ...   \n",
       "170648             0.031537              0.525216        0.650000   \n",
       "170649             0.046928              0.592060        0.246270   \n",
       "170650             0.020579              0.542801        0.793824   \n",
       "170651             0.038611              0.098875        0.913307   \n",
       "170652             0.025571              0.476464        0.761830   \n",
       "\n",
       "        acousticness_significance  danceability_significance  \\\n",
       "0                               1                          1   \n",
       "1                               1                          1   \n",
       "2                               1                          1   \n",
       "3                               1                          1   \n",
       "4                               1                          1   \n",
       "...                           ...                        ...   \n",
       "170648                          1                          1   \n",
       "170649                          1                          1   \n",
       "170650                          1                          1   \n",
       "170651                          1                          1   \n",
       "170652                          1                          1   \n",
       "\n",
       "        energy_significance  instrumentalness_significance  \\\n",
       "0                         1                              0   \n",
       "1                         1                              1   \n",
       "2                         1                              0   \n",
       "3                         1                              1   \n",
       "4                         1                              1   \n",
       "...                     ...                            ...   \n",
       "170648                    1                              1   \n",
       "170649                    1                              1   \n",
       "170650                    1                              1   \n",
       "170651                    1                              1   \n",
       "170652                    1                              1   \n",
       "\n",
       "        liveness_significance  loudness_significance  popularity_significance  \\\n",
       "0                           0                      1                        1   \n",
       "1                           1                      1                        1   \n",
       "2                           1                      1                        1   \n",
       "3                           1                      1                        1   \n",
       "4                           1                      1                        1   \n",
       "...                       ...                    ...                      ...   \n",
       "170648                      1                      1                        1   \n",
       "170649                      1                      1                        1   \n",
       "170650                      1                      1                        0   \n",
       "170651                      0                      1                        1   \n",
       "170652                      1                      1                        1   \n",
       "\n",
       "        speechiness_significance  tempo_significance  \n",
       "0                              1                   1  \n",
       "1                              1                   1  \n",
       "2                              1                   1  \n",
       "3                              1                   1  \n",
       "4                              1                   1  \n",
       "...                          ...                 ...  \n",
       "170648                         1                   1  \n",
       "170649                         1                   1  \n",
       "170650                         1                   1  \n",
       "170651                         1                   1  \n",
       "170652                         1                   1  \n",
       "\n",
       "[170653 rows x 18 columns]"
      ],
      "text/html": "<div>\n<style scoped>\n    .dataframe tbody tr th:only-of-type {\n        vertical-align: middle;\n    }\n\n    .dataframe tbody tr th {\n        vertical-align: top;\n    }\n\n    .dataframe thead th {\n        text-align: right;\n    }\n</style>\n<table border=\"1\" class=\"dataframe\">\n  <thead>\n    <tr style=\"text-align: right;\">\n      <th></th>\n      <th>acousticness_p_values</th>\n      <th>danceability_p_values</th>\n      <th>energy_p_values</th>\n      <th>instrumentalness_p_values</th>\n      <th>liveness_p_values</th>\n      <th>loudness_p_values</th>\n      <th>popularity_p_values</th>\n      <th>speechiness_p_values</th>\n      <th>tempo_p_values</th>\n      <th>acousticness_significance</th>\n      <th>danceability_significance</th>\n      <th>energy_significance</th>\n      <th>instrumentalness_significance</th>\n      <th>liveness_significance</th>\n      <th>loudness_significance</th>\n      <th>popularity_significance</th>\n      <th>speechiness_significance</th>\n      <th>tempo_significance</th>\n    </tr>\n  </thead>\n  <tbody>\n    <tr>\n      <th>0</th>\n      <td>0.100945</td>\n      <td>0.928814</td>\n      <td>0.844706</td>\n      <td>0.011661</td>\n      <td>0.004311</td>\n      <td>0.935017</td>\n      <td>0.895589</td>\n      <td>0.647918</td>\n      <td>0.878860</td>\n      <td>1</td>\n      <td>1</td>\n      <td>1</td>\n      <td>0</td>\n      <td>0</td>\n      <td>1</td>\n      <td>1</td>\n      <td>1</td>\n      <td>1</td>\n    </tr>\n    <tr>\n      <th>1</th>\n      <td>0.270485</td>\n      <td>0.054935</td>\n      <td>0.701344</td>\n      <td>0.702904</td>\n      <td>0.603427</td>\n      <td>0.567796</td>\n      <td>0.887051</td>\n      <td>0.025859</td>\n      <td>0.965710</td>\n      <td>1</td>\n      <td>1</td>\n      <td>1</td>\n      <td>1</td>\n      <td>1</td>\n      <td>1</td>\n      <td>1</td>\n      <td>1</td>\n      <td>1</td>\n    </tr>\n    <tr>\n      <th>2</th>\n      <td>0.111168</td>\n      <td>0.882745</td>\n      <td>0.881421</td>\n      <td>0.008662</td>\n      <td>0.725663</td>\n      <td>0.723594</td>\n      <td>0.887051</td>\n      <td>0.654057</td>\n      <td>0.584104</td>\n      <td>1</td>\n      <td>1</td>\n      <td>1</td>\n      <td>0</td>\n      <td>1</td>\n      <td>1</td>\n      <td>1</td>\n      <td>1</td>\n      <td>1</td>\n    </tr>\n    <tr>\n      <th>3</th>\n      <td>0.108174</td>\n      <td>0.931851</td>\n      <td>0.741453</td>\n      <td>0.702873</td>\n      <td>0.158161</td>\n      <td>0.352834</td>\n      <td>0.903648</td>\n      <td>0.650652</td>\n      <td>0.707308</td>\n      <td>1</td>\n      <td>1</td>\n      <td>1</td>\n      <td>1</td>\n      <td>1</td>\n      <td>1</td>\n      <td>1</td>\n      <td>1</td>\n      <td>1</td>\n    </tr>\n    <tr>\n      <th>4</th>\n      <td>0.113197</td>\n      <td>0.751068</td>\n      <td>0.860205</td>\n      <td>0.702902</td>\n      <td>0.447295</td>\n      <td>0.404860</td>\n      <td>0.911242</td>\n      <td>0.644720</td>\n      <td>0.689653</td>\n      <td>1</td>\n      <td>1</td>\n      <td>1</td>\n      <td>1</td>\n      <td>1</td>\n      <td>1</td>\n      <td>1</td>\n      <td>1</td>\n      <td>1</td>\n    </tr>\n    <tr>\n      <th>...</th>\n      <td>...</td>\n      <td>...</td>\n      <td>...</td>\n      <td>...</td>\n      <td>...</td>\n      <td>...</td>\n      <td>...</td>\n      <td>...</td>\n      <td>...</td>\n      <td>...</td>\n      <td>...</td>\n      <td>...</td>\n      <td>...</td>\n      <td>...</td>\n      <td>...</td>\n      <td>...</td>\n      <td>...</td>\n      <td>...</td>\n    </tr>\n    <tr>\n      <th>170648</th>\n      <td>0.866570</td>\n      <td>0.079060</td>\n      <td>0.111882</td>\n      <td>0.702585</td>\n      <td>0.760309</td>\n      <td>0.086449</td>\n      <td>0.031537</td>\n      <td>0.525216</td>\n      <td>0.650000</td>\n      <td>1</td>\n      <td>1</td>\n      <td>1</td>\n      <td>1</td>\n      <td>1</td>\n      <td>1</td>\n      <td>1</td>\n      <td>1</td>\n      <td>1</td>\n    </tr>\n    <tr>\n      <th>170649</th>\n      <td>0.784498</td>\n      <td>0.153939</td>\n      <td>0.155988</td>\n      <td>0.702904</td>\n      <td>0.725663</td>\n      <td>0.169502</td>\n      <td>0.046928</td>\n      <td>0.592060</td>\n      <td>0.246270</td>\n      <td>1</td>\n      <td>1</td>\n      <td>1</td>\n      <td>1</td>\n      <td>1</td>\n      <td>1</td>\n      <td>1</td>\n      <td>1</td>\n      <td>1</td>\n    </tr>\n    <tr>\n      <th>170650</th>\n      <td>0.856948</td>\n      <td>0.291688</td>\n      <td>0.080250</td>\n      <td>0.702894</td>\n      <td>0.382699</td>\n      <td>0.052403</td>\n      <td>0.020579</td>\n      <td>0.542801</td>\n      <td>0.793824</td>\n      <td>1</td>\n      <td>1</td>\n      <td>1</td>\n      <td>1</td>\n      <td>1</td>\n      <td>1</td>\n      <td>0</td>\n      <td>1</td>\n      <td>1</td>\n    </tr>\n    <tr>\n      <th>170651</th>\n      <td>0.904693</td>\n      <td>0.224068</td>\n      <td>0.299665</td>\n      <td>0.702895</td>\n      <td>0.006195</td>\n      <td>0.224858</td>\n      <td>0.038611</td>\n      <td>0.098875</td>\n      <td>0.913307</td>\n      <td>1</td>\n      <td>1</td>\n      <td>1</td>\n      <td>1</td>\n      <td>0</td>\n      <td>1</td>\n      <td>1</td>\n      <td>1</td>\n      <td>1</td>\n    </tr>\n    <tr>\n      <th>170652</th>\n      <td>0.837508</td>\n      <td>0.035238</td>\n      <td>0.186325</td>\n      <td>0.697682</td>\n      <td>0.554237</td>\n      <td>0.125529</td>\n      <td>0.025571</td>\n      <td>0.476464</td>\n      <td>0.761830</td>\n      <td>1</td>\n      <td>1</td>\n      <td>1</td>\n      <td>1</td>\n      <td>1</td>\n      <td>1</td>\n      <td>1</td>\n      <td>1</td>\n      <td>1</td>\n    </tr>\n  </tbody>\n</table>\n<p>170653 rows × 18 columns</p>\n</div>"
     },
     "metadata": {},
     "execution_count": 27
    }
   ],
   "source": [
    "stat_significant"
   ]
  },
  {
   "cell_type": "code",
   "execution_count": 29,
   "metadata": {},
   "outputs": [
    {
     "output_type": "execute_result",
     "data": {
      "text/plain": [
       "        acousticness_p_values  acousticness_significance  \\\n",
       "0                    0.100945                          1   \n",
       "1                    0.270485                          1   \n",
       "2                    0.111168                          1   \n",
       "3                    0.108174                          1   \n",
       "4                    0.113197                          1   \n",
       "...                       ...                        ...   \n",
       "170648               0.866570                          1   \n",
       "170649               0.784498                          1   \n",
       "170650               0.856948                          1   \n",
       "170651               0.904693                          1   \n",
       "170652               0.837508                          1   \n",
       "\n",
       "        danceability_p_values  danceability_significance  energy_p_values  \\\n",
       "0                    0.928814                          1         0.844706   \n",
       "1                    0.054935                          1         0.701344   \n",
       "2                    0.882745                          1         0.881421   \n",
       "3                    0.931851                          1         0.741453   \n",
       "4                    0.751068                          1         0.860205   \n",
       "...                       ...                        ...              ...   \n",
       "170648               0.079060                          1         0.111882   \n",
       "170649               0.153939                          1         0.155988   \n",
       "170650               0.291688                          1         0.080250   \n",
       "170651               0.224068                          1         0.299665   \n",
       "170652               0.035238                          1         0.186325   \n",
       "\n",
       "        energy_significance  instrumentalness_p_values  \\\n",
       "0                         1                   0.011661   \n",
       "1                         1                   0.702904   \n",
       "2                         1                   0.008662   \n",
       "3                         1                   0.702873   \n",
       "4                         1                   0.702902   \n",
       "...                     ...                        ...   \n",
       "170648                    1                   0.702585   \n",
       "170649                    1                   0.702904   \n",
       "170650                    1                   0.702894   \n",
       "170651                    1                   0.702895   \n",
       "170652                    1                   0.697682   \n",
       "\n",
       "        instrumentalness_significance  liveness_p_values  \\\n",
       "0                                   0           0.004311   \n",
       "1                                   1           0.603427   \n",
       "2                                   0           0.725663   \n",
       "3                                   1           0.158161   \n",
       "4                                   1           0.447295   \n",
       "...                               ...                ...   \n",
       "170648                              1           0.760309   \n",
       "170649                              1           0.725663   \n",
       "170650                              1           0.382699   \n",
       "170651                              1           0.006195   \n",
       "170652                              1           0.554237   \n",
       "\n",
       "        liveness_significance  loudness_p_values  loudness_significance  \\\n",
       "0                           0           0.935017                      1   \n",
       "1                           1           0.567796                      1   \n",
       "2                           1           0.723594                      1   \n",
       "3                           1           0.352834                      1   \n",
       "4                           1           0.404860                      1   \n",
       "...                       ...                ...                    ...   \n",
       "170648                      1           0.086449                      1   \n",
       "170649                      1           0.169502                      1   \n",
       "170650                      1           0.052403                      1   \n",
       "170651                      0           0.224858                      1   \n",
       "170652                      1           0.125529                      1   \n",
       "\n",
       "        popularity_p_values  popularity_significance  speechiness_p_values  \\\n",
       "0                  0.895589                        1              0.647918   \n",
       "1                  0.887051                        1              0.025859   \n",
       "2                  0.887051                        1              0.654057   \n",
       "3                  0.903648                        1              0.650652   \n",
       "4                  0.911242                        1              0.644720   \n",
       "...                     ...                      ...                   ...   \n",
       "170648             0.031537                        1              0.525216   \n",
       "170649             0.046928                        1              0.592060   \n",
       "170650             0.020579                        0              0.542801   \n",
       "170651             0.038611                        1              0.098875   \n",
       "170652             0.025571                        1              0.476464   \n",
       "\n",
       "        speechiness_significance  tempo_p_values  tempo_significance  \n",
       "0                              1        0.878860                   1  \n",
       "1                              1        0.965710                   1  \n",
       "2                              1        0.584104                   1  \n",
       "3                              1        0.707308                   1  \n",
       "4                              1        0.689653                   1  \n",
       "...                          ...             ...                 ...  \n",
       "170648                         1        0.650000                   1  \n",
       "170649                         1        0.246270                   1  \n",
       "170650                         1        0.793824                   1  \n",
       "170651                         1        0.913307                   1  \n",
       "170652                         1        0.761830                   1  \n",
       "\n",
       "[170653 rows x 18 columns]"
      ],
      "text/html": "<div>\n<style scoped>\n    .dataframe tbody tr th:only-of-type {\n        vertical-align: middle;\n    }\n\n    .dataframe tbody tr th {\n        vertical-align: top;\n    }\n\n    .dataframe thead th {\n        text-align: right;\n    }\n</style>\n<table border=\"1\" class=\"dataframe\">\n  <thead>\n    <tr style=\"text-align: right;\">\n      <th></th>\n      <th>acousticness_p_values</th>\n      <th>acousticness_significance</th>\n      <th>danceability_p_values</th>\n      <th>danceability_significance</th>\n      <th>energy_p_values</th>\n      <th>energy_significance</th>\n      <th>instrumentalness_p_values</th>\n      <th>instrumentalness_significance</th>\n      <th>liveness_p_values</th>\n      <th>liveness_significance</th>\n      <th>loudness_p_values</th>\n      <th>loudness_significance</th>\n      <th>popularity_p_values</th>\n      <th>popularity_significance</th>\n      <th>speechiness_p_values</th>\n      <th>speechiness_significance</th>\n      <th>tempo_p_values</th>\n      <th>tempo_significance</th>\n    </tr>\n  </thead>\n  <tbody>\n    <tr>\n      <th>0</th>\n      <td>0.100945</td>\n      <td>1</td>\n      <td>0.928814</td>\n      <td>1</td>\n      <td>0.844706</td>\n      <td>1</td>\n      <td>0.011661</td>\n      <td>0</td>\n      <td>0.004311</td>\n      <td>0</td>\n      <td>0.935017</td>\n      <td>1</td>\n      <td>0.895589</td>\n      <td>1</td>\n      <td>0.647918</td>\n      <td>1</td>\n      <td>0.878860</td>\n      <td>1</td>\n    </tr>\n    <tr>\n      <th>1</th>\n      <td>0.270485</td>\n      <td>1</td>\n      <td>0.054935</td>\n      <td>1</td>\n      <td>0.701344</td>\n      <td>1</td>\n      <td>0.702904</td>\n      <td>1</td>\n      <td>0.603427</td>\n      <td>1</td>\n      <td>0.567796</td>\n      <td>1</td>\n      <td>0.887051</td>\n      <td>1</td>\n      <td>0.025859</td>\n      <td>1</td>\n      <td>0.965710</td>\n      <td>1</td>\n    </tr>\n    <tr>\n      <th>2</th>\n      <td>0.111168</td>\n      <td>1</td>\n      <td>0.882745</td>\n      <td>1</td>\n      <td>0.881421</td>\n      <td>1</td>\n      <td>0.008662</td>\n      <td>0</td>\n      <td>0.725663</td>\n      <td>1</td>\n      <td>0.723594</td>\n      <td>1</td>\n      <td>0.887051</td>\n      <td>1</td>\n      <td>0.654057</td>\n      <td>1</td>\n      <td>0.584104</td>\n      <td>1</td>\n    </tr>\n    <tr>\n      <th>3</th>\n      <td>0.108174</td>\n      <td>1</td>\n      <td>0.931851</td>\n      <td>1</td>\n      <td>0.741453</td>\n      <td>1</td>\n      <td>0.702873</td>\n      <td>1</td>\n      <td>0.158161</td>\n      <td>1</td>\n      <td>0.352834</td>\n      <td>1</td>\n      <td>0.903648</td>\n      <td>1</td>\n      <td>0.650652</td>\n      <td>1</td>\n      <td>0.707308</td>\n      <td>1</td>\n    </tr>\n    <tr>\n      <th>4</th>\n      <td>0.113197</td>\n      <td>1</td>\n      <td>0.751068</td>\n      <td>1</td>\n      <td>0.860205</td>\n      <td>1</td>\n      <td>0.702902</td>\n      <td>1</td>\n      <td>0.447295</td>\n      <td>1</td>\n      <td>0.404860</td>\n      <td>1</td>\n      <td>0.911242</td>\n      <td>1</td>\n      <td>0.644720</td>\n      <td>1</td>\n      <td>0.689653</td>\n      <td>1</td>\n    </tr>\n    <tr>\n      <th>...</th>\n      <td>...</td>\n      <td>...</td>\n      <td>...</td>\n      <td>...</td>\n      <td>...</td>\n      <td>...</td>\n      <td>...</td>\n      <td>...</td>\n      <td>...</td>\n      <td>...</td>\n      <td>...</td>\n      <td>...</td>\n      <td>...</td>\n      <td>...</td>\n      <td>...</td>\n      <td>...</td>\n      <td>...</td>\n      <td>...</td>\n    </tr>\n    <tr>\n      <th>170648</th>\n      <td>0.866570</td>\n      <td>1</td>\n      <td>0.079060</td>\n      <td>1</td>\n      <td>0.111882</td>\n      <td>1</td>\n      <td>0.702585</td>\n      <td>1</td>\n      <td>0.760309</td>\n      <td>1</td>\n      <td>0.086449</td>\n      <td>1</td>\n      <td>0.031537</td>\n      <td>1</td>\n      <td>0.525216</td>\n      <td>1</td>\n      <td>0.650000</td>\n      <td>1</td>\n    </tr>\n    <tr>\n      <th>170649</th>\n      <td>0.784498</td>\n      <td>1</td>\n      <td>0.153939</td>\n      <td>1</td>\n      <td>0.155988</td>\n      <td>1</td>\n      <td>0.702904</td>\n      <td>1</td>\n      <td>0.725663</td>\n      <td>1</td>\n      <td>0.169502</td>\n      <td>1</td>\n      <td>0.046928</td>\n      <td>1</td>\n      <td>0.592060</td>\n      <td>1</td>\n      <td>0.246270</td>\n      <td>1</td>\n    </tr>\n    <tr>\n      <th>170650</th>\n      <td>0.856948</td>\n      <td>1</td>\n      <td>0.291688</td>\n      <td>1</td>\n      <td>0.080250</td>\n      <td>1</td>\n      <td>0.702894</td>\n      <td>1</td>\n      <td>0.382699</td>\n      <td>1</td>\n      <td>0.052403</td>\n      <td>1</td>\n      <td>0.020579</td>\n      <td>0</td>\n      <td>0.542801</td>\n      <td>1</td>\n      <td>0.793824</td>\n      <td>1</td>\n    </tr>\n    <tr>\n      <th>170651</th>\n      <td>0.904693</td>\n      <td>1</td>\n      <td>0.224068</td>\n      <td>1</td>\n      <td>0.299665</td>\n      <td>1</td>\n      <td>0.702895</td>\n      <td>1</td>\n      <td>0.006195</td>\n      <td>0</td>\n      <td>0.224858</td>\n      <td>1</td>\n      <td>0.038611</td>\n      <td>1</td>\n      <td>0.098875</td>\n      <td>1</td>\n      <td>0.913307</td>\n      <td>1</td>\n    </tr>\n    <tr>\n      <th>170652</th>\n      <td>0.837508</td>\n      <td>1</td>\n      <td>0.035238</td>\n      <td>1</td>\n      <td>0.186325</td>\n      <td>1</td>\n      <td>0.697682</td>\n      <td>1</td>\n      <td>0.554237</td>\n      <td>1</td>\n      <td>0.125529</td>\n      <td>1</td>\n      <td>0.025571</td>\n      <td>1</td>\n      <td>0.476464</td>\n      <td>1</td>\n      <td>0.761830</td>\n      <td>1</td>\n    </tr>\n  </tbody>\n</table>\n<p>170653 rows × 18 columns</p>\n</div>"
     },
     "metadata": {},
     "execution_count": 29
    }
   ],
   "source": [
    "stat_significant = stat_significant[['acousticness_p_values','acousticness_significance','danceability_p_values','danceability_significance','energy_p_values','energy_significance','instrumentalness_p_values','instrumentalness_significance','liveness_p_values','liveness_significance','loudness_p_values','loudness_significance','popularity_p_values','popularity_significance','speechiness_p_values','speechiness_significance','tempo_p_values','tempo_significance']]\n",
    "stat_significant"
   ]
  },
  {
   "cell_type": "code",
   "execution_count": 30,
   "metadata": {},
   "outputs": [],
   "source": [
    "stat_significant.to_csv(r'C:\\Users\\USER\\UT-MCC-VIRT-DATA-PT-12-2020-U-B\\Week20\\final_project\\data\\features_pvalues.csv')"
   ]
  },
  {
   "cell_type": "code",
   "execution_count": null,
   "metadata": {},
   "outputs": [],
   "source": []
  }
 ]
}