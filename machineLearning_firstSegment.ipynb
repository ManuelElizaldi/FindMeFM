{
 "cells": [
  {
   "cell_type": "markdown",
   "id": "49d66015",
   "metadata": {},
   "source": [
    "Which model did you choose and why?\n",
    "We chose the K-Means Clustering Model. We believe it's a model that's simple enough to get our project started but still well fit with the clustering we need. This model creates an algorithm that we can build upon as we go. \n"
   ]
  },
  {
   "cell_type": "markdown",
   "id": "5b4866b2",
   "metadata": {},
   "source": [
    "How are you training your model?\n",
    "1. First we would plot our features to visually identify the k number of clusters. \n",
    "2. We would then construct an elbow curve to identify the exact k-value of clusters necessary. We will make adjustments as needed. \n",
    "3. Split the data into training and testing groups (75/25)\n",
    "4. Then we will build an algorithm until the centroid value no longer changes. \n",
    "5. We will base our song recommendations on distance from the centroid in that particular cluster. \n",
    "\n"
   ]
  },
  {
   "cell_type": "markdown",
   "id": "b573306d",
   "metadata": {},
   "source": [
    "What is the model's accuracy?\n",
    "Our goal for this model's accuracy is .6-.7 to begin with. We are building a model to predict song recommendations based on a user's inputted audio preferences. Since music can hold a subjective quality, we are relying more on the user's inputted feedback once a song is recommended. \n"
   ]
  },
  {
   "cell_type": "markdown",
   "id": "4a70bd75",
   "metadata": {},
   "source": [
    "How does this model work?\n",
    "This model would take the audio features data that we already have. Then it would group the songs in clusters based on pre-idenitified features. When the clusters are optimized and the centroids identified, then we can train the model to identify 1-3 songs with similar/identical audio features. "
   ]
  }
 ],
 "metadata": {
  "kernelspec": {
   "display_name": "PythonData",
   "language": "python",
   "name": "pythondata"
  },
  "language_info": {
   "codemirror_mode": {
    "name": "ipython",
    "version": 3
   },
   "file_extension": ".py",
   "mimetype": "text/x-python",
   "name": "python",
   "nbconvert_exporter": "python",
   "pygments_lexer": "ipython3",
   "version": "3.8.5"
  }
 },
 "nbformat": 4,
 "nbformat_minor": 5
}
