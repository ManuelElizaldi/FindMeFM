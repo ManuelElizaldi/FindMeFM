{
 "cells": [
  {
   "cell_type": "markdown",
   "id": "87624c5e",
   "metadata": {},
   "source": [
    "Description of the tool(s) that will be used to create the final dashboard\n",
    "We will use Tableau to build a dashboard that will visualize our data.\n"
   ]
  },
  {
   "cell_type": "code",
   "execution_count": null,
   "id": "fa5caaaf",
   "metadata": {},
   "outputs": [],
   "source": [
    "Description of interactive element(s)\n",
    "We will use the Flask App for the actual product. This is where the user can input their song and expect a song recommendation. \n"
   ]
  }
 ],
 "metadata": {
  "kernelspec": {
   "display_name": "PythonData",
   "language": "python",
   "name": "pythondata"
  },
  "language_info": {
   "codemirror_mode": {
    "name": "ipython",
    "version": 3
   },
   "file_extension": ".py",
   "mimetype": "text/x-python",
   "name": "python",
   "nbconvert_exporter": "python",
   "pygments_lexer": "ipython3",
   "version": "3.8.5"
  }
 },
 "nbformat": 4,
 "nbformat_minor": 5
}
