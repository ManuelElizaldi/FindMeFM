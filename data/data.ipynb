{
 "metadata": {
  "language_info": {
   "codemirror_mode": {
    "name": "ipython",
    "version": 3
   },
   "file_extension": ".py",
   "mimetype": "text/x-python",
   "name": "python",
   "nbconvert_exporter": "python",
   "pygments_lexer": "ipython3",
   "version": "3.7.9"
  },
  "orig_nbformat": 2,
  "kernelspec": {
   "name": "python379jvsc74a57bd0354c2eb913e37078b9eceed7c36555952391f234b1993a26210500db07202fdf",
   "display_name": "Python 3.7.9 64-bit ('mlenv': conda)"
  }
 },
 "nbformat": 4,
 "nbformat_minor": 2,
 "cells": [
  {
   "cell_type": "code",
   "execution_count": 47,
   "metadata": {},
   "outputs": [],
   "source": [
    "# Dependencies and Setup\n",
    "import pandas as pd\n",
    "import datetime"
   ]
  },
  {
   "cell_type": "code",
   "execution_count": 36,
   "metadata": {},
   "outputs": [
    {
     "output_type": "error",
     "ename": "FileNotFoundError",
     "evalue": "[Errno 2] No such file or directory: 'Data/artists.csv'",
     "traceback": [
      "\u001b[1;31m---------------------------------------------------------------------------\u001b[0m",
      "\u001b[1;31mFileNotFoundError\u001b[0m                         Traceback (most recent call last)",
      "\u001b[1;32m<ipython-input-36-667fba2443a2>\u001b[0m in \u001b[0;36m<module>\u001b[1;34m\u001b[0m\n\u001b[0;32m      7\u001b[0m \u001b[0mtrack_data_to_load\u001b[0m \u001b[1;33m=\u001b[0m \u001b[1;34m\"Data/tracks.csv\"\u001b[0m\u001b[1;33m\u001b[0m\u001b[1;33m\u001b[0m\u001b[0m\n\u001b[0;32m      8\u001b[0m \u001b[1;31m# Read the School Data and Student Data and store into a Pandas DataFrame\u001b[0m\u001b[1;33m\u001b[0m\u001b[1;33m\u001b[0m\u001b[1;33m\u001b[0m\u001b[0m\n\u001b[1;32m----> 9\u001b[1;33m \u001b[0martist_df\u001b[0m \u001b[1;33m=\u001b[0m \u001b[0mpd\u001b[0m\u001b[1;33m.\u001b[0m\u001b[0mread_csv\u001b[0m\u001b[1;33m(\u001b[0m\u001b[0martist_data_to_load\u001b[0m\u001b[1;33m)\u001b[0m\u001b[1;33m\u001b[0m\u001b[1;33m\u001b[0m\u001b[0m\n\u001b[0m\u001b[0;32m     10\u001b[0m \u001b[0martist_data_df\u001b[0m \u001b[1;33m=\u001b[0m \u001b[0mpd\u001b[0m\u001b[1;33m.\u001b[0m\u001b[0mread_csv\u001b[0m\u001b[1;33m(\u001b[0m\u001b[0mdata_by_artist_to_load\u001b[0m\u001b[1;33m)\u001b[0m\u001b[1;33m\u001b[0m\u001b[1;33m\u001b[0m\u001b[0m\n\u001b[0;32m     11\u001b[0m \u001b[0mgenre_data_df\u001b[0m \u001b[1;33m=\u001b[0m \u001b[0mpd\u001b[0m\u001b[1;33m.\u001b[0m\u001b[0mread_csv\u001b[0m\u001b[1;33m(\u001b[0m\u001b[0mgenere_data_to_load\u001b[0m\u001b[1;33m)\u001b[0m\u001b[1;33m\u001b[0m\u001b[1;33m\u001b[0m\u001b[0m\n",
      "\u001b[1;32m~\\anaconda3\\envs\\mlenv\\lib\\site-packages\\pandas\\io\\parsers.py\u001b[0m in \u001b[0;36mread_csv\u001b[1;34m(filepath_or_buffer, sep, delimiter, header, names, index_col, usecols, squeeze, prefix, mangle_dupe_cols, dtype, engine, converters, true_values, false_values, skipinitialspace, skiprows, skipfooter, nrows, na_values, keep_default_na, na_filter, verbose, skip_blank_lines, parse_dates, infer_datetime_format, keep_date_col, date_parser, dayfirst, cache_dates, iterator, chunksize, compression, thousands, decimal, lineterminator, quotechar, quoting, doublequote, escapechar, comment, encoding, dialect, error_bad_lines, warn_bad_lines, delim_whitespace, low_memory, memory_map, float_precision)\u001b[0m\n\u001b[0;32m    684\u001b[0m     )\n\u001b[0;32m    685\u001b[0m \u001b[1;33m\u001b[0m\u001b[0m\n\u001b[1;32m--> 686\u001b[1;33m     \u001b[1;32mreturn\u001b[0m \u001b[0m_read\u001b[0m\u001b[1;33m(\u001b[0m\u001b[0mfilepath_or_buffer\u001b[0m\u001b[1;33m,\u001b[0m \u001b[0mkwds\u001b[0m\u001b[1;33m)\u001b[0m\u001b[1;33m\u001b[0m\u001b[1;33m\u001b[0m\u001b[0m\n\u001b[0m\u001b[0;32m    687\u001b[0m \u001b[1;33m\u001b[0m\u001b[0m\n\u001b[0;32m    688\u001b[0m \u001b[1;33m\u001b[0m\u001b[0m\n",
      "\u001b[1;32m~\\anaconda3\\envs\\mlenv\\lib\\site-packages\\pandas\\io\\parsers.py\u001b[0m in \u001b[0;36m_read\u001b[1;34m(filepath_or_buffer, kwds)\u001b[0m\n\u001b[0;32m    450\u001b[0m \u001b[1;33m\u001b[0m\u001b[0m\n\u001b[0;32m    451\u001b[0m     \u001b[1;31m# Create the parser.\u001b[0m\u001b[1;33m\u001b[0m\u001b[1;33m\u001b[0m\u001b[1;33m\u001b[0m\u001b[0m\n\u001b[1;32m--> 452\u001b[1;33m     \u001b[0mparser\u001b[0m \u001b[1;33m=\u001b[0m \u001b[0mTextFileReader\u001b[0m\u001b[1;33m(\u001b[0m\u001b[0mfp_or_buf\u001b[0m\u001b[1;33m,\u001b[0m \u001b[1;33m**\u001b[0m\u001b[0mkwds\u001b[0m\u001b[1;33m)\u001b[0m\u001b[1;33m\u001b[0m\u001b[1;33m\u001b[0m\u001b[0m\n\u001b[0m\u001b[0;32m    453\u001b[0m \u001b[1;33m\u001b[0m\u001b[0m\n\u001b[0;32m    454\u001b[0m     \u001b[1;32mif\u001b[0m \u001b[0mchunksize\u001b[0m \u001b[1;32mor\u001b[0m \u001b[0miterator\u001b[0m\u001b[1;33m:\u001b[0m\u001b[1;33m\u001b[0m\u001b[1;33m\u001b[0m\u001b[0m\n",
      "\u001b[1;32m~\\anaconda3\\envs\\mlenv\\lib\\site-packages\\pandas\\io\\parsers.py\u001b[0m in \u001b[0;36m__init__\u001b[1;34m(self, f, engine, **kwds)\u001b[0m\n\u001b[0;32m    944\u001b[0m             \u001b[0mself\u001b[0m\u001b[1;33m.\u001b[0m\u001b[0moptions\u001b[0m\u001b[1;33m[\u001b[0m\u001b[1;34m\"has_index_names\"\u001b[0m\u001b[1;33m]\u001b[0m \u001b[1;33m=\u001b[0m \u001b[0mkwds\u001b[0m\u001b[1;33m[\u001b[0m\u001b[1;34m\"has_index_names\"\u001b[0m\u001b[1;33m]\u001b[0m\u001b[1;33m\u001b[0m\u001b[1;33m\u001b[0m\u001b[0m\n\u001b[0;32m    945\u001b[0m \u001b[1;33m\u001b[0m\u001b[0m\n\u001b[1;32m--> 946\u001b[1;33m         \u001b[0mself\u001b[0m\u001b[1;33m.\u001b[0m\u001b[0m_make_engine\u001b[0m\u001b[1;33m(\u001b[0m\u001b[0mself\u001b[0m\u001b[1;33m.\u001b[0m\u001b[0mengine\u001b[0m\u001b[1;33m)\u001b[0m\u001b[1;33m\u001b[0m\u001b[1;33m\u001b[0m\u001b[0m\n\u001b[0m\u001b[0;32m    947\u001b[0m \u001b[1;33m\u001b[0m\u001b[0m\n\u001b[0;32m    948\u001b[0m     \u001b[1;32mdef\u001b[0m \u001b[0mclose\u001b[0m\u001b[1;33m(\u001b[0m\u001b[0mself\u001b[0m\u001b[1;33m)\u001b[0m\u001b[1;33m:\u001b[0m\u001b[1;33m\u001b[0m\u001b[1;33m\u001b[0m\u001b[0m\n",
      "\u001b[1;32m~\\anaconda3\\envs\\mlenv\\lib\\site-packages\\pandas\\io\\parsers.py\u001b[0m in \u001b[0;36m_make_engine\u001b[1;34m(self, engine)\u001b[0m\n\u001b[0;32m   1176\u001b[0m     \u001b[1;32mdef\u001b[0m \u001b[0m_make_engine\u001b[0m\u001b[1;33m(\u001b[0m\u001b[0mself\u001b[0m\u001b[1;33m,\u001b[0m \u001b[0mengine\u001b[0m\u001b[1;33m=\u001b[0m\u001b[1;34m\"c\"\u001b[0m\u001b[1;33m)\u001b[0m\u001b[1;33m:\u001b[0m\u001b[1;33m\u001b[0m\u001b[1;33m\u001b[0m\u001b[0m\n\u001b[0;32m   1177\u001b[0m         \u001b[1;32mif\u001b[0m \u001b[0mengine\u001b[0m \u001b[1;33m==\u001b[0m \u001b[1;34m\"c\"\u001b[0m\u001b[1;33m:\u001b[0m\u001b[1;33m\u001b[0m\u001b[1;33m\u001b[0m\u001b[0m\n\u001b[1;32m-> 1178\u001b[1;33m             \u001b[0mself\u001b[0m\u001b[1;33m.\u001b[0m\u001b[0m_engine\u001b[0m \u001b[1;33m=\u001b[0m \u001b[0mCParserWrapper\u001b[0m\u001b[1;33m(\u001b[0m\u001b[0mself\u001b[0m\u001b[1;33m.\u001b[0m\u001b[0mf\u001b[0m\u001b[1;33m,\u001b[0m \u001b[1;33m**\u001b[0m\u001b[0mself\u001b[0m\u001b[1;33m.\u001b[0m\u001b[0moptions\u001b[0m\u001b[1;33m)\u001b[0m\u001b[1;33m\u001b[0m\u001b[1;33m\u001b[0m\u001b[0m\n\u001b[0m\u001b[0;32m   1179\u001b[0m         \u001b[1;32melse\u001b[0m\u001b[1;33m:\u001b[0m\u001b[1;33m\u001b[0m\u001b[1;33m\u001b[0m\u001b[0m\n\u001b[0;32m   1180\u001b[0m             \u001b[1;32mif\u001b[0m \u001b[0mengine\u001b[0m \u001b[1;33m==\u001b[0m \u001b[1;34m\"python\"\u001b[0m\u001b[1;33m:\u001b[0m\u001b[1;33m\u001b[0m\u001b[1;33m\u001b[0m\u001b[0m\n",
      "\u001b[1;32m~\\anaconda3\\envs\\mlenv\\lib\\site-packages\\pandas\\io\\parsers.py\u001b[0m in \u001b[0;36m__init__\u001b[1;34m(self, src, **kwds)\u001b[0m\n\u001b[0;32m   2006\u001b[0m         \u001b[0mkwds\u001b[0m\u001b[1;33m[\u001b[0m\u001b[1;34m\"usecols\"\u001b[0m\u001b[1;33m]\u001b[0m \u001b[1;33m=\u001b[0m \u001b[0mself\u001b[0m\u001b[1;33m.\u001b[0m\u001b[0musecols\u001b[0m\u001b[1;33m\u001b[0m\u001b[1;33m\u001b[0m\u001b[0m\n\u001b[0;32m   2007\u001b[0m \u001b[1;33m\u001b[0m\u001b[0m\n\u001b[1;32m-> 2008\u001b[1;33m         \u001b[0mself\u001b[0m\u001b[1;33m.\u001b[0m\u001b[0m_reader\u001b[0m \u001b[1;33m=\u001b[0m \u001b[0mparsers\u001b[0m\u001b[1;33m.\u001b[0m\u001b[0mTextReader\u001b[0m\u001b[1;33m(\u001b[0m\u001b[0msrc\u001b[0m\u001b[1;33m,\u001b[0m \u001b[1;33m**\u001b[0m\u001b[0mkwds\u001b[0m\u001b[1;33m)\u001b[0m\u001b[1;33m\u001b[0m\u001b[1;33m\u001b[0m\u001b[0m\n\u001b[0m\u001b[0;32m   2009\u001b[0m         \u001b[0mself\u001b[0m\u001b[1;33m.\u001b[0m\u001b[0munnamed_cols\u001b[0m \u001b[1;33m=\u001b[0m \u001b[0mself\u001b[0m\u001b[1;33m.\u001b[0m\u001b[0m_reader\u001b[0m\u001b[1;33m.\u001b[0m\u001b[0munnamed_cols\u001b[0m\u001b[1;33m\u001b[0m\u001b[1;33m\u001b[0m\u001b[0m\n\u001b[0;32m   2010\u001b[0m \u001b[1;33m\u001b[0m\u001b[0m\n",
      "\u001b[1;32mpandas\\_libs\\parsers.pyx\u001b[0m in \u001b[0;36mpandas._libs.parsers.TextReader.__cinit__\u001b[1;34m()\u001b[0m\n",
      "\u001b[1;32mpandas\\_libs\\parsers.pyx\u001b[0m in \u001b[0;36mpandas._libs.parsers.TextReader._setup_parser_source\u001b[1;34m()\u001b[0m\n",
      "\u001b[1;31mFileNotFoundError\u001b[0m: [Errno 2] No such file or directory: 'Data/artists.csv'"
     ]
    }
   ],
   "source": [
    "# File to Load (Remember to change the path if needed.)\n",
    "artist_data_to_load = \"Data/artists.csv\"\n",
    "data_by_artist_to_load = \"Data/data_by_artist_o.csv\"\n",
    "genere_data_to_load = \"Data/data_by_genres_o.csv\"\n",
    "year_data_to_load = \"Data/data_by_year_o.csv\"\n",
    "data_o_to_load = \"Data/data_o.csv\"\n",
    "track_data_to_load = \"Data/tracks.csv\"\n",
    "# Read the School Data and Student Data and store into a Pandas DataFrame\n",
    "artist_df = pd.read_csv(artist_data_to_load)\n",
    "artist_data_df = pd.read_csv(data_by_artist_to_load)\n",
    "genre_data_df = pd.read_csv(genere_data_to_load)\n",
    "year_data_df = pd.read_csv(year_data_to_load)\n",
    "data_df = pd.read_csv(data_o_to_load)\n",
    "track_data_df = pd.read_csv(track_data_to_load)"
   ]
  },
  {
   "cell_type": "code",
   "execution_count": 17,
   "metadata": {},
   "outputs": [
    {
     "output_type": "execute_result",
     "data": {
      "text/plain": [
       "                       id  followers genres  \\\n",
       "0  0DheY5irMjBUeLybbCUEZ2        0.0     []   \n",
       "1  0DlhY15l3wsrnlfGio2bjU        5.0     []   \n",
       "2  0DmRESX2JknGPQyO15yxg7        0.0     []   \n",
       "3  0DmhnbHjm1qw6NCYPeZNgJ        0.0     []   \n",
       "4  0Dn11fWM7vHQ3rinvWEl4E        2.0     []   \n",
       "\n",
       "                                             name  popularity  \n",
       "0  Armid & Amir Zare Pashai feat. Sara Rouzbehani           0  \n",
       "1                                     ปูนา ภาวิณี           0  \n",
       "2                                           Sadaa           0  \n",
       "3                                       Tra'gruda           0  \n",
       "4                          Ioannis Panoutsopoulos           0  "
      ],
      "text/html": "<div>\n<style scoped>\n    .dataframe tbody tr th:only-of-type {\n        vertical-align: middle;\n    }\n\n    .dataframe tbody tr th {\n        vertical-align: top;\n    }\n\n    .dataframe thead th {\n        text-align: right;\n    }\n</style>\n<table border=\"1\" class=\"dataframe\">\n  <thead>\n    <tr style=\"text-align: right;\">\n      <th></th>\n      <th>id</th>\n      <th>followers</th>\n      <th>genres</th>\n      <th>name</th>\n      <th>popularity</th>\n    </tr>\n  </thead>\n  <tbody>\n    <tr>\n      <th>0</th>\n      <td>0DheY5irMjBUeLybbCUEZ2</td>\n      <td>0.0</td>\n      <td>[]</td>\n      <td>Armid &amp; Amir Zare Pashai feat. Sara Rouzbehani</td>\n      <td>0</td>\n    </tr>\n    <tr>\n      <th>1</th>\n      <td>0DlhY15l3wsrnlfGio2bjU</td>\n      <td>5.0</td>\n      <td>[]</td>\n      <td>ปูนา ภาวิณี</td>\n      <td>0</td>\n    </tr>\n    <tr>\n      <th>2</th>\n      <td>0DmRESX2JknGPQyO15yxg7</td>\n      <td>0.0</td>\n      <td>[]</td>\n      <td>Sadaa</td>\n      <td>0</td>\n    </tr>\n    <tr>\n      <th>3</th>\n      <td>0DmhnbHjm1qw6NCYPeZNgJ</td>\n      <td>0.0</td>\n      <td>[]</td>\n      <td>Tra'gruda</td>\n      <td>0</td>\n    </tr>\n    <tr>\n      <th>4</th>\n      <td>0Dn11fWM7vHQ3rinvWEl4E</td>\n      <td>2.0</td>\n      <td>[]</td>\n      <td>Ioannis Panoutsopoulos</td>\n      <td>0</td>\n    </tr>\n  </tbody>\n</table>\n</div>"
     },
     "metadata": {},
     "execution_count": 17
    }
   ],
   "source": [
    "artists_head = artist_df.head()\n",
    "artists_head"
   ]
  },
  {
   "cell_type": "code",
   "execution_count": 18,
   "metadata": {},
   "outputs": [
    {
     "output_type": "execute_result",
     "data": {
      "text/plain": [
       "           genres                                            artists  \\\n",
       "0  ['show tunes']                   \"Cats\" 1981 Original London Cast   \n",
       "1              []                          \"Cats\" 1983 Broadway Cast   \n",
       "2              []        \"Fiddler On The Roof” Motion Picture Chorus   \n",
       "3              []     \"Fiddler On The Roof” Motion Picture Orchestra   \n",
       "4              []  \"Joseph And The Amazing Technicolor Dreamcoat\"...   \n",
       "\n",
       "   acousticness  danceability    duration_ms    energy  instrumentalness  \\\n",
       "0      0.590111      0.467222  250318.555556  0.394003          0.011400   \n",
       "1      0.862538      0.441731  287280.000000  0.406808          0.081158   \n",
       "2      0.856571      0.348286  328920.000000  0.286571          0.024593   \n",
       "3      0.884926      0.425074  262890.962963  0.245770          0.073587   \n",
       "4      0.510714      0.467143  270436.142857  0.488286          0.009400   \n",
       "\n",
       "   liveness   loudness  speechiness       tempo   valence  popularity  key  \\\n",
       "0  0.290833 -14.448000     0.210389  117.518111  0.389500   38.333333    5   \n",
       "1  0.315215 -10.690000     0.176212  103.044154  0.268865   30.576923    5   \n",
       "2  0.325786 -15.230714     0.118514   77.375857  0.354857   34.857143    0   \n",
       "3  0.275481 -15.639370     0.123200   88.667630  0.372030   34.851852    0   \n",
       "4  0.195000 -10.236714     0.098543  122.835857  0.482286   43.000000    5   \n",
       "\n",
       "   mode  count  \n",
       "0     1      9  \n",
       "1     1     26  \n",
       "2     1      7  \n",
       "3     1     27  \n",
       "4     1      7  "
      ],
      "text/html": "<div>\n<style scoped>\n    .dataframe tbody tr th:only-of-type {\n        vertical-align: middle;\n    }\n\n    .dataframe tbody tr th {\n        vertical-align: top;\n    }\n\n    .dataframe thead th {\n        text-align: right;\n    }\n</style>\n<table border=\"1\" class=\"dataframe\">\n  <thead>\n    <tr style=\"text-align: right;\">\n      <th></th>\n      <th>genres</th>\n      <th>artists</th>\n      <th>acousticness</th>\n      <th>danceability</th>\n      <th>duration_ms</th>\n      <th>energy</th>\n      <th>instrumentalness</th>\n      <th>liveness</th>\n      <th>loudness</th>\n      <th>speechiness</th>\n      <th>tempo</th>\n      <th>valence</th>\n      <th>popularity</th>\n      <th>key</th>\n      <th>mode</th>\n      <th>count</th>\n    </tr>\n  </thead>\n  <tbody>\n    <tr>\n      <th>0</th>\n      <td>['show tunes']</td>\n      <td>\"Cats\" 1981 Original London Cast</td>\n      <td>0.590111</td>\n      <td>0.467222</td>\n      <td>250318.555556</td>\n      <td>0.394003</td>\n      <td>0.011400</td>\n      <td>0.290833</td>\n      <td>-14.448000</td>\n      <td>0.210389</td>\n      <td>117.518111</td>\n      <td>0.389500</td>\n      <td>38.333333</td>\n      <td>5</td>\n      <td>1</td>\n      <td>9</td>\n    </tr>\n    <tr>\n      <th>1</th>\n      <td>[]</td>\n      <td>\"Cats\" 1983 Broadway Cast</td>\n      <td>0.862538</td>\n      <td>0.441731</td>\n      <td>287280.000000</td>\n      <td>0.406808</td>\n      <td>0.081158</td>\n      <td>0.315215</td>\n      <td>-10.690000</td>\n      <td>0.176212</td>\n      <td>103.044154</td>\n      <td>0.268865</td>\n      <td>30.576923</td>\n      <td>5</td>\n      <td>1</td>\n      <td>26</td>\n    </tr>\n    <tr>\n      <th>2</th>\n      <td>[]</td>\n      <td>\"Fiddler On The Roof” Motion Picture Chorus</td>\n      <td>0.856571</td>\n      <td>0.348286</td>\n      <td>328920.000000</td>\n      <td>0.286571</td>\n      <td>0.024593</td>\n      <td>0.325786</td>\n      <td>-15.230714</td>\n      <td>0.118514</td>\n      <td>77.375857</td>\n      <td>0.354857</td>\n      <td>34.857143</td>\n      <td>0</td>\n      <td>1</td>\n      <td>7</td>\n    </tr>\n    <tr>\n      <th>3</th>\n      <td>[]</td>\n      <td>\"Fiddler On The Roof” Motion Picture Orchestra</td>\n      <td>0.884926</td>\n      <td>0.425074</td>\n      <td>262890.962963</td>\n      <td>0.245770</td>\n      <td>0.073587</td>\n      <td>0.275481</td>\n      <td>-15.639370</td>\n      <td>0.123200</td>\n      <td>88.667630</td>\n      <td>0.372030</td>\n      <td>34.851852</td>\n      <td>0</td>\n      <td>1</td>\n      <td>27</td>\n    </tr>\n    <tr>\n      <th>4</th>\n      <td>[]</td>\n      <td>\"Joseph And The Amazing Technicolor Dreamcoat\"...</td>\n      <td>0.510714</td>\n      <td>0.467143</td>\n      <td>270436.142857</td>\n      <td>0.488286</td>\n      <td>0.009400</td>\n      <td>0.195000</td>\n      <td>-10.236714</td>\n      <td>0.098543</td>\n      <td>122.835857</td>\n      <td>0.482286</td>\n      <td>43.000000</td>\n      <td>5</td>\n      <td>1</td>\n      <td>7</td>\n    </tr>\n  </tbody>\n</table>\n</div>"
     },
     "metadata": {},
     "execution_count": 18
    }
   ],
   "source": [
    "artist_data_head = artist_data_df.head()\n",
    "artist_data_head"
   ]
  },
  {
   "cell_type": "code",
   "execution_count": 19,
   "metadata": {},
   "outputs": [
    {
     "output_type": "execute_result",
     "data": {
      "text/plain": [
       "   mode                  genres  acousticness  danceability   duration_ms  \\\n",
       "0     1  21st century classical      0.979333      0.162883  1.602977e+05   \n",
       "1     1                   432hz      0.494780      0.299333  1.048887e+06   \n",
       "2     1                   8-bit      0.762000      0.712000  1.151770e+05   \n",
       "3     1                      []      0.651417      0.529093  2.328809e+05   \n",
       "4     1              a cappella      0.676557      0.538961  1.906285e+05   \n",
       "\n",
       "     energy  instrumentalness  liveness   loudness  speechiness       tempo  \\\n",
       "0  0.071317          0.606834  0.361600 -31.514333     0.040567   75.336500   \n",
       "1  0.450678          0.477762  0.131000 -16.854000     0.076817  120.285667   \n",
       "2  0.818000          0.876000  0.126000  -9.180000     0.047000  133.444000   \n",
       "3  0.419146          0.205309  0.218696 -12.288965     0.107872  112.857352   \n",
       "4  0.316434          0.003003  0.172254 -12.479387     0.082851  112.110362   \n",
       "\n",
       "    valence  popularity  key  \n",
       "0  0.103783   27.833333    6  \n",
       "1  0.221750   52.500000    5  \n",
       "2  0.975000   48.000000    7  \n",
       "3  0.513604   20.859882    7  \n",
       "4  0.448249   45.820071    7  "
      ],
      "text/html": "<div>\n<style scoped>\n    .dataframe tbody tr th:only-of-type {\n        vertical-align: middle;\n    }\n\n    .dataframe tbody tr th {\n        vertical-align: top;\n    }\n\n    .dataframe thead th {\n        text-align: right;\n    }\n</style>\n<table border=\"1\" class=\"dataframe\">\n  <thead>\n    <tr style=\"text-align: right;\">\n      <th></th>\n      <th>mode</th>\n      <th>genres</th>\n      <th>acousticness</th>\n      <th>danceability</th>\n      <th>duration_ms</th>\n      <th>energy</th>\n      <th>instrumentalness</th>\n      <th>liveness</th>\n      <th>loudness</th>\n      <th>speechiness</th>\n      <th>tempo</th>\n      <th>valence</th>\n      <th>popularity</th>\n      <th>key</th>\n    </tr>\n  </thead>\n  <tbody>\n    <tr>\n      <th>0</th>\n      <td>1</td>\n      <td>21st century classical</td>\n      <td>0.979333</td>\n      <td>0.162883</td>\n      <td>1.602977e+05</td>\n      <td>0.071317</td>\n      <td>0.606834</td>\n      <td>0.361600</td>\n      <td>-31.514333</td>\n      <td>0.040567</td>\n      <td>75.336500</td>\n      <td>0.103783</td>\n      <td>27.833333</td>\n      <td>6</td>\n    </tr>\n    <tr>\n      <th>1</th>\n      <td>1</td>\n      <td>432hz</td>\n      <td>0.494780</td>\n      <td>0.299333</td>\n      <td>1.048887e+06</td>\n      <td>0.450678</td>\n      <td>0.477762</td>\n      <td>0.131000</td>\n      <td>-16.854000</td>\n      <td>0.076817</td>\n      <td>120.285667</td>\n      <td>0.221750</td>\n      <td>52.500000</td>\n      <td>5</td>\n    </tr>\n    <tr>\n      <th>2</th>\n      <td>1</td>\n      <td>8-bit</td>\n      <td>0.762000</td>\n      <td>0.712000</td>\n      <td>1.151770e+05</td>\n      <td>0.818000</td>\n      <td>0.876000</td>\n      <td>0.126000</td>\n      <td>-9.180000</td>\n      <td>0.047000</td>\n      <td>133.444000</td>\n      <td>0.975000</td>\n      <td>48.000000</td>\n      <td>7</td>\n    </tr>\n    <tr>\n      <th>3</th>\n      <td>1</td>\n      <td>[]</td>\n      <td>0.651417</td>\n      <td>0.529093</td>\n      <td>2.328809e+05</td>\n      <td>0.419146</td>\n      <td>0.205309</td>\n      <td>0.218696</td>\n      <td>-12.288965</td>\n      <td>0.107872</td>\n      <td>112.857352</td>\n      <td>0.513604</td>\n      <td>20.859882</td>\n      <td>7</td>\n    </tr>\n    <tr>\n      <th>4</th>\n      <td>1</td>\n      <td>a cappella</td>\n      <td>0.676557</td>\n      <td>0.538961</td>\n      <td>1.906285e+05</td>\n      <td>0.316434</td>\n      <td>0.003003</td>\n      <td>0.172254</td>\n      <td>-12.479387</td>\n      <td>0.082851</td>\n      <td>112.110362</td>\n      <td>0.448249</td>\n      <td>45.820071</td>\n      <td>7</td>\n    </tr>\n  </tbody>\n</table>\n</div>"
     },
     "metadata": {},
     "execution_count": 19
    }
   ],
   "source": [
    "genre_head = genere_data_df.head()\n",
    "genre_head"
   ]
  },
  {
   "cell_type": "code",
   "execution_count": 20,
   "metadata": {},
   "outputs": [
    {
     "output_type": "execute_result",
     "data": {
      "text/plain": [
       "   mode  year  acousticness  danceability    duration_ms    energy  \\\n",
       "0     1  1921      0.886896      0.418597  260537.166667  0.231815   \n",
       "1     1  1922      0.938592      0.482042  165469.746479  0.237815   \n",
       "2     1  1923      0.957247      0.577341  177942.362162  0.262406   \n",
       "3     1  1924      0.940200      0.549894  191046.707627  0.344347   \n",
       "4     1  1925      0.962607      0.573863  184986.924460  0.278594   \n",
       "\n",
       "   instrumentalness  liveness   loudness  speechiness       tempo   valence  \\\n",
       "0          0.344878  0.205710 -17.048667     0.073662  101.531493  0.379327   \n",
       "1          0.434195  0.240720 -19.275282     0.116655  100.884521  0.535549   \n",
       "2          0.371733  0.227462 -14.129211     0.093949  114.010730  0.625492   \n",
       "3          0.581701  0.235219 -14.231343     0.092089  120.689572  0.663725   \n",
       "4          0.418297  0.237668 -14.146414     0.111918  115.521921  0.621929   \n",
       "\n",
       "   popularity  key  \n",
       "0    0.653333    2  \n",
       "1    0.140845   10  \n",
       "2    5.389189    0  \n",
       "3    0.661017   10  \n",
       "4    2.604317    5  "
      ],
      "text/html": "<div>\n<style scoped>\n    .dataframe tbody tr th:only-of-type {\n        vertical-align: middle;\n    }\n\n    .dataframe tbody tr th {\n        vertical-align: top;\n    }\n\n    .dataframe thead th {\n        text-align: right;\n    }\n</style>\n<table border=\"1\" class=\"dataframe\">\n  <thead>\n    <tr style=\"text-align: right;\">\n      <th></th>\n      <th>mode</th>\n      <th>year</th>\n      <th>acousticness</th>\n      <th>danceability</th>\n      <th>duration_ms</th>\n      <th>energy</th>\n      <th>instrumentalness</th>\n      <th>liveness</th>\n      <th>loudness</th>\n      <th>speechiness</th>\n      <th>tempo</th>\n      <th>valence</th>\n      <th>popularity</th>\n      <th>key</th>\n    </tr>\n  </thead>\n  <tbody>\n    <tr>\n      <th>0</th>\n      <td>1</td>\n      <td>1921</td>\n      <td>0.886896</td>\n      <td>0.418597</td>\n      <td>260537.166667</td>\n      <td>0.231815</td>\n      <td>0.344878</td>\n      <td>0.205710</td>\n      <td>-17.048667</td>\n      <td>0.073662</td>\n      <td>101.531493</td>\n      <td>0.379327</td>\n      <td>0.653333</td>\n      <td>2</td>\n    </tr>\n    <tr>\n      <th>1</th>\n      <td>1</td>\n      <td>1922</td>\n      <td>0.938592</td>\n      <td>0.482042</td>\n      <td>165469.746479</td>\n      <td>0.237815</td>\n      <td>0.434195</td>\n      <td>0.240720</td>\n      <td>-19.275282</td>\n      <td>0.116655</td>\n      <td>100.884521</td>\n      <td>0.535549</td>\n      <td>0.140845</td>\n      <td>10</td>\n    </tr>\n    <tr>\n      <th>2</th>\n      <td>1</td>\n      <td>1923</td>\n      <td>0.957247</td>\n      <td>0.577341</td>\n      <td>177942.362162</td>\n      <td>0.262406</td>\n      <td>0.371733</td>\n      <td>0.227462</td>\n      <td>-14.129211</td>\n      <td>0.093949</td>\n      <td>114.010730</td>\n      <td>0.625492</td>\n      <td>5.389189</td>\n      <td>0</td>\n    </tr>\n    <tr>\n      <th>3</th>\n      <td>1</td>\n      <td>1924</td>\n      <td>0.940200</td>\n      <td>0.549894</td>\n      <td>191046.707627</td>\n      <td>0.344347</td>\n      <td>0.581701</td>\n      <td>0.235219</td>\n      <td>-14.231343</td>\n      <td>0.092089</td>\n      <td>120.689572</td>\n      <td>0.663725</td>\n      <td>0.661017</td>\n      <td>10</td>\n    </tr>\n    <tr>\n      <th>4</th>\n      <td>1</td>\n      <td>1925</td>\n      <td>0.962607</td>\n      <td>0.573863</td>\n      <td>184986.924460</td>\n      <td>0.278594</td>\n      <td>0.418297</td>\n      <td>0.237668</td>\n      <td>-14.146414</td>\n      <td>0.111918</td>\n      <td>115.521921</td>\n      <td>0.621929</td>\n      <td>2.604317</td>\n      <td>5</td>\n    </tr>\n  </tbody>\n</table>\n</div>"
     },
     "metadata": {},
     "execution_count": 20
    }
   ],
   "source": [
    "year_data_head = year_data_df.head()\n",
    "year_data_head"
   ]
  },
  {
   "cell_type": "code",
   "execution_count": 21,
   "metadata": {},
   "outputs": [
    {
     "output_type": "execute_result",
     "data": {
      "text/plain": [
       "   valence  year  acousticness  \\\n",
       "0   0.0594  1921         0.982   \n",
       "1   0.9630  1921         0.732   \n",
       "2   0.0394  1921         0.961   \n",
       "3   0.1650  1921         0.967   \n",
       "4   0.2530  1921         0.957   \n",
       "\n",
       "                                             artists  danceability  \\\n",
       "0  ['Sergei Rachmaninoff', 'James Levine', 'Berli...         0.279   \n",
       "1                                     ['Dennis Day']         0.819   \n",
       "2  ['KHP Kridhamardawa Karaton Ngayogyakarta Hadi...         0.328   \n",
       "3                                   ['Frank Parker']         0.275   \n",
       "4                                     ['Phil Regan']         0.418   \n",
       "\n",
       "   duration_ms  energy  explicit                      id  instrumentalness  \\\n",
       "0       831667   0.211         0  4BJqT0PrAfrxzMOxytFOIz          0.878000   \n",
       "1       180533   0.341         0  7xPhfUan2yNtyFG0cUWkt8          0.000000   \n",
       "2       500062   0.166         0  1o6I8BglA6ylDMrIELygv1          0.913000   \n",
       "3       210000   0.309         0  3ftBPsC5vPBKxYSee08FDH          0.000028   \n",
       "4       166693   0.193         0  4d6HGyGT8e121BsdKmw9v6          0.000002   \n",
       "\n",
       "   key  liveness  loudness  mode  \\\n",
       "0   10     0.665   -20.096     1   \n",
       "1    7     0.160   -12.441     1   \n",
       "2    3     0.101   -14.850     1   \n",
       "3    5     0.381    -9.316     1   \n",
       "4    3     0.229   -10.096     1   \n",
       "\n",
       "                                                name  popularity release_date  \\\n",
       "0  Piano Concerto No. 3 in D Minor, Op. 30: III. ...           4         1921   \n",
       "1                            Clancy Lowered the Boom           5         1921   \n",
       "2                                          Gati Bali           5         1921   \n",
       "3                                          Danny Boy           3         1921   \n",
       "4                        When Irish Eyes Are Smiling           2         1921   \n",
       "\n",
       "   speechiness    tempo  \n",
       "0       0.0366   80.954  \n",
       "1       0.4150   60.936  \n",
       "2       0.0339  110.339  \n",
       "3       0.0354  100.109  \n",
       "4       0.0380  101.665  "
      ],
      "text/html": "<div>\n<style scoped>\n    .dataframe tbody tr th:only-of-type {\n        vertical-align: middle;\n    }\n\n    .dataframe tbody tr th {\n        vertical-align: top;\n    }\n\n    .dataframe thead th {\n        text-align: right;\n    }\n</style>\n<table border=\"1\" class=\"dataframe\">\n  <thead>\n    <tr style=\"text-align: right;\">\n      <th></th>\n      <th>valence</th>\n      <th>year</th>\n      <th>acousticness</th>\n      <th>artists</th>\n      <th>danceability</th>\n      <th>duration_ms</th>\n      <th>energy</th>\n      <th>explicit</th>\n      <th>id</th>\n      <th>instrumentalness</th>\n      <th>key</th>\n      <th>liveness</th>\n      <th>loudness</th>\n      <th>mode</th>\n      <th>name</th>\n      <th>popularity</th>\n      <th>release_date</th>\n      <th>speechiness</th>\n      <th>tempo</th>\n    </tr>\n  </thead>\n  <tbody>\n    <tr>\n      <th>0</th>\n      <td>0.0594</td>\n      <td>1921</td>\n      <td>0.982</td>\n      <td>['Sergei Rachmaninoff', 'James Levine', 'Berli...</td>\n      <td>0.279</td>\n      <td>831667</td>\n      <td>0.211</td>\n      <td>0</td>\n      <td>4BJqT0PrAfrxzMOxytFOIz</td>\n      <td>0.878000</td>\n      <td>10</td>\n      <td>0.665</td>\n      <td>-20.096</td>\n      <td>1</td>\n      <td>Piano Concerto No. 3 in D Minor, Op. 30: III. ...</td>\n      <td>4</td>\n      <td>1921</td>\n      <td>0.0366</td>\n      <td>80.954</td>\n    </tr>\n    <tr>\n      <th>1</th>\n      <td>0.9630</td>\n      <td>1921</td>\n      <td>0.732</td>\n      <td>['Dennis Day']</td>\n      <td>0.819</td>\n      <td>180533</td>\n      <td>0.341</td>\n      <td>0</td>\n      <td>7xPhfUan2yNtyFG0cUWkt8</td>\n      <td>0.000000</td>\n      <td>7</td>\n      <td>0.160</td>\n      <td>-12.441</td>\n      <td>1</td>\n      <td>Clancy Lowered the Boom</td>\n      <td>5</td>\n      <td>1921</td>\n      <td>0.4150</td>\n      <td>60.936</td>\n    </tr>\n    <tr>\n      <th>2</th>\n      <td>0.0394</td>\n      <td>1921</td>\n      <td>0.961</td>\n      <td>['KHP Kridhamardawa Karaton Ngayogyakarta Hadi...</td>\n      <td>0.328</td>\n      <td>500062</td>\n      <td>0.166</td>\n      <td>0</td>\n      <td>1o6I8BglA6ylDMrIELygv1</td>\n      <td>0.913000</td>\n      <td>3</td>\n      <td>0.101</td>\n      <td>-14.850</td>\n      <td>1</td>\n      <td>Gati Bali</td>\n      <td>5</td>\n      <td>1921</td>\n      <td>0.0339</td>\n      <td>110.339</td>\n    </tr>\n    <tr>\n      <th>3</th>\n      <td>0.1650</td>\n      <td>1921</td>\n      <td>0.967</td>\n      <td>['Frank Parker']</td>\n      <td>0.275</td>\n      <td>210000</td>\n      <td>0.309</td>\n      <td>0</td>\n      <td>3ftBPsC5vPBKxYSee08FDH</td>\n      <td>0.000028</td>\n      <td>5</td>\n      <td>0.381</td>\n      <td>-9.316</td>\n      <td>1</td>\n      <td>Danny Boy</td>\n      <td>3</td>\n      <td>1921</td>\n      <td>0.0354</td>\n      <td>100.109</td>\n    </tr>\n    <tr>\n      <th>4</th>\n      <td>0.2530</td>\n      <td>1921</td>\n      <td>0.957</td>\n      <td>['Phil Regan']</td>\n      <td>0.418</td>\n      <td>166693</td>\n      <td>0.193</td>\n      <td>0</td>\n      <td>4d6HGyGT8e121BsdKmw9v6</td>\n      <td>0.000002</td>\n      <td>3</td>\n      <td>0.229</td>\n      <td>-10.096</td>\n      <td>1</td>\n      <td>When Irish Eyes Are Smiling</td>\n      <td>2</td>\n      <td>1921</td>\n      <td>0.0380</td>\n      <td>101.665</td>\n    </tr>\n  </tbody>\n</table>\n</div>"
     },
     "metadata": {},
     "execution_count": 21
    }
   ],
   "source": [
    "data_head = data_df.head()\n",
    "data_head "
   ]
  },
  {
   "cell_type": "code",
   "execution_count": 22,
   "metadata": {},
   "outputs": [
    {
     "output_type": "execute_result",
     "data": {
      "text/plain": [
       "                       id                                 name  popularity  \\\n",
       "0  35iwgR4jXetI318WEWsa1Q                                Carve           6   \n",
       "1  021ht4sdgPcrDgSk7JTbKY  Capítulo 2.16 - Banquero Anarquista           0   \n",
       "2  07A5yehtSnoedViJAZkNnc   Vivo para Quererte - Remasterizado           0   \n",
       "3  08FmqUhxtyLTn6pAh6bk45        El Prisionero - Remasterizado           0   \n",
       "4  08y9GfoqCWfOGsKdwojr5e                  Lady of the Evening           0   \n",
       "\n",
       "   duration_ms  explicit              artists                  id_artists  \\\n",
       "0       126903         0              ['Uli']  ['45tIt06XoI0Iio4LBEVpls']   \n",
       "1        98200         0  ['Fernando Pessoa']  ['14jtPCOoNZwquk5wd9DxrY']   \n",
       "2       181640         0  ['Ignacio Corsini']  ['5LiOoJbxVSAMkBS2fUm3X2']   \n",
       "3       176907         0  ['Ignacio Corsini']  ['5LiOoJbxVSAMkBS2fUm3X2']   \n",
       "4       163080         0      ['Dick Haymes']  ['3BiJGZsyX9sJchTqcSA7Su']   \n",
       "\n",
       "  release_date  danceability  energy  key  loudness  mode  speechiness  \\\n",
       "0   1922-02-22         0.645  0.4450    0   -13.338     1       0.4510   \n",
       "1   1922-06-01         0.695  0.2630    0   -22.136     1       0.9570   \n",
       "2   1922-03-21         0.434  0.1770    1   -21.180     1       0.0512   \n",
       "3   1922-03-21         0.321  0.0946    7   -27.961     1       0.0504   \n",
       "4         1922         0.402  0.1580    3   -16.900     0       0.0390   \n",
       "\n",
       "   acousticness  instrumentalness  liveness  valence    tempo  time_signature  \n",
       "0         0.674            0.7440     0.151    0.127  104.851               3  \n",
       "1         0.797            0.0000     0.148    0.655  102.009               1  \n",
       "2         0.994            0.0218     0.212    0.457  130.418               5  \n",
       "3         0.995            0.9180     0.104    0.397  169.980               3  \n",
       "4         0.989            0.1300     0.311    0.196  103.220               4  "
      ],
      "text/html": "<div>\n<style scoped>\n    .dataframe tbody tr th:only-of-type {\n        vertical-align: middle;\n    }\n\n    .dataframe tbody tr th {\n        vertical-align: top;\n    }\n\n    .dataframe thead th {\n        text-align: right;\n    }\n</style>\n<table border=\"1\" class=\"dataframe\">\n  <thead>\n    <tr style=\"text-align: right;\">\n      <th></th>\n      <th>id</th>\n      <th>name</th>\n      <th>popularity</th>\n      <th>duration_ms</th>\n      <th>explicit</th>\n      <th>artists</th>\n      <th>id_artists</th>\n      <th>release_date</th>\n      <th>danceability</th>\n      <th>energy</th>\n      <th>key</th>\n      <th>loudness</th>\n      <th>mode</th>\n      <th>speechiness</th>\n      <th>acousticness</th>\n      <th>instrumentalness</th>\n      <th>liveness</th>\n      <th>valence</th>\n      <th>tempo</th>\n      <th>time_signature</th>\n    </tr>\n  </thead>\n  <tbody>\n    <tr>\n      <th>0</th>\n      <td>35iwgR4jXetI318WEWsa1Q</td>\n      <td>Carve</td>\n      <td>6</td>\n      <td>126903</td>\n      <td>0</td>\n      <td>['Uli']</td>\n      <td>['45tIt06XoI0Iio4LBEVpls']</td>\n      <td>1922-02-22</td>\n      <td>0.645</td>\n      <td>0.4450</td>\n      <td>0</td>\n      <td>-13.338</td>\n      <td>1</td>\n      <td>0.4510</td>\n      <td>0.674</td>\n      <td>0.7440</td>\n      <td>0.151</td>\n      <td>0.127</td>\n      <td>104.851</td>\n      <td>3</td>\n    </tr>\n    <tr>\n      <th>1</th>\n      <td>021ht4sdgPcrDgSk7JTbKY</td>\n      <td>Capítulo 2.16 - Banquero Anarquista</td>\n      <td>0</td>\n      <td>98200</td>\n      <td>0</td>\n      <td>['Fernando Pessoa']</td>\n      <td>['14jtPCOoNZwquk5wd9DxrY']</td>\n      <td>1922-06-01</td>\n      <td>0.695</td>\n      <td>0.2630</td>\n      <td>0</td>\n      <td>-22.136</td>\n      <td>1</td>\n      <td>0.9570</td>\n      <td>0.797</td>\n      <td>0.0000</td>\n      <td>0.148</td>\n      <td>0.655</td>\n      <td>102.009</td>\n      <td>1</td>\n    </tr>\n    <tr>\n      <th>2</th>\n      <td>07A5yehtSnoedViJAZkNnc</td>\n      <td>Vivo para Quererte - Remasterizado</td>\n      <td>0</td>\n      <td>181640</td>\n      <td>0</td>\n      <td>['Ignacio Corsini']</td>\n      <td>['5LiOoJbxVSAMkBS2fUm3X2']</td>\n      <td>1922-03-21</td>\n      <td>0.434</td>\n      <td>0.1770</td>\n      <td>1</td>\n      <td>-21.180</td>\n      <td>1</td>\n      <td>0.0512</td>\n      <td>0.994</td>\n      <td>0.0218</td>\n      <td>0.212</td>\n      <td>0.457</td>\n      <td>130.418</td>\n      <td>5</td>\n    </tr>\n    <tr>\n      <th>3</th>\n      <td>08FmqUhxtyLTn6pAh6bk45</td>\n      <td>El Prisionero - Remasterizado</td>\n      <td>0</td>\n      <td>176907</td>\n      <td>0</td>\n      <td>['Ignacio Corsini']</td>\n      <td>['5LiOoJbxVSAMkBS2fUm3X2']</td>\n      <td>1922-03-21</td>\n      <td>0.321</td>\n      <td>0.0946</td>\n      <td>7</td>\n      <td>-27.961</td>\n      <td>1</td>\n      <td>0.0504</td>\n      <td>0.995</td>\n      <td>0.9180</td>\n      <td>0.104</td>\n      <td>0.397</td>\n      <td>169.980</td>\n      <td>3</td>\n    </tr>\n    <tr>\n      <th>4</th>\n      <td>08y9GfoqCWfOGsKdwojr5e</td>\n      <td>Lady of the Evening</td>\n      <td>0</td>\n      <td>163080</td>\n      <td>0</td>\n      <td>['Dick Haymes']</td>\n      <td>['3BiJGZsyX9sJchTqcSA7Su']</td>\n      <td>1922</td>\n      <td>0.402</td>\n      <td>0.1580</td>\n      <td>3</td>\n      <td>-16.900</td>\n      <td>0</td>\n      <td>0.0390</td>\n      <td>0.989</td>\n      <td>0.1300</td>\n      <td>0.311</td>\n      <td>0.196</td>\n      <td>103.220</td>\n      <td>4</td>\n    </tr>\n  </tbody>\n</table>\n</div>"
     },
     "metadata": {},
     "execution_count": 22
    }
   ],
   "source": [
    "track_head = track_data_df.head()\n",
    "track_head"
   ]
  },
  {
   "cell_type": "code",
   "execution_count": 23,
   "metadata": {},
   "outputs": [],
   "source": [
    "#artists_head.to_csv(r'C:\\Users\\USER\\UT-MCC-VIRT-DATA-PT-12-2020-U-B\\Week20\\final_project\\data\\heads\\artists_head.csv', index=False)\n",
    "#artist_data_head.to_csv(r'C:\\Users\\USER\\UT-MCC-VIRT-DATA-PT-12-2020-U-B\\Week20\\final_project\\data\\heads\\artist_data_head.csv', index=False)\n",
    "#genre_head.to_csv(r'C:\\Users\\USER\\UT-MCC-VIRT-DATA-PT-12-2020-U-B\\Week20\\final_project\\data\\heads\\genre_head.csv', index=False)\n",
    "#year_data_head.to_csv(r'C:\\Users\\USER\\UT-MCC-VIRT-DATA-PT-12-2020-U-B\\Week20\\final_project\\data\\heads\\year_data_head.csv', index=False)\n",
    "#data_head.to_csv(r'C:\\Users\\USER\\UT-MCC-VIRT-DATA-PT-12-2020-U-B\\Week20\\final_project\\data\\heads\\data_head.csv', index=False)\n",
    "#track_head.to_csv(r'C:\\Users\\USER\\UT-MCC-VIRT-DATA-PT-12-2020-U-B\\Week20\\final_project\\data\\heads\\track_head.csv', index=False)"
   ]
  },
  {
   "cell_type": "code",
   "execution_count": 39,
   "metadata": {},
   "outputs": [
    {
     "output_type": "execute_result",
     "data": {
      "text/plain": [
       "        valence  year  acousticness  \\\n",
       "7806      0.343  1961       0.94100   \n",
       "7807      0.598  1961       0.45100   \n",
       "7808      0.356  1961       0.93100   \n",
       "7809      0.967  1961       0.72900   \n",
       "7810      0.800  1961       0.76800   \n",
       "...         ...   ...           ...   \n",
       "170648    0.608  2020       0.08460   \n",
       "170649    0.734  2020       0.20600   \n",
       "170650    0.637  2020       0.10100   \n",
       "170651    0.195  2020       0.00998   \n",
       "170652    0.642  2020       0.13200   \n",
       "\n",
       "                                                  artists  danceability  \\\n",
       "7806                                    ['Elvis Presley']         0.396   \n",
       "7807                                             ['Dion']         0.364   \n",
       "7808                   ['Patsy Cline', 'The Jordanaires']         0.471   \n",
       "7809                                  ['The Marvelettes']         0.785   \n",
       "7810                                  ['Harry Belafonte']         0.594   \n",
       "...                                                   ...           ...   \n",
       "170648  ['Anuel AA', 'Daddy Yankee', 'KAROL G', 'Ozuna...         0.786   \n",
       "170649                                       ['Ashnikko']         0.717   \n",
       "170650                                        ['MAMAMOO']         0.634   \n",
       "170651                                         ['Eminem']         0.671   \n",
       "170652                              ['KEVVO', 'J Balvin']         0.856   \n",
       "\n",
       "        duration_ms  energy  explicit                      id  \\\n",
       "7806         182360   0.293         0  44AyOl4qVkzS48vBsbNXaC   \n",
       "7807         171600   0.607         0  1DndHckdH9m5rp6gYP086b   \n",
       "7808         164573   0.021         0  3zpj9dvJABiyMrmLCPw6i8   \n",
       "7809         148040   0.776         0  6jX5mso4x00c1EiNMrTU9U   \n",
       "7810         221704   0.889         0  1zW2csx1vVJrKfvDrFQNVt   \n",
       "...             ...     ...       ...                     ...   \n",
       "170648       301714   0.808         0  0KkIkfsLEJbrcIhYsCL7L5   \n",
       "170649       150654   0.753         0  0OStKKAuXlxA0fMH54Qs6E   \n",
       "170650       211280   0.858         0  4BZXVFYCb76Q0Klojq4piV   \n",
       "170651       337147   0.623         1  5SiZJoLXp3WOl3J4C8IK0d   \n",
       "170652       189507   0.721         1  7HmnJHfs0BkFzX4x8j0hkl   \n",
       "\n",
       "        instrumentalness  key  liveness  loudness  mode  \\\n",
       "7806            0.000196    2    0.1050   -14.062     1   \n",
       "7807            0.000000    2    0.2510    -9.791     1   \n",
       "7808            0.000001   10    0.1030   -24.385     1   \n",
       "7809            0.000000    2    0.1810    -5.259     1   \n",
       "7810            0.000000    5    0.1240    -7.775     1   \n",
       "...                  ...  ...       ...       ...   ...   \n",
       "170648          0.000289    7    0.0822    -3.702     1   \n",
       "170649          0.000000    7    0.1010    -6.020     1   \n",
       "170650          0.000009    4    0.2580    -2.226     0   \n",
       "170651          0.000008    2    0.6430    -7.161     1   \n",
       "170652          0.004710    7    0.1820    -4.928     1   \n",
       "\n",
       "                                   name  popularity release_date  speechiness  \\\n",
       "7806         Can't Help Falling in Love          78   1961-10-20       0.0275   \n",
       "7807                      Runaround Sue          63         1961       0.1250   \n",
       "7808             Crazy - Single Version          66   1961-11-27       0.0366   \n",
       "7809                 Please Mr. Postman          67         1961       0.0312   \n",
       "7810                   Jump in the Line          63   1961-07-21       0.2460   \n",
       "...                                 ...         ...          ...          ...   \n",
       "170648                            China          72   2020-05-29       0.0881   \n",
       "170649      Halloweenie III: Seven Days          68   2020-10-23       0.0605   \n",
       "170650                              AYA          76   2020-11-03       0.0809   \n",
       "170651                         Darkness          70   2020-01-17       0.3080   \n",
       "170652  Billetes Azules (with J Balvin)          74   2020-10-16       0.1080   \n",
       "\n",
       "          tempo  \n",
       "7806    100.307  \n",
       "7807     79.987  \n",
       "7808    107.765  \n",
       "7809    121.505  \n",
       "7810    116.187  \n",
       "...         ...  \n",
       "170648  105.029  \n",
       "170649  137.936  \n",
       "170650   91.688  \n",
       "170651   75.055  \n",
       "170652   94.991  \n",
       "\n",
       "[118900 rows x 19 columns]"
      ],
      "text/html": "<div>\n<style scoped>\n    .dataframe tbody tr th:only-of-type {\n        vertical-align: middle;\n    }\n\n    .dataframe tbody tr th {\n        vertical-align: top;\n    }\n\n    .dataframe thead th {\n        text-align: right;\n    }\n</style>\n<table border=\"1\" class=\"dataframe\">\n  <thead>\n    <tr style=\"text-align: right;\">\n      <th></th>\n      <th>valence</th>\n      <th>year</th>\n      <th>acousticness</th>\n      <th>artists</th>\n      <th>danceability</th>\n      <th>duration_ms</th>\n      <th>energy</th>\n      <th>explicit</th>\n      <th>id</th>\n      <th>instrumentalness</th>\n      <th>key</th>\n      <th>liveness</th>\n      <th>loudness</th>\n      <th>mode</th>\n      <th>name</th>\n      <th>popularity</th>\n      <th>release_date</th>\n      <th>speechiness</th>\n      <th>tempo</th>\n    </tr>\n  </thead>\n  <tbody>\n    <tr>\n      <th>7806</th>\n      <td>0.343</td>\n      <td>1961</td>\n      <td>0.94100</td>\n      <td>['Elvis Presley']</td>\n      <td>0.396</td>\n      <td>182360</td>\n      <td>0.293</td>\n      <td>0</td>\n      <td>44AyOl4qVkzS48vBsbNXaC</td>\n      <td>0.000196</td>\n      <td>2</td>\n      <td>0.1050</td>\n      <td>-14.062</td>\n      <td>1</td>\n      <td>Can't Help Falling in Love</td>\n      <td>78</td>\n      <td>1961-10-20</td>\n      <td>0.0275</td>\n      <td>100.307</td>\n    </tr>\n    <tr>\n      <th>7807</th>\n      <td>0.598</td>\n      <td>1961</td>\n      <td>0.45100</td>\n      <td>['Dion']</td>\n      <td>0.364</td>\n      <td>171600</td>\n      <td>0.607</td>\n      <td>0</td>\n      <td>1DndHckdH9m5rp6gYP086b</td>\n      <td>0.000000</td>\n      <td>2</td>\n      <td>0.2510</td>\n      <td>-9.791</td>\n      <td>1</td>\n      <td>Runaround Sue</td>\n      <td>63</td>\n      <td>1961</td>\n      <td>0.1250</td>\n      <td>79.987</td>\n    </tr>\n    <tr>\n      <th>7808</th>\n      <td>0.356</td>\n      <td>1961</td>\n      <td>0.93100</td>\n      <td>['Patsy Cline', 'The Jordanaires']</td>\n      <td>0.471</td>\n      <td>164573</td>\n      <td>0.021</td>\n      <td>0</td>\n      <td>3zpj9dvJABiyMrmLCPw6i8</td>\n      <td>0.000001</td>\n      <td>10</td>\n      <td>0.1030</td>\n      <td>-24.385</td>\n      <td>1</td>\n      <td>Crazy - Single Version</td>\n      <td>66</td>\n      <td>1961-11-27</td>\n      <td>0.0366</td>\n      <td>107.765</td>\n    </tr>\n    <tr>\n      <th>7809</th>\n      <td>0.967</td>\n      <td>1961</td>\n      <td>0.72900</td>\n      <td>['The Marvelettes']</td>\n      <td>0.785</td>\n      <td>148040</td>\n      <td>0.776</td>\n      <td>0</td>\n      <td>6jX5mso4x00c1EiNMrTU9U</td>\n      <td>0.000000</td>\n      <td>2</td>\n      <td>0.1810</td>\n      <td>-5.259</td>\n      <td>1</td>\n      <td>Please Mr. Postman</td>\n      <td>67</td>\n      <td>1961</td>\n      <td>0.0312</td>\n      <td>121.505</td>\n    </tr>\n    <tr>\n      <th>7810</th>\n      <td>0.800</td>\n      <td>1961</td>\n      <td>0.76800</td>\n      <td>['Harry Belafonte']</td>\n      <td>0.594</td>\n      <td>221704</td>\n      <td>0.889</td>\n      <td>0</td>\n      <td>1zW2csx1vVJrKfvDrFQNVt</td>\n      <td>0.000000</td>\n      <td>5</td>\n      <td>0.1240</td>\n      <td>-7.775</td>\n      <td>1</td>\n      <td>Jump in the Line</td>\n      <td>63</td>\n      <td>1961-07-21</td>\n      <td>0.2460</td>\n      <td>116.187</td>\n    </tr>\n    <tr>\n      <th>...</th>\n      <td>...</td>\n      <td>...</td>\n      <td>...</td>\n      <td>...</td>\n      <td>...</td>\n      <td>...</td>\n      <td>...</td>\n      <td>...</td>\n      <td>...</td>\n      <td>...</td>\n      <td>...</td>\n      <td>...</td>\n      <td>...</td>\n      <td>...</td>\n      <td>...</td>\n      <td>...</td>\n      <td>...</td>\n      <td>...</td>\n      <td>...</td>\n    </tr>\n    <tr>\n      <th>170648</th>\n      <td>0.608</td>\n      <td>2020</td>\n      <td>0.08460</td>\n      <td>['Anuel AA', 'Daddy Yankee', 'KAROL G', 'Ozuna...</td>\n      <td>0.786</td>\n      <td>301714</td>\n      <td>0.808</td>\n      <td>0</td>\n      <td>0KkIkfsLEJbrcIhYsCL7L5</td>\n      <td>0.000289</td>\n      <td>7</td>\n      <td>0.0822</td>\n      <td>-3.702</td>\n      <td>1</td>\n      <td>China</td>\n      <td>72</td>\n      <td>2020-05-29</td>\n      <td>0.0881</td>\n      <td>105.029</td>\n    </tr>\n    <tr>\n      <th>170649</th>\n      <td>0.734</td>\n      <td>2020</td>\n      <td>0.20600</td>\n      <td>['Ashnikko']</td>\n      <td>0.717</td>\n      <td>150654</td>\n      <td>0.753</td>\n      <td>0</td>\n      <td>0OStKKAuXlxA0fMH54Qs6E</td>\n      <td>0.000000</td>\n      <td>7</td>\n      <td>0.1010</td>\n      <td>-6.020</td>\n      <td>1</td>\n      <td>Halloweenie III: Seven Days</td>\n      <td>68</td>\n      <td>2020-10-23</td>\n      <td>0.0605</td>\n      <td>137.936</td>\n    </tr>\n    <tr>\n      <th>170650</th>\n      <td>0.637</td>\n      <td>2020</td>\n      <td>0.10100</td>\n      <td>['MAMAMOO']</td>\n      <td>0.634</td>\n      <td>211280</td>\n      <td>0.858</td>\n      <td>0</td>\n      <td>4BZXVFYCb76Q0Klojq4piV</td>\n      <td>0.000009</td>\n      <td>4</td>\n      <td>0.2580</td>\n      <td>-2.226</td>\n      <td>0</td>\n      <td>AYA</td>\n      <td>76</td>\n      <td>2020-11-03</td>\n      <td>0.0809</td>\n      <td>91.688</td>\n    </tr>\n    <tr>\n      <th>170651</th>\n      <td>0.195</td>\n      <td>2020</td>\n      <td>0.00998</td>\n      <td>['Eminem']</td>\n      <td>0.671</td>\n      <td>337147</td>\n      <td>0.623</td>\n      <td>1</td>\n      <td>5SiZJoLXp3WOl3J4C8IK0d</td>\n      <td>0.000008</td>\n      <td>2</td>\n      <td>0.6430</td>\n      <td>-7.161</td>\n      <td>1</td>\n      <td>Darkness</td>\n      <td>70</td>\n      <td>2020-01-17</td>\n      <td>0.3080</td>\n      <td>75.055</td>\n    </tr>\n    <tr>\n      <th>170652</th>\n      <td>0.642</td>\n      <td>2020</td>\n      <td>0.13200</td>\n      <td>['KEVVO', 'J Balvin']</td>\n      <td>0.856</td>\n      <td>189507</td>\n      <td>0.721</td>\n      <td>1</td>\n      <td>7HmnJHfs0BkFzX4x8j0hkl</td>\n      <td>0.004710</td>\n      <td>7</td>\n      <td>0.1820</td>\n      <td>-4.928</td>\n      <td>1</td>\n      <td>Billetes Azules (with J Balvin)</td>\n      <td>74</td>\n      <td>2020-10-16</td>\n      <td>0.1080</td>\n      <td>94.991</td>\n    </tr>\n  </tbody>\n</table>\n<p>118900 rows × 19 columns</p>\n</div>"
     },
     "metadata": {},
     "execution_count": 39
    }
   ],
   "source": [
    "overall_data = data_df.loc[data_df['year'] > 1960]\n",
    "overall_data"
   ]
  },
  {
   "cell_type": "code",
   "execution_count": 40,
   "metadata": {},
   "outputs": [],
   "source": [
    "#overall_data.to_csv(r'C:\\Users\\USER\\UT-MCC-VIRT-DATA-PT-12-2020-U-B\\Week20\\final_project\\data\\heads\\overall_data.csv', index=False)"
   ]
  },
  {
   "cell_type": "code",
   "execution_count": 41,
   "metadata": {},
   "outputs": [
    {
     "output_type": "execute_result",
     "data": {
      "text/plain": [
       "                            id                                 name  \\\n",
       "0       35iwgR4jXetI318WEWsa1Q                                Carve   \n",
       "1       021ht4sdgPcrDgSk7JTbKY  Capítulo 2.16 - Banquero Anarquista   \n",
       "2       07A5yehtSnoedViJAZkNnc   Vivo para Quererte - Remasterizado   \n",
       "3       08FmqUhxtyLTn6pAh6bk45        El Prisionero - Remasterizado   \n",
       "4       08y9GfoqCWfOGsKdwojr5e                  Lady of the Evening   \n",
       "...                        ...                                  ...   \n",
       "586667  5rgu12WBIHQtvej2MdHSH0                                  云与海   \n",
       "586668  0NuWgxEp51CutD2pJoF4OM                                blind   \n",
       "586669  27Y1N4Q4U3EfDU5Ubw8ws2            What They'll Say About Us   \n",
       "586670  45XJsGpFTyzbzeWK8VzR8S                      A Day At A Time   \n",
       "586671  5Ocn6dZ3BJFPWh4ylwFXtn                     Mar de Emociones   \n",
       "\n",
       "        popularity  duration_ms  explicit                          artists  \\\n",
       "0                6       126903         0                          ['Uli']   \n",
       "1                0        98200         0              ['Fernando Pessoa']   \n",
       "2                0       181640         0              ['Ignacio Corsini']   \n",
       "3                0       176907         0              ['Ignacio Corsini']   \n",
       "4                0       163080         0                  ['Dick Haymes']   \n",
       "...            ...          ...       ...                              ...   \n",
       "586667          50       258267         0                      ['阿YueYue']   \n",
       "586668          72       153293         0                   ['ROLE MODEL']   \n",
       "586669          70       187601         0                      ['FINNEAS']   \n",
       "586670          58       142003         0  ['Gentle Bones', 'Clara Benin']   \n",
       "586671          38       214360         0                    ['Afrosound']   \n",
       "\n",
       "                                               id_artists release_date  \\\n",
       "0                              ['45tIt06XoI0Iio4LBEVpls']   1922-02-22   \n",
       "1                              ['14jtPCOoNZwquk5wd9DxrY']   1922-06-01   \n",
       "2                              ['5LiOoJbxVSAMkBS2fUm3X2']   1922-03-21   \n",
       "3                              ['5LiOoJbxVSAMkBS2fUm3X2']   1922-03-21   \n",
       "4                              ['3BiJGZsyX9sJchTqcSA7Su']         1922   \n",
       "...                                                   ...          ...   \n",
       "586667                         ['1QLBXKM5GCpyQQSVMNZqrZ']   2020-09-26   \n",
       "586668                         ['1dy5WNgIKQU6ezkpZs4y8z']   2020-10-21   \n",
       "586669                         ['37M5pPGs6V1fchFJSgCguX']   2020-09-02   \n",
       "586670  ['4jGPdu95icCKVF31CcFKbS', '5ebPSE9YI5aLeZ1Z2g...   2021-03-05   \n",
       "586671                         ['0i4Qda0k4nf7jnNHmSNpYv']   2015-07-01   \n",
       "\n",
       "        danceability  energy  key  loudness  mode  speechiness  acousticness  \\\n",
       "0              0.645  0.4450    0   -13.338     1       0.4510         0.674   \n",
       "1              0.695  0.2630    0   -22.136     1       0.9570         0.797   \n",
       "2              0.434  0.1770    1   -21.180     1       0.0512         0.994   \n",
       "3              0.321  0.0946    7   -27.961     1       0.0504         0.995   \n",
       "4              0.402  0.1580    3   -16.900     0       0.0390         0.989   \n",
       "...              ...     ...  ...       ...   ...          ...           ...   \n",
       "586667         0.560  0.5180    0    -7.471     0       0.0292         0.785   \n",
       "586668         0.765  0.6630    0    -5.223     1       0.0652         0.141   \n",
       "586669         0.535  0.3140    7   -12.823     0       0.0408         0.895   \n",
       "586670         0.696  0.6150   10    -6.212     1       0.0345         0.206   \n",
       "586671         0.686  0.7230    6    -7.067     1       0.0363         0.105   \n",
       "\n",
       "        instrumentalness  liveness  valence    tempo  time_signature  \n",
       "0               0.744000    0.1510   0.1270  104.851               3  \n",
       "1               0.000000    0.1480   0.6550  102.009               1  \n",
       "2               0.021800    0.2120   0.4570  130.418               5  \n",
       "3               0.918000    0.1040   0.3970  169.980               3  \n",
       "4               0.130000    0.3110   0.1960  103.220               4  \n",
       "...                  ...       ...      ...      ...             ...  \n",
       "586667          0.000000    0.0648   0.2110  131.896               4  \n",
       "586668          0.000297    0.0924   0.6860  150.091               4  \n",
       "586669          0.000150    0.0874   0.0663  145.095               4  \n",
       "586670          0.000003    0.3050   0.4380   90.029               4  \n",
       "586671          0.000000    0.2640   0.9750  112.204               4  \n",
       "\n",
       "[586672 rows x 20 columns]"
      ],
      "text/html": "<div>\n<style scoped>\n    .dataframe tbody tr th:only-of-type {\n        vertical-align: middle;\n    }\n\n    .dataframe tbody tr th {\n        vertical-align: top;\n    }\n\n    .dataframe thead th {\n        text-align: right;\n    }\n</style>\n<table border=\"1\" class=\"dataframe\">\n  <thead>\n    <tr style=\"text-align: right;\">\n      <th></th>\n      <th>id</th>\n      <th>name</th>\n      <th>popularity</th>\n      <th>duration_ms</th>\n      <th>explicit</th>\n      <th>artists</th>\n      <th>id_artists</th>\n      <th>release_date</th>\n      <th>danceability</th>\n      <th>energy</th>\n      <th>key</th>\n      <th>loudness</th>\n      <th>mode</th>\n      <th>speechiness</th>\n      <th>acousticness</th>\n      <th>instrumentalness</th>\n      <th>liveness</th>\n      <th>valence</th>\n      <th>tempo</th>\n      <th>time_signature</th>\n    </tr>\n  </thead>\n  <tbody>\n    <tr>\n      <th>0</th>\n      <td>35iwgR4jXetI318WEWsa1Q</td>\n      <td>Carve</td>\n      <td>6</td>\n      <td>126903</td>\n      <td>0</td>\n      <td>['Uli']</td>\n      <td>['45tIt06XoI0Iio4LBEVpls']</td>\n      <td>1922-02-22</td>\n      <td>0.645</td>\n      <td>0.4450</td>\n      <td>0</td>\n      <td>-13.338</td>\n      <td>1</td>\n      <td>0.4510</td>\n      <td>0.674</td>\n      <td>0.744000</td>\n      <td>0.1510</td>\n      <td>0.1270</td>\n      <td>104.851</td>\n      <td>3</td>\n    </tr>\n    <tr>\n      <th>1</th>\n      <td>021ht4sdgPcrDgSk7JTbKY</td>\n      <td>Capítulo 2.16 - Banquero Anarquista</td>\n      <td>0</td>\n      <td>98200</td>\n      <td>0</td>\n      <td>['Fernando Pessoa']</td>\n      <td>['14jtPCOoNZwquk5wd9DxrY']</td>\n      <td>1922-06-01</td>\n      <td>0.695</td>\n      <td>0.2630</td>\n      <td>0</td>\n      <td>-22.136</td>\n      <td>1</td>\n      <td>0.9570</td>\n      <td>0.797</td>\n      <td>0.000000</td>\n      <td>0.1480</td>\n      <td>0.6550</td>\n      <td>102.009</td>\n      <td>1</td>\n    </tr>\n    <tr>\n      <th>2</th>\n      <td>07A5yehtSnoedViJAZkNnc</td>\n      <td>Vivo para Quererte - Remasterizado</td>\n      <td>0</td>\n      <td>181640</td>\n      <td>0</td>\n      <td>['Ignacio Corsini']</td>\n      <td>['5LiOoJbxVSAMkBS2fUm3X2']</td>\n      <td>1922-03-21</td>\n      <td>0.434</td>\n      <td>0.1770</td>\n      <td>1</td>\n      <td>-21.180</td>\n      <td>1</td>\n      <td>0.0512</td>\n      <td>0.994</td>\n      <td>0.021800</td>\n      <td>0.2120</td>\n      <td>0.4570</td>\n      <td>130.418</td>\n      <td>5</td>\n    </tr>\n    <tr>\n      <th>3</th>\n      <td>08FmqUhxtyLTn6pAh6bk45</td>\n      <td>El Prisionero - Remasterizado</td>\n      <td>0</td>\n      <td>176907</td>\n      <td>0</td>\n      <td>['Ignacio Corsini']</td>\n      <td>['5LiOoJbxVSAMkBS2fUm3X2']</td>\n      <td>1922-03-21</td>\n      <td>0.321</td>\n      <td>0.0946</td>\n      <td>7</td>\n      <td>-27.961</td>\n      <td>1</td>\n      <td>0.0504</td>\n      <td>0.995</td>\n      <td>0.918000</td>\n      <td>0.1040</td>\n      <td>0.3970</td>\n      <td>169.980</td>\n      <td>3</td>\n    </tr>\n    <tr>\n      <th>4</th>\n      <td>08y9GfoqCWfOGsKdwojr5e</td>\n      <td>Lady of the Evening</td>\n      <td>0</td>\n      <td>163080</td>\n      <td>0</td>\n      <td>['Dick Haymes']</td>\n      <td>['3BiJGZsyX9sJchTqcSA7Su']</td>\n      <td>1922</td>\n      <td>0.402</td>\n      <td>0.1580</td>\n      <td>3</td>\n      <td>-16.900</td>\n      <td>0</td>\n      <td>0.0390</td>\n      <td>0.989</td>\n      <td>0.130000</td>\n      <td>0.3110</td>\n      <td>0.1960</td>\n      <td>103.220</td>\n      <td>4</td>\n    </tr>\n    <tr>\n      <th>...</th>\n      <td>...</td>\n      <td>...</td>\n      <td>...</td>\n      <td>...</td>\n      <td>...</td>\n      <td>...</td>\n      <td>...</td>\n      <td>...</td>\n      <td>...</td>\n      <td>...</td>\n      <td>...</td>\n      <td>...</td>\n      <td>...</td>\n      <td>...</td>\n      <td>...</td>\n      <td>...</td>\n      <td>...</td>\n      <td>...</td>\n      <td>...</td>\n      <td>...</td>\n    </tr>\n    <tr>\n      <th>586667</th>\n      <td>5rgu12WBIHQtvej2MdHSH0</td>\n      <td>云与海</td>\n      <td>50</td>\n      <td>258267</td>\n      <td>0</td>\n      <td>['阿YueYue']</td>\n      <td>['1QLBXKM5GCpyQQSVMNZqrZ']</td>\n      <td>2020-09-26</td>\n      <td>0.560</td>\n      <td>0.5180</td>\n      <td>0</td>\n      <td>-7.471</td>\n      <td>0</td>\n      <td>0.0292</td>\n      <td>0.785</td>\n      <td>0.000000</td>\n      <td>0.0648</td>\n      <td>0.2110</td>\n      <td>131.896</td>\n      <td>4</td>\n    </tr>\n    <tr>\n      <th>586668</th>\n      <td>0NuWgxEp51CutD2pJoF4OM</td>\n      <td>blind</td>\n      <td>72</td>\n      <td>153293</td>\n      <td>0</td>\n      <td>['ROLE MODEL']</td>\n      <td>['1dy5WNgIKQU6ezkpZs4y8z']</td>\n      <td>2020-10-21</td>\n      <td>0.765</td>\n      <td>0.6630</td>\n      <td>0</td>\n      <td>-5.223</td>\n      <td>1</td>\n      <td>0.0652</td>\n      <td>0.141</td>\n      <td>0.000297</td>\n      <td>0.0924</td>\n      <td>0.6860</td>\n      <td>150.091</td>\n      <td>4</td>\n    </tr>\n    <tr>\n      <th>586669</th>\n      <td>27Y1N4Q4U3EfDU5Ubw8ws2</td>\n      <td>What They'll Say About Us</td>\n      <td>70</td>\n      <td>187601</td>\n      <td>0</td>\n      <td>['FINNEAS']</td>\n      <td>['37M5pPGs6V1fchFJSgCguX']</td>\n      <td>2020-09-02</td>\n      <td>0.535</td>\n      <td>0.3140</td>\n      <td>7</td>\n      <td>-12.823</td>\n      <td>0</td>\n      <td>0.0408</td>\n      <td>0.895</td>\n      <td>0.000150</td>\n      <td>0.0874</td>\n      <td>0.0663</td>\n      <td>145.095</td>\n      <td>4</td>\n    </tr>\n    <tr>\n      <th>586670</th>\n      <td>45XJsGpFTyzbzeWK8VzR8S</td>\n      <td>A Day At A Time</td>\n      <td>58</td>\n      <td>142003</td>\n      <td>0</td>\n      <td>['Gentle Bones', 'Clara Benin']</td>\n      <td>['4jGPdu95icCKVF31CcFKbS', '5ebPSE9YI5aLeZ1Z2g...</td>\n      <td>2021-03-05</td>\n      <td>0.696</td>\n      <td>0.6150</td>\n      <td>10</td>\n      <td>-6.212</td>\n      <td>1</td>\n      <td>0.0345</td>\n      <td>0.206</td>\n      <td>0.000003</td>\n      <td>0.3050</td>\n      <td>0.4380</td>\n      <td>90.029</td>\n      <td>4</td>\n    </tr>\n    <tr>\n      <th>586671</th>\n      <td>5Ocn6dZ3BJFPWh4ylwFXtn</td>\n      <td>Mar de Emociones</td>\n      <td>38</td>\n      <td>214360</td>\n      <td>0</td>\n      <td>['Afrosound']</td>\n      <td>['0i4Qda0k4nf7jnNHmSNpYv']</td>\n      <td>2015-07-01</td>\n      <td>0.686</td>\n      <td>0.7230</td>\n      <td>6</td>\n      <td>-7.067</td>\n      <td>1</td>\n      <td>0.0363</td>\n      <td>0.105</td>\n      <td>0.000000</td>\n      <td>0.2640</td>\n      <td>0.9750</td>\n      <td>112.204</td>\n      <td>4</td>\n    </tr>\n  </tbody>\n</table>\n<p>586672 rows × 20 columns</p>\n</div>"
     },
     "metadata": {},
     "execution_count": 41
    }
   ],
   "source": [
    "track_data_df"
   ]
  },
  {
   "cell_type": "code",
   "execution_count": 44,
   "metadata": {},
   "outputs": [
    {
     "output_type": "execute_result",
     "data": {
      "text/plain": [
       "id                   object\n",
       "name                 object\n",
       "popularity            int64\n",
       "duration_ms           int64\n",
       "explicit              int64\n",
       "artists              object\n",
       "id_artists           object\n",
       "release_date         object\n",
       "danceability        float64\n",
       "energy              float64\n",
       "key                   int64\n",
       "loudness            float64\n",
       "mode                  int64\n",
       "speechiness         float64\n",
       "acousticness        float64\n",
       "instrumentalness    float64\n",
       "liveness            float64\n",
       "valence             float64\n",
       "tempo               float64\n",
       "time_signature        int64\n",
       "dtype: object"
      ]
     },
     "metadata": {},
     "execution_count": 44
    }
   ],
   "source": [
    "track_data_df.dtypes"
   ]
  },
  {
   "cell_type": "code",
   "execution_count": 48,
   "metadata": {},
   "outputs": [
    {
     "output_type": "execute_result",
     "data": {
      "text/plain": [
       "0         1922-02-22\n",
       "1         1922-06-01\n",
       "2         1922-03-21\n",
       "3         1922-03-21\n",
       "4               1922\n",
       "             ...    \n",
       "586667    2020-09-26\n",
       "586668    2020-10-21\n",
       "586669    2020-09-02\n",
       "586670    2021-03-05\n",
       "586671    2015-07-01\n",
       "Name: release_date, Length: 586672, dtype: object"
      ]
     },
     "metadata": {},
     "execution_count": 48
    }
   ],
   "source": [
    "track_data_df['release_date']"
   ]
  },
  {
   "cell_type": "code",
   "execution_count": null,
   "metadata": {},
   "outputs": [],
   "source": []
  }
 ]
}