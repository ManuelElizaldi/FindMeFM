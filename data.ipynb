{
 "metadata": {
  "language_info": {
   "codemirror_mode": {
    "name": "ipython",
    "version": 3
   },
   "file_extension": ".py",
   "mimetype": "text/x-python",
   "name": "python",
   "nbconvert_exporter": "python",
   "pygments_lexer": "ipython3",
   "version": "3.7.9"
  },
  "orig_nbformat": 2,
  "kernelspec": {
   "name": "python379jvsc74a57bd0354c2eb913e37078b9eceed7c36555952391f234b1993a26210500db07202fdf",
   "display_name": "Python 3.7.9 64-bit ('mlenv': conda)"
  }
 },
 "nbformat": 4,
 "nbformat_minor": 2,
 "cells": [
  {
   "cell_type": "code",
   "execution_count": null,
   "metadata": {},
   "outputs": [],
   "source": [
    "# Dependencies and Setup\n",
    "import pandas as pd"
   ]
  },
  {
   "cell_type": "code",
   "execution_count": null,
   "metadata": {},
   "outputs": [],
   "source": [
    "# File to Load (Remember to change the path if needed.)\n",
    "artist_data_to_load = \"Data/artists.csv\"\n",
    "data_by_artist_to_load = \"Data/data_by_artist_o.csv\"\n",
    "genere_data_to_load = \"Data/data_by_genres_o.csv\"\n",
    "year_data_to_load = \"Data/data_by_year_o.csv\"\n",
    "data_o_to_load = \"Data/data_o.csv\"\n",
    "track_data_to_load = \"Data/tracks.csv\"\n",
    "# Read the School Data and Student Data and store into a Pandas DataFrame\n",
    "artist_df = pd.read_csv(artist_data_to_load)\n",
    "artist_data_df = pd.read_csv(data_by_artist_to_load)\n",
    "genere_data_df = pd.read_csv(genere_data_to_load)\n",
    "year_data_df = pd.read_csv(year_data_to_load)\n",
    "data_df = pd.read_csv(data_o_to_load)\n",
    "track_data_df = pd.read_csv(track_data_to_load)"
   ]
  },
  {
   "cell_type": "code",
   "execution_count": null,
   "metadata": {},
   "outputs": [],
   "source": []
  },
  {
   "cell_type": "code",
   "execution_count": null,
   "metadata": {},
   "outputs": [],
   "source": []
  },
  {
   "cell_type": "code",
   "execution_count": null,
   "metadata": {},
   "outputs": [],
   "source": []
  }
 ]
}