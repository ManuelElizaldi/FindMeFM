{
 "cells": [
  {
   "cell_type": "markdown",
   "id": "87624c5e",
   "metadata": {},
   "source": [
    "Description of the tool(s) that will be used to create the final dashboard\n",
    "We will use Tableau to build a dashboard that will visualize our data.\n"
   ]
  },
  {
   "cell_type": "code",
   "execution_count": null,
   "id": "fa5caaaf",
   "metadata": {},
   "outputs": [],
   "source": [
    "Description of interactive element(s)\n",
    "We will use the Flask App for the actual product. \n",
    "This is where the user can input their song and expect a song recommendation. \n",
    "\n",
    "For the data dashboarding, we will use Tabeleau. "
   ]
  },
  {
   "cell_type": "markdown",
   "id": "b992e05d",
   "metadata": {},
   "source": [
    "Description of interactive element(s): \n",
    "For the Flask app: users will input their favorite song to find a similar recommendation. Users can interact with the app by giving feedback feedback. Once the song is recommended, users will be asked: “Did you like this recommendation?”. We will use this to refine the recommendation model."
   ]
  }
 ],
 "metadata": {
  "kernelspec": {
   "display_name": "PythonData",
   "language": "python",
   "name": "pythondata"
  },
  "language_info": {
   "codemirror_mode": {
    "name": "ipython",
    "version": 3
   },
   "file_extension": ".py",
   "mimetype": "text/x-python",
   "name": "python",
   "nbconvert_exporter": "python",
   "pygments_lexer": "ipython3",
   "version": "3.8.5"
  }
 },
 "nbformat": 4,
 "nbformat_minor": 5
}
