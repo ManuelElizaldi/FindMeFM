{
 "metadata": {
  "language_info": {
   "codemirror_mode": {
    "name": "ipython",
    "version": 3
   },
   "file_extension": ".py",
   "mimetype": "text/x-python",
   "name": "python",
   "nbconvert_exporter": "python",
   "pygments_lexer": "ipython3",
   "version": "3.7.9"
  },
  "orig_nbformat": 2,
  "kernelspec": {
   "name": "python379jvsc74a57bd0354c2eb913e37078b9eceed7c36555952391f234b1993a26210500db07202fdf",
   "display_name": "Python 3.7.9 64-bit ('mlenv': conda)"
  }
 },
 "nbformat": 4,
 "nbformat_minor": 2,
 "cells": [
  {
   "cell_type": "code",
   "execution_count": 7,
   "metadata": {},
   "outputs": [],
   "source": [
    "import pandas as pd\n",
    "from sklearn.preprocessing import StandardScaler\n",
    "from sklearn.decomposition import PCA\n",
    "from sklearn.cluster import KMeans\n",
    "import hvplot.pandas"
   ]
  },
  {
   "cell_type": "code",
   "execution_count": 8,
   "metadata": {},
   "outputs": [
    {
     "output_type": "execute_result",
     "data": {
      "text/plain": [
       "        valence  year  acousticness  \\\n",
       "0        0.0594  1921       0.98200   \n",
       "1        0.9630  1921       0.73200   \n",
       "2        0.0394  1921       0.96100   \n",
       "3        0.1650  1921       0.96700   \n",
       "4        0.2530  1921       0.95700   \n",
       "...         ...   ...           ...   \n",
       "170648   0.6080  2020       0.08460   \n",
       "170649   0.7340  2020       0.20600   \n",
       "170650   0.6370  2020       0.10100   \n",
       "170651   0.1950  2020       0.00998   \n",
       "170652   0.6420  2020       0.13200   \n",
       "\n",
       "                                                  artists  danceability  \\\n",
       "0       ['Sergei Rachmaninoff', 'James Levine', 'Berli...         0.279   \n",
       "1                                          ['Dennis Day']         0.819   \n",
       "2       ['KHP Kridhamardawa Karaton Ngayogyakarta Hadi...         0.328   \n",
       "3                                        ['Frank Parker']         0.275   \n",
       "4                                          ['Phil Regan']         0.418   \n",
       "...                                                   ...           ...   \n",
       "170648  ['Anuel AA', 'Daddy Yankee', 'KAROL G', 'Ozuna...         0.786   \n",
       "170649                                       ['Ashnikko']         0.717   \n",
       "170650                                        ['MAMAMOO']         0.634   \n",
       "170651                                         ['Eminem']         0.671   \n",
       "170652                              ['KEVVO', 'J Balvin']         0.856   \n",
       "\n",
       "        duration_ms  energy  explicit                      id  \\\n",
       "0            831667   0.211         0  4BJqT0PrAfrxzMOxytFOIz   \n",
       "1            180533   0.341         0  7xPhfUan2yNtyFG0cUWkt8   \n",
       "2            500062   0.166         0  1o6I8BglA6ylDMrIELygv1   \n",
       "3            210000   0.309         0  3ftBPsC5vPBKxYSee08FDH   \n",
       "4            166693   0.193         0  4d6HGyGT8e121BsdKmw9v6   \n",
       "...             ...     ...       ...                     ...   \n",
       "170648       301714   0.808         0  0KkIkfsLEJbrcIhYsCL7L5   \n",
       "170649       150654   0.753         0  0OStKKAuXlxA0fMH54Qs6E   \n",
       "170650       211280   0.858         0  4BZXVFYCb76Q0Klojq4piV   \n",
       "170651       337147   0.623         1  5SiZJoLXp3WOl3J4C8IK0d   \n",
       "170652       189507   0.721         1  7HmnJHfs0BkFzX4x8j0hkl   \n",
       "\n",
       "        instrumentalness  key  liveness  loudness  mode  \\\n",
       "0               0.878000   10    0.6650   -20.096     1   \n",
       "1               0.000000    7    0.1600   -12.441     1   \n",
       "2               0.913000    3    0.1010   -14.850     1   \n",
       "3               0.000028    5    0.3810    -9.316     1   \n",
       "4               0.000002    3    0.2290   -10.096     1   \n",
       "...                  ...  ...       ...       ...   ...   \n",
       "170648          0.000289    7    0.0822    -3.702     1   \n",
       "170649          0.000000    7    0.1010    -6.020     1   \n",
       "170650          0.000009    4    0.2580    -2.226     0   \n",
       "170651          0.000008    2    0.6430    -7.161     1   \n",
       "170652          0.004710    7    0.1820    -4.928     1   \n",
       "\n",
       "                                                     name  popularity  \\\n",
       "0       Piano Concerto No. 3 in D Minor, Op. 30: III. ...           4   \n",
       "1                                 Clancy Lowered the Boom           5   \n",
       "2                                               Gati Bali           5   \n",
       "3                                               Danny Boy           3   \n",
       "4                             When Irish Eyes Are Smiling           2   \n",
       "...                                                   ...         ...   \n",
       "170648                                              China          72   \n",
       "170649                        Halloweenie III: Seven Days          68   \n",
       "170650                                                AYA          76   \n",
       "170651                                           Darkness          70   \n",
       "170652                    Billetes Azules (with J Balvin)          74   \n",
       "\n",
       "       release_date  speechiness    tempo  \n",
       "0              1921       0.0366   80.954  \n",
       "1              1921       0.4150   60.936  \n",
       "2              1921       0.0339  110.339  \n",
       "3              1921       0.0354  100.109  \n",
       "4              1921       0.0380  101.665  \n",
       "...             ...          ...      ...  \n",
       "170648   2020-05-29       0.0881  105.029  \n",
       "170649   2020-10-23       0.0605  137.936  \n",
       "170650   2020-11-03       0.0809   91.688  \n",
       "170651   2020-01-17       0.3080   75.055  \n",
       "170652   2020-10-16       0.1080   94.991  \n",
       "\n",
       "[170653 rows x 19 columns]"
      ],
      "text/html": "<div>\n<style scoped>\n    .dataframe tbody tr th:only-of-type {\n        vertical-align: middle;\n    }\n\n    .dataframe tbody tr th {\n        vertical-align: top;\n    }\n\n    .dataframe thead th {\n        text-align: right;\n    }\n</style>\n<table border=\"1\" class=\"dataframe\">\n  <thead>\n    <tr style=\"text-align: right;\">\n      <th></th>\n      <th>valence</th>\n      <th>year</th>\n      <th>acousticness</th>\n      <th>artists</th>\n      <th>danceability</th>\n      <th>duration_ms</th>\n      <th>energy</th>\n      <th>explicit</th>\n      <th>id</th>\n      <th>instrumentalness</th>\n      <th>key</th>\n      <th>liveness</th>\n      <th>loudness</th>\n      <th>mode</th>\n      <th>name</th>\n      <th>popularity</th>\n      <th>release_date</th>\n      <th>speechiness</th>\n      <th>tempo</th>\n    </tr>\n  </thead>\n  <tbody>\n    <tr>\n      <th>0</th>\n      <td>0.0594</td>\n      <td>1921</td>\n      <td>0.98200</td>\n      <td>['Sergei Rachmaninoff', 'James Levine', 'Berli...</td>\n      <td>0.279</td>\n      <td>831667</td>\n      <td>0.211</td>\n      <td>0</td>\n      <td>4BJqT0PrAfrxzMOxytFOIz</td>\n      <td>0.878000</td>\n      <td>10</td>\n      <td>0.6650</td>\n      <td>-20.096</td>\n      <td>1</td>\n      <td>Piano Concerto No. 3 in D Minor, Op. 30: III. ...</td>\n      <td>4</td>\n      <td>1921</td>\n      <td>0.0366</td>\n      <td>80.954</td>\n    </tr>\n    <tr>\n      <th>1</th>\n      <td>0.9630</td>\n      <td>1921</td>\n      <td>0.73200</td>\n      <td>['Dennis Day']</td>\n      <td>0.819</td>\n      <td>180533</td>\n      <td>0.341</td>\n      <td>0</td>\n      <td>7xPhfUan2yNtyFG0cUWkt8</td>\n      <td>0.000000</td>\n      <td>7</td>\n      <td>0.1600</td>\n      <td>-12.441</td>\n      <td>1</td>\n      <td>Clancy Lowered the Boom</td>\n      <td>5</td>\n      <td>1921</td>\n      <td>0.4150</td>\n      <td>60.936</td>\n    </tr>\n    <tr>\n      <th>2</th>\n      <td>0.0394</td>\n      <td>1921</td>\n      <td>0.96100</td>\n      <td>['KHP Kridhamardawa Karaton Ngayogyakarta Hadi...</td>\n      <td>0.328</td>\n      <td>500062</td>\n      <td>0.166</td>\n      <td>0</td>\n      <td>1o6I8BglA6ylDMrIELygv1</td>\n      <td>0.913000</td>\n      <td>3</td>\n      <td>0.1010</td>\n      <td>-14.850</td>\n      <td>1</td>\n      <td>Gati Bali</td>\n      <td>5</td>\n      <td>1921</td>\n      <td>0.0339</td>\n      <td>110.339</td>\n    </tr>\n    <tr>\n      <th>3</th>\n      <td>0.1650</td>\n      <td>1921</td>\n      <td>0.96700</td>\n      <td>['Frank Parker']</td>\n      <td>0.275</td>\n      <td>210000</td>\n      <td>0.309</td>\n      <td>0</td>\n      <td>3ftBPsC5vPBKxYSee08FDH</td>\n      <td>0.000028</td>\n      <td>5</td>\n      <td>0.3810</td>\n      <td>-9.316</td>\n      <td>1</td>\n      <td>Danny Boy</td>\n      <td>3</td>\n      <td>1921</td>\n      <td>0.0354</td>\n      <td>100.109</td>\n    </tr>\n    <tr>\n      <th>4</th>\n      <td>0.2530</td>\n      <td>1921</td>\n      <td>0.95700</td>\n      <td>['Phil Regan']</td>\n      <td>0.418</td>\n      <td>166693</td>\n      <td>0.193</td>\n      <td>0</td>\n      <td>4d6HGyGT8e121BsdKmw9v6</td>\n      <td>0.000002</td>\n      <td>3</td>\n      <td>0.2290</td>\n      <td>-10.096</td>\n      <td>1</td>\n      <td>When Irish Eyes Are Smiling</td>\n      <td>2</td>\n      <td>1921</td>\n      <td>0.0380</td>\n      <td>101.665</td>\n    </tr>\n    <tr>\n      <th>...</th>\n      <td>...</td>\n      <td>...</td>\n      <td>...</td>\n      <td>...</td>\n      <td>...</td>\n      <td>...</td>\n      <td>...</td>\n      <td>...</td>\n      <td>...</td>\n      <td>...</td>\n      <td>...</td>\n      <td>...</td>\n      <td>...</td>\n      <td>...</td>\n      <td>...</td>\n      <td>...</td>\n      <td>...</td>\n      <td>...</td>\n      <td>...</td>\n    </tr>\n    <tr>\n      <th>170648</th>\n      <td>0.6080</td>\n      <td>2020</td>\n      <td>0.08460</td>\n      <td>['Anuel AA', 'Daddy Yankee', 'KAROL G', 'Ozuna...</td>\n      <td>0.786</td>\n      <td>301714</td>\n      <td>0.808</td>\n      <td>0</td>\n      <td>0KkIkfsLEJbrcIhYsCL7L5</td>\n      <td>0.000289</td>\n      <td>7</td>\n      <td>0.0822</td>\n      <td>-3.702</td>\n      <td>1</td>\n      <td>China</td>\n      <td>72</td>\n      <td>2020-05-29</td>\n      <td>0.0881</td>\n      <td>105.029</td>\n    </tr>\n    <tr>\n      <th>170649</th>\n      <td>0.7340</td>\n      <td>2020</td>\n      <td>0.20600</td>\n      <td>['Ashnikko']</td>\n      <td>0.717</td>\n      <td>150654</td>\n      <td>0.753</td>\n      <td>0</td>\n      <td>0OStKKAuXlxA0fMH54Qs6E</td>\n      <td>0.000000</td>\n      <td>7</td>\n      <td>0.1010</td>\n      <td>-6.020</td>\n      <td>1</td>\n      <td>Halloweenie III: Seven Days</td>\n      <td>68</td>\n      <td>2020-10-23</td>\n      <td>0.0605</td>\n      <td>137.936</td>\n    </tr>\n    <tr>\n      <th>170650</th>\n      <td>0.6370</td>\n      <td>2020</td>\n      <td>0.10100</td>\n      <td>['MAMAMOO']</td>\n      <td>0.634</td>\n      <td>211280</td>\n      <td>0.858</td>\n      <td>0</td>\n      <td>4BZXVFYCb76Q0Klojq4piV</td>\n      <td>0.000009</td>\n      <td>4</td>\n      <td>0.2580</td>\n      <td>-2.226</td>\n      <td>0</td>\n      <td>AYA</td>\n      <td>76</td>\n      <td>2020-11-03</td>\n      <td>0.0809</td>\n      <td>91.688</td>\n    </tr>\n    <tr>\n      <th>170651</th>\n      <td>0.1950</td>\n      <td>2020</td>\n      <td>0.00998</td>\n      <td>['Eminem']</td>\n      <td>0.671</td>\n      <td>337147</td>\n      <td>0.623</td>\n      <td>1</td>\n      <td>5SiZJoLXp3WOl3J4C8IK0d</td>\n      <td>0.000008</td>\n      <td>2</td>\n      <td>0.6430</td>\n      <td>-7.161</td>\n      <td>1</td>\n      <td>Darkness</td>\n      <td>70</td>\n      <td>2020-01-17</td>\n      <td>0.3080</td>\n      <td>75.055</td>\n    </tr>\n    <tr>\n      <th>170652</th>\n      <td>0.6420</td>\n      <td>2020</td>\n      <td>0.13200</td>\n      <td>['KEVVO', 'J Balvin']</td>\n      <td>0.856</td>\n      <td>189507</td>\n      <td>0.721</td>\n      <td>1</td>\n      <td>7HmnJHfs0BkFzX4x8j0hkl</td>\n      <td>0.004710</td>\n      <td>7</td>\n      <td>0.1820</td>\n      <td>-4.928</td>\n      <td>1</td>\n      <td>Billetes Azules (with J Balvin)</td>\n      <td>74</td>\n      <td>2020-10-16</td>\n      <td>0.1080</td>\n      <td>94.991</td>\n    </tr>\n  </tbody>\n</table>\n<p>170653 rows × 19 columns</p>\n</div>"
     },
     "metadata": {},
     "execution_count": 8
    }
   ],
   "source": [
    "df = pd.read_csv(r'C:\\Users\\USER\\UT-MCC-VIRT-DATA-PT-12-2020-U-B\\Week20\\final_project\\data\\original_data\\data_o.csv')\n",
    "df"
   ]
  },
  {
   "cell_type": "code",
   "execution_count": 9,
   "metadata": {},
   "outputs": [
    {
     "output_type": "execute_result",
     "data": {
      "text/plain": [
       "        valence  year  acousticness  \\\n",
       "0        0.0594  1921       0.98200   \n",
       "1        0.9630  1921       0.73200   \n",
       "2        0.0394  1921       0.96100   \n",
       "3        0.1650  1921       0.96700   \n",
       "4        0.2530  1921       0.95700   \n",
       "...         ...   ...           ...   \n",
       "170648   0.6080  2020       0.08460   \n",
       "170649   0.7340  2020       0.20600   \n",
       "170650   0.6370  2020       0.10100   \n",
       "170651   0.1950  2020       0.00998   \n",
       "170652   0.6420  2020       0.13200   \n",
       "\n",
       "                                                  artists  danceability  \\\n",
       "0       ['Sergei Rachmaninoff', 'James Levine', 'Berli...         0.279   \n",
       "1                                          ['Dennis Day']         0.819   \n",
       "2       ['KHP Kridhamardawa Karaton Ngayogyakarta Hadi...         0.328   \n",
       "3                                        ['Frank Parker']         0.275   \n",
       "4                                          ['Phil Regan']         0.418   \n",
       "...                                                   ...           ...   \n",
       "170648  ['Anuel AA', 'Daddy Yankee', 'KAROL G', 'Ozuna...         0.786   \n",
       "170649                                       ['Ashnikko']         0.717   \n",
       "170650                                        ['MAMAMOO']         0.634   \n",
       "170651                                         ['Eminem']         0.671   \n",
       "170652                              ['KEVVO', 'J Balvin']         0.856   \n",
       "\n",
       "        duration_ms  energy  explicit                      id  \\\n",
       "0            831667   0.211         0  4BJqT0PrAfrxzMOxytFOIz   \n",
       "1            180533   0.341         0  7xPhfUan2yNtyFG0cUWkt8   \n",
       "2            500062   0.166         0  1o6I8BglA6ylDMrIELygv1   \n",
       "3            210000   0.309         0  3ftBPsC5vPBKxYSee08FDH   \n",
       "4            166693   0.193         0  4d6HGyGT8e121BsdKmw9v6   \n",
       "...             ...     ...       ...                     ...   \n",
       "170648       301714   0.808         0  0KkIkfsLEJbrcIhYsCL7L5   \n",
       "170649       150654   0.753         0  0OStKKAuXlxA0fMH54Qs6E   \n",
       "170650       211280   0.858         0  4BZXVFYCb76Q0Klojq4piV   \n",
       "170651       337147   0.623         1  5SiZJoLXp3WOl3J4C8IK0d   \n",
       "170652       189507   0.721         1  7HmnJHfs0BkFzX4x8j0hkl   \n",
       "\n",
       "        instrumentalness  key  liveness  loudness  mode  \\\n",
       "0               0.878000   10    0.6650   -20.096     1   \n",
       "1               0.000000    7    0.1600   -12.441     1   \n",
       "2               0.913000    3    0.1010   -14.850     1   \n",
       "3               0.000028    5    0.3810    -9.316     1   \n",
       "4               0.000002    3    0.2290   -10.096     1   \n",
       "...                  ...  ...       ...       ...   ...   \n",
       "170648          0.000289    7    0.0822    -3.702     1   \n",
       "170649          0.000000    7    0.1010    -6.020     1   \n",
       "170650          0.000009    4    0.2580    -2.226     0   \n",
       "170651          0.000008    2    0.6430    -7.161     1   \n",
       "170652          0.004710    7    0.1820    -4.928     1   \n",
       "\n",
       "                                                     name  popularity  \\\n",
       "0       Piano Concerto No. 3 in D Minor, Op. 30: III. ...           4   \n",
       "1                                 Clancy Lowered the Boom           5   \n",
       "2                                               Gati Bali           5   \n",
       "3                                               Danny Boy           3   \n",
       "4                             When Irish Eyes Are Smiling           2   \n",
       "...                                                   ...         ...   \n",
       "170648                                              China          72   \n",
       "170649                        Halloweenie III: Seven Days          68   \n",
       "170650                                                AYA          76   \n",
       "170651                                           Darkness          70   \n",
       "170652                    Billetes Azules (with J Balvin)          74   \n",
       "\n",
       "       release_date  speechiness    tempo  \n",
       "0              1921       0.0366   80.954  \n",
       "1              1921       0.4150   60.936  \n",
       "2              1921       0.0339  110.339  \n",
       "3              1921       0.0354  100.109  \n",
       "4              1921       0.0380  101.665  \n",
       "...             ...          ...      ...  \n",
       "170648   2020-05-29       0.0881  105.029  \n",
       "170649   2020-10-23       0.0605  137.936  \n",
       "170650   2020-11-03       0.0809   91.688  \n",
       "170651   2020-01-17       0.3080   75.055  \n",
       "170652   2020-10-16       0.1080   94.991  \n",
       "\n",
       "[170653 rows x 19 columns]"
      ],
      "text/html": "<div>\n<style scoped>\n    .dataframe tbody tr th:only-of-type {\n        vertical-align: middle;\n    }\n\n    .dataframe tbody tr th {\n        vertical-align: top;\n    }\n\n    .dataframe thead th {\n        text-align: right;\n    }\n</style>\n<table border=\"1\" class=\"dataframe\">\n  <thead>\n    <tr style=\"text-align: right;\">\n      <th></th>\n      <th>valence</th>\n      <th>year</th>\n      <th>acousticness</th>\n      <th>artists</th>\n      <th>danceability</th>\n      <th>duration_ms</th>\n      <th>energy</th>\n      <th>explicit</th>\n      <th>id</th>\n      <th>instrumentalness</th>\n      <th>key</th>\n      <th>liveness</th>\n      <th>loudness</th>\n      <th>mode</th>\n      <th>name</th>\n      <th>popularity</th>\n      <th>release_date</th>\n      <th>speechiness</th>\n      <th>tempo</th>\n    </tr>\n  </thead>\n  <tbody>\n    <tr>\n      <th>0</th>\n      <td>0.0594</td>\n      <td>1921</td>\n      <td>0.98200</td>\n      <td>['Sergei Rachmaninoff', 'James Levine', 'Berli...</td>\n      <td>0.279</td>\n      <td>831667</td>\n      <td>0.211</td>\n      <td>0</td>\n      <td>4BJqT0PrAfrxzMOxytFOIz</td>\n      <td>0.878000</td>\n      <td>10</td>\n      <td>0.6650</td>\n      <td>-20.096</td>\n      <td>1</td>\n      <td>Piano Concerto No. 3 in D Minor, Op. 30: III. ...</td>\n      <td>4</td>\n      <td>1921</td>\n      <td>0.0366</td>\n      <td>80.954</td>\n    </tr>\n    <tr>\n      <th>1</th>\n      <td>0.9630</td>\n      <td>1921</td>\n      <td>0.73200</td>\n      <td>['Dennis Day']</td>\n      <td>0.819</td>\n      <td>180533</td>\n      <td>0.341</td>\n      <td>0</td>\n      <td>7xPhfUan2yNtyFG0cUWkt8</td>\n      <td>0.000000</td>\n      <td>7</td>\n      <td>0.1600</td>\n      <td>-12.441</td>\n      <td>1</td>\n      <td>Clancy Lowered the Boom</td>\n      <td>5</td>\n      <td>1921</td>\n      <td>0.4150</td>\n      <td>60.936</td>\n    </tr>\n    <tr>\n      <th>2</th>\n      <td>0.0394</td>\n      <td>1921</td>\n      <td>0.96100</td>\n      <td>['KHP Kridhamardawa Karaton Ngayogyakarta Hadi...</td>\n      <td>0.328</td>\n      <td>500062</td>\n      <td>0.166</td>\n      <td>0</td>\n      <td>1o6I8BglA6ylDMrIELygv1</td>\n      <td>0.913000</td>\n      <td>3</td>\n      <td>0.1010</td>\n      <td>-14.850</td>\n      <td>1</td>\n      <td>Gati Bali</td>\n      <td>5</td>\n      <td>1921</td>\n      <td>0.0339</td>\n      <td>110.339</td>\n    </tr>\n    <tr>\n      <th>3</th>\n      <td>0.1650</td>\n      <td>1921</td>\n      <td>0.96700</td>\n      <td>['Frank Parker']</td>\n      <td>0.275</td>\n      <td>210000</td>\n      <td>0.309</td>\n      <td>0</td>\n      <td>3ftBPsC5vPBKxYSee08FDH</td>\n      <td>0.000028</td>\n      <td>5</td>\n      <td>0.3810</td>\n      <td>-9.316</td>\n      <td>1</td>\n      <td>Danny Boy</td>\n      <td>3</td>\n      <td>1921</td>\n      <td>0.0354</td>\n      <td>100.109</td>\n    </tr>\n    <tr>\n      <th>4</th>\n      <td>0.2530</td>\n      <td>1921</td>\n      <td>0.95700</td>\n      <td>['Phil Regan']</td>\n      <td>0.418</td>\n      <td>166693</td>\n      <td>0.193</td>\n      <td>0</td>\n      <td>4d6HGyGT8e121BsdKmw9v6</td>\n      <td>0.000002</td>\n      <td>3</td>\n      <td>0.2290</td>\n      <td>-10.096</td>\n      <td>1</td>\n      <td>When Irish Eyes Are Smiling</td>\n      <td>2</td>\n      <td>1921</td>\n      <td>0.0380</td>\n      <td>101.665</td>\n    </tr>\n    <tr>\n      <th>...</th>\n      <td>...</td>\n      <td>...</td>\n      <td>...</td>\n      <td>...</td>\n      <td>...</td>\n      <td>...</td>\n      <td>...</td>\n      <td>...</td>\n      <td>...</td>\n      <td>...</td>\n      <td>...</td>\n      <td>...</td>\n      <td>...</td>\n      <td>...</td>\n      <td>...</td>\n      <td>...</td>\n      <td>...</td>\n      <td>...</td>\n      <td>...</td>\n    </tr>\n    <tr>\n      <th>170648</th>\n      <td>0.6080</td>\n      <td>2020</td>\n      <td>0.08460</td>\n      <td>['Anuel AA', 'Daddy Yankee', 'KAROL G', 'Ozuna...</td>\n      <td>0.786</td>\n      <td>301714</td>\n      <td>0.808</td>\n      <td>0</td>\n      <td>0KkIkfsLEJbrcIhYsCL7L5</td>\n      <td>0.000289</td>\n      <td>7</td>\n      <td>0.0822</td>\n      <td>-3.702</td>\n      <td>1</td>\n      <td>China</td>\n      <td>72</td>\n      <td>2020-05-29</td>\n      <td>0.0881</td>\n      <td>105.029</td>\n    </tr>\n    <tr>\n      <th>170649</th>\n      <td>0.7340</td>\n      <td>2020</td>\n      <td>0.20600</td>\n      <td>['Ashnikko']</td>\n      <td>0.717</td>\n      <td>150654</td>\n      <td>0.753</td>\n      <td>0</td>\n      <td>0OStKKAuXlxA0fMH54Qs6E</td>\n      <td>0.000000</td>\n      <td>7</td>\n      <td>0.1010</td>\n      <td>-6.020</td>\n      <td>1</td>\n      <td>Halloweenie III: Seven Days</td>\n      <td>68</td>\n      <td>2020-10-23</td>\n      <td>0.0605</td>\n      <td>137.936</td>\n    </tr>\n    <tr>\n      <th>170650</th>\n      <td>0.6370</td>\n      <td>2020</td>\n      <td>0.10100</td>\n      <td>['MAMAMOO']</td>\n      <td>0.634</td>\n      <td>211280</td>\n      <td>0.858</td>\n      <td>0</td>\n      <td>4BZXVFYCb76Q0Klojq4piV</td>\n      <td>0.000009</td>\n      <td>4</td>\n      <td>0.2580</td>\n      <td>-2.226</td>\n      <td>0</td>\n      <td>AYA</td>\n      <td>76</td>\n      <td>2020-11-03</td>\n      <td>0.0809</td>\n      <td>91.688</td>\n    </tr>\n    <tr>\n      <th>170651</th>\n      <td>0.1950</td>\n      <td>2020</td>\n      <td>0.00998</td>\n      <td>['Eminem']</td>\n      <td>0.671</td>\n      <td>337147</td>\n      <td>0.623</td>\n      <td>1</td>\n      <td>5SiZJoLXp3WOl3J4C8IK0d</td>\n      <td>0.000008</td>\n      <td>2</td>\n      <td>0.6430</td>\n      <td>-7.161</td>\n      <td>1</td>\n      <td>Darkness</td>\n      <td>70</td>\n      <td>2020-01-17</td>\n      <td>0.3080</td>\n      <td>75.055</td>\n    </tr>\n    <tr>\n      <th>170652</th>\n      <td>0.6420</td>\n      <td>2020</td>\n      <td>0.13200</td>\n      <td>['KEVVO', 'J Balvin']</td>\n      <td>0.856</td>\n      <td>189507</td>\n      <td>0.721</td>\n      <td>1</td>\n      <td>7HmnJHfs0BkFzX4x8j0hkl</td>\n      <td>0.004710</td>\n      <td>7</td>\n      <td>0.1820</td>\n      <td>-4.928</td>\n      <td>1</td>\n      <td>Billetes Azules (with J Balvin)</td>\n      <td>74</td>\n      <td>2020-10-16</td>\n      <td>0.1080</td>\n      <td>94.991</td>\n    </tr>\n  </tbody>\n</table>\n<p>170653 rows × 19 columns</p>\n</div>"
     },
     "metadata": {},
     "execution_count": 9
    }
   ],
   "source": [
    "df.dropna()"
   ]
  },
  {
   "cell_type": "code",
   "execution_count": 10,
   "metadata": {},
   "outputs": [
    {
     "output_type": "execute_result",
     "data": {
      "text/plain": [
       "        acousticness  danceability  energy  instrumentalness  liveness  \\\n",
       "0            0.98200         0.279   0.211          0.878000    0.6650   \n",
       "1            0.73200         0.819   0.341          0.000000    0.1600   \n",
       "2            0.96100         0.328   0.166          0.913000    0.1010   \n",
       "3            0.96700         0.275   0.309          0.000028    0.3810   \n",
       "4            0.95700         0.418   0.193          0.000002    0.2290   \n",
       "...              ...           ...     ...               ...       ...   \n",
       "170648       0.08460         0.786   0.808          0.000289    0.0822   \n",
       "170649       0.20600         0.717   0.753          0.000000    0.1010   \n",
       "170650       0.10100         0.634   0.858          0.000009    0.2580   \n",
       "170651       0.00998         0.671   0.623          0.000008    0.6430   \n",
       "170652       0.13200         0.856   0.721          0.004710    0.1820   \n",
       "\n",
       "        loudness  popularity  speechiness    tempo  \n",
       "0        -20.096           4       0.0366   80.954  \n",
       "1        -12.441           5       0.4150   60.936  \n",
       "2        -14.850           5       0.0339  110.339  \n",
       "3         -9.316           3       0.0354  100.109  \n",
       "4        -10.096           2       0.0380  101.665  \n",
       "...          ...         ...          ...      ...  \n",
       "170648    -3.702          72       0.0881  105.029  \n",
       "170649    -6.020          68       0.0605  137.936  \n",
       "170650    -2.226          76       0.0809   91.688  \n",
       "170651    -7.161          70       0.3080   75.055  \n",
       "170652    -4.928          74       0.1080   94.991  \n",
       "\n",
       "[170653 rows x 9 columns]"
      ],
      "text/html": "<div>\n<style scoped>\n    .dataframe tbody tr th:only-of-type {\n        vertical-align: middle;\n    }\n\n    .dataframe tbody tr th {\n        vertical-align: top;\n    }\n\n    .dataframe thead th {\n        text-align: right;\n    }\n</style>\n<table border=\"1\" class=\"dataframe\">\n  <thead>\n    <tr style=\"text-align: right;\">\n      <th></th>\n      <th>acousticness</th>\n      <th>danceability</th>\n      <th>energy</th>\n      <th>instrumentalness</th>\n      <th>liveness</th>\n      <th>loudness</th>\n      <th>popularity</th>\n      <th>speechiness</th>\n      <th>tempo</th>\n    </tr>\n  </thead>\n  <tbody>\n    <tr>\n      <th>0</th>\n      <td>0.98200</td>\n      <td>0.279</td>\n      <td>0.211</td>\n      <td>0.878000</td>\n      <td>0.6650</td>\n      <td>-20.096</td>\n      <td>4</td>\n      <td>0.0366</td>\n      <td>80.954</td>\n    </tr>\n    <tr>\n      <th>1</th>\n      <td>0.73200</td>\n      <td>0.819</td>\n      <td>0.341</td>\n      <td>0.000000</td>\n      <td>0.1600</td>\n      <td>-12.441</td>\n      <td>5</td>\n      <td>0.4150</td>\n      <td>60.936</td>\n    </tr>\n    <tr>\n      <th>2</th>\n      <td>0.96100</td>\n      <td>0.328</td>\n      <td>0.166</td>\n      <td>0.913000</td>\n      <td>0.1010</td>\n      <td>-14.850</td>\n      <td>5</td>\n      <td>0.0339</td>\n      <td>110.339</td>\n    </tr>\n    <tr>\n      <th>3</th>\n      <td>0.96700</td>\n      <td>0.275</td>\n      <td>0.309</td>\n      <td>0.000028</td>\n      <td>0.3810</td>\n      <td>-9.316</td>\n      <td>3</td>\n      <td>0.0354</td>\n      <td>100.109</td>\n    </tr>\n    <tr>\n      <th>4</th>\n      <td>0.95700</td>\n      <td>0.418</td>\n      <td>0.193</td>\n      <td>0.000002</td>\n      <td>0.2290</td>\n      <td>-10.096</td>\n      <td>2</td>\n      <td>0.0380</td>\n      <td>101.665</td>\n    </tr>\n    <tr>\n      <th>...</th>\n      <td>...</td>\n      <td>...</td>\n      <td>...</td>\n      <td>...</td>\n      <td>...</td>\n      <td>...</td>\n      <td>...</td>\n      <td>...</td>\n      <td>...</td>\n    </tr>\n    <tr>\n      <th>170648</th>\n      <td>0.08460</td>\n      <td>0.786</td>\n      <td>0.808</td>\n      <td>0.000289</td>\n      <td>0.0822</td>\n      <td>-3.702</td>\n      <td>72</td>\n      <td>0.0881</td>\n      <td>105.029</td>\n    </tr>\n    <tr>\n      <th>170649</th>\n      <td>0.20600</td>\n      <td>0.717</td>\n      <td>0.753</td>\n      <td>0.000000</td>\n      <td>0.1010</td>\n      <td>-6.020</td>\n      <td>68</td>\n      <td>0.0605</td>\n      <td>137.936</td>\n    </tr>\n    <tr>\n      <th>170650</th>\n      <td>0.10100</td>\n      <td>0.634</td>\n      <td>0.858</td>\n      <td>0.000009</td>\n      <td>0.2580</td>\n      <td>-2.226</td>\n      <td>76</td>\n      <td>0.0809</td>\n      <td>91.688</td>\n    </tr>\n    <tr>\n      <th>170651</th>\n      <td>0.00998</td>\n      <td>0.671</td>\n      <td>0.623</td>\n      <td>0.000008</td>\n      <td>0.6430</td>\n      <td>-7.161</td>\n      <td>70</td>\n      <td>0.3080</td>\n      <td>75.055</td>\n    </tr>\n    <tr>\n      <th>170652</th>\n      <td>0.13200</td>\n      <td>0.856</td>\n      <td>0.721</td>\n      <td>0.004710</td>\n      <td>0.1820</td>\n      <td>-4.928</td>\n      <td>74</td>\n      <td>0.1080</td>\n      <td>94.991</td>\n    </tr>\n  </tbody>\n</table>\n<p>170653 rows × 9 columns</p>\n</div>"
     },
     "metadata": {},
     "execution_count": 10
    }
   ],
   "source": [
    "features_df = df[['acousticness','danceability','energy','instrumentalness','liveness','loudness','popularity','speechiness','tempo']]\n",
    "features_df"
   ]
  },
  {
   "cell_type": "code",
   "execution_count": 11,
   "metadata": {},
   "outputs": [
    {
     "output_type": "stream",
     "name": "stdout",
     "text": [
      "[[ 1.27618658 -1.46701268 -1.01398836 ... -1.25680847 -0.37970638\n  -1.16930675]\n [ 0.61134711  1.59877887 -0.5282702  ... -1.21099271  1.94548067\n  -1.82117959]\n [ 1.22034007 -1.18882049 -1.18212158 ... -1.21099271 -0.3962973\n  -0.21240379]\n ...\n [-1.06670771  0.5484614   1.40339359 ...  2.04192615 -0.10749235\n  -0.81976118]\n [-1.30876246  0.75852489  0.52536459 ...  1.7670316   1.28798856\n  -1.36140375]\n [-0.98426761  1.80884237  0.89152137 ...  1.95029463  0.05903135\n  -0.71220119]]\n"
     ]
    }
   ],
   "source": [
    "df_scaled = StandardScaler().fit_transform(features_df)\n",
    "print(df_scaled)"
   ]
  },
  {
   "cell_type": "code",
   "execution_count": 12,
   "metadata": {},
   "outputs": [],
   "source": [
    "pca = PCA(n_components=9)"
   ]
  },
  {
   "cell_type": "code",
   "execution_count": 13,
   "metadata": {},
   "outputs": [],
   "source": [
    "df_pca = pca.fit_transform(df_scaled)"
   ]
  },
  {
   "cell_type": "code",
   "execution_count": 14,
   "metadata": {},
   "outputs": [
    {
     "output_type": "execute_result",
     "data": {
      "text/plain": [
       "        acousticness  danceability    energy  instrumentalness  liveness  \\\n",
       "0           3.438220     -0.529705  2.483166          1.555019  0.959385   \n",
       "1           0.941165      2.901098 -1.072530          0.922094  0.204034   \n",
       "2           2.927782     -1.282199  0.026711         -0.304394  1.122910   \n",
       "3           1.467106     -0.284842  1.319309          0.746415 -1.392275   \n",
       "4           1.573128      0.010154  0.216682          0.342677 -1.302850   \n",
       "...              ...           ...       ...               ...       ...   \n",
       "170648     -2.869970      0.107272 -1.345353          0.598594  0.432326   \n",
       "170649     -2.466057     -0.245546 -0.853409         -0.377234  0.086233   \n",
       "170650     -2.883516     -0.165329 -0.283990          1.412467  0.278724   \n",
       "170651     -2.034556      1.703571  1.290393          2.172024  0.507530   \n",
       "170652     -2.630017      0.579576 -1.210559          1.015335  0.430728   \n",
       "\n",
       "        loudness  popularity  speechiness     tempo  \n",
       "0      -0.269200   -0.738157     0.111946 -0.019587  \n",
       "1      -0.502692    0.723453    -0.192307  0.036589  \n",
       "2      -0.376049    0.449647    -0.467663 -0.459670  \n",
       "3      -0.429676    0.919744    -0.397137 -0.290167  \n",
       "4      -0.672803    0.764657    -0.235397 -0.472035  \n",
       "...          ...         ...          ...       ...  \n",
       "170648  0.036749   -0.367531    -0.457639  0.059787  \n",
       "170649  0.049780   -0.613638    -0.369348  0.191912  \n",
       "170650  0.362950   -0.288287    -0.744676  0.012087  \n",
       "170651  0.907873   -1.207002    -0.390922 -0.438859  \n",
       "170652 -0.060750   -0.908236    -0.435784 -0.025677  \n",
       "\n",
       "[170653 rows x 9 columns]"
      ],
      "text/html": "<div>\n<style scoped>\n    .dataframe tbody tr th:only-of-type {\n        vertical-align: middle;\n    }\n\n    .dataframe tbody tr th {\n        vertical-align: top;\n    }\n\n    .dataframe thead th {\n        text-align: right;\n    }\n</style>\n<table border=\"1\" class=\"dataframe\">\n  <thead>\n    <tr style=\"text-align: right;\">\n      <th></th>\n      <th>acousticness</th>\n      <th>danceability</th>\n      <th>energy</th>\n      <th>instrumentalness</th>\n      <th>liveness</th>\n      <th>loudness</th>\n      <th>popularity</th>\n      <th>speechiness</th>\n      <th>tempo</th>\n    </tr>\n  </thead>\n  <tbody>\n    <tr>\n      <th>0</th>\n      <td>3.438220</td>\n      <td>-0.529705</td>\n      <td>2.483166</td>\n      <td>1.555019</td>\n      <td>0.959385</td>\n      <td>-0.269200</td>\n      <td>-0.738157</td>\n      <td>0.111946</td>\n      <td>-0.019587</td>\n    </tr>\n    <tr>\n      <th>1</th>\n      <td>0.941165</td>\n      <td>2.901098</td>\n      <td>-1.072530</td>\n      <td>0.922094</td>\n      <td>0.204034</td>\n      <td>-0.502692</td>\n      <td>0.723453</td>\n      <td>-0.192307</td>\n      <td>0.036589</td>\n    </tr>\n    <tr>\n      <th>2</th>\n      <td>2.927782</td>\n      <td>-1.282199</td>\n      <td>0.026711</td>\n      <td>-0.304394</td>\n      <td>1.122910</td>\n      <td>-0.376049</td>\n      <td>0.449647</td>\n      <td>-0.467663</td>\n      <td>-0.459670</td>\n    </tr>\n    <tr>\n      <th>3</th>\n      <td>1.467106</td>\n      <td>-0.284842</td>\n      <td>1.319309</td>\n      <td>0.746415</td>\n      <td>-1.392275</td>\n      <td>-0.429676</td>\n      <td>0.919744</td>\n      <td>-0.397137</td>\n      <td>-0.290167</td>\n    </tr>\n    <tr>\n      <th>4</th>\n      <td>1.573128</td>\n      <td>0.010154</td>\n      <td>0.216682</td>\n      <td>0.342677</td>\n      <td>-1.302850</td>\n      <td>-0.672803</td>\n      <td>0.764657</td>\n      <td>-0.235397</td>\n      <td>-0.472035</td>\n    </tr>\n    <tr>\n      <th>...</th>\n      <td>...</td>\n      <td>...</td>\n      <td>...</td>\n      <td>...</td>\n      <td>...</td>\n      <td>...</td>\n      <td>...</td>\n      <td>...</td>\n      <td>...</td>\n    </tr>\n    <tr>\n      <th>170648</th>\n      <td>-2.869970</td>\n      <td>0.107272</td>\n      <td>-1.345353</td>\n      <td>0.598594</td>\n      <td>0.432326</td>\n      <td>0.036749</td>\n      <td>-0.367531</td>\n      <td>-0.457639</td>\n      <td>0.059787</td>\n    </tr>\n    <tr>\n      <th>170649</th>\n      <td>-2.466057</td>\n      <td>-0.245546</td>\n      <td>-0.853409</td>\n      <td>-0.377234</td>\n      <td>0.086233</td>\n      <td>0.049780</td>\n      <td>-0.613638</td>\n      <td>-0.369348</td>\n      <td>0.191912</td>\n    </tr>\n    <tr>\n      <th>170650</th>\n      <td>-2.883516</td>\n      <td>-0.165329</td>\n      <td>-0.283990</td>\n      <td>1.412467</td>\n      <td>0.278724</td>\n      <td>0.362950</td>\n      <td>-0.288287</td>\n      <td>-0.744676</td>\n      <td>0.012087</td>\n    </tr>\n    <tr>\n      <th>170651</th>\n      <td>-2.034556</td>\n      <td>1.703571</td>\n      <td>1.290393</td>\n      <td>2.172024</td>\n      <td>0.507530</td>\n      <td>0.907873</td>\n      <td>-1.207002</td>\n      <td>-0.390922</td>\n      <td>-0.438859</td>\n    </tr>\n    <tr>\n      <th>170652</th>\n      <td>-2.630017</td>\n      <td>0.579576</td>\n      <td>-1.210559</td>\n      <td>1.015335</td>\n      <td>0.430728</td>\n      <td>-0.060750</td>\n      <td>-0.908236</td>\n      <td>-0.435784</td>\n      <td>-0.025677</td>\n    </tr>\n  </tbody>\n</table>\n<p>170653 rows × 9 columns</p>\n</div>"
     },
     "metadata": {},
     "execution_count": 14
    }
   ],
   "source": [
    "df_features_pca = pd.DataFrame(\n",
    "    data = df_pca, columns=['acousticness','danceability','energy','instrumentalness','liveness','loudness','popularity','speechiness','tempo']\n",
    ")\n",
    "df_features_pca"
   ]
  },
  {
   "cell_type": "code",
   "execution_count": 15,
   "metadata": {},
   "outputs": [
    {
     "output_type": "execute_result",
     "data": {
      "text/plain": [
       "array([0.36087084, 0.14610035, 0.12435197, 0.10260436, 0.08256392,\n",
       "       0.07096411, 0.06084259, 0.03646624, 0.01523563])"
      ]
     },
     "metadata": {},
     "execution_count": 15
    }
   ],
   "source": [
    "pca.explained_variance_ratio_"
   ]
  },
  {
   "cell_type": "code",
   "execution_count": 16,
   "metadata": {},
   "outputs": [
    {
     "output_type": "display_data",
     "data": {},
     "metadata": {}
    },
    {
     "output_type": "execute_result",
     "data": {
      "text/html": "<div id='1001'>\n\n\n\n\n\n  <div class=\"bk-root\" id=\"026c07e4-9292-43de-8682-62c2c8a7ab56\" data-root-id=\"1001\"></div>\n</div>\n<script type=\"application/javascript\">(function(root) {\n  function embed_document(root) {\n    var docs_json = {\"f11e2ddf-d900-47dd-a880-857833a249d3\":{\"roots\":{\"references\":[{\"attributes\":{\"children\":[{\"id\":\"1002\"},{\"id\":\"1006\"},{\"id\":\"1065\"}],\"margin\":[0,0,0,0],\"name\":\"Row01533\",\"tags\":[\"embedded\"]},\"id\":\"1001\",\"type\":\"Row\"},{\"attributes\":{\"overlay\":{\"id\":\"1028\"}},\"id\":\"1026\",\"type\":\"BoxZoomTool\"},{\"attributes\":{\"axis_label\":\"k\",\"bounds\":\"auto\",\"formatter\":{\"id\":\"1046\"},\"major_label_orientation\":\"horizontal\",\"ticker\":{\"id\":\"1044\"}},\"id\":\"1015\",\"type\":\"LinearAxis\"},{\"attributes\":{},\"id\":\"1056\",\"type\":\"UnionRenderers\"},{\"attributes\":{},\"id\":\"1013\",\"type\":\"LinearScale\"},{\"attributes\":{\"end\":10.0,\"reset_end\":10.0,\"reset_start\":1.0,\"start\":1.0,\"tags\":[[[\"k\",\"k\",null]]]},\"id\":\"1003\",\"type\":\"Range1d\"},{\"attributes\":{\"source\":{\"id\":\"1036\"}},\"id\":\"1043\",\"type\":\"CDSView\"},{\"attributes\":{\"margin\":[5,5,5,5],\"name\":\"HSpacer01537\",\"sizing_mode\":\"stretch_width\"},\"id\":\"1002\",\"type\":\"Spacer\"},{\"attributes\":{\"axis_label\":\"inertia\",\"bounds\":\"auto\",\"formatter\":{\"id\":\"1050\"},\"major_label_orientation\":\"horizontal\",\"ticker\":{\"id\":\"1020\"}},\"id\":\"1019\",\"type\":\"LinearAxis\"},{\"attributes\":{\"axis\":{\"id\":\"1015\"},\"grid_line_color\":null,\"ticker\":null},\"id\":\"1018\",\"type\":\"Grid\"},{\"attributes\":{\"end\":1630770.8471570797,\"reset_end\":1630770.8471570797,\"reset_start\":492044.681271986,\"start\":492044.681271986,\"tags\":[[[\"inertia\",\"inertia\",null]]]},\"id\":\"1004\",\"type\":\"Range1d\"},{\"attributes\":{\"callback\":null,\"renderers\":[{\"id\":\"1042\"}],\"tags\":[\"hv_created\"],\"tooltips\":[[\"k\",\"@{k}\"],[\"inertia\",\"@{inertia}\"]]},\"id\":\"1005\",\"type\":\"HoverTool\"},{\"attributes\":{},\"id\":\"1020\",\"type\":\"BasicTicker\"},{\"attributes\":{\"line_alpha\":0.2,\"line_color\":\"#30a2da\",\"line_width\":2,\"x\":{\"field\":\"k\"},\"y\":{\"field\":\"inertia\"}},\"id\":\"1041\",\"type\":\"Line\"},{\"attributes\":{\"axis\":{\"id\":\"1019\"},\"dimension\":1,\"grid_line_color\":null,\"ticker\":null},\"id\":\"1022\",\"type\":\"Grid\"},{\"attributes\":{},\"id\":\"1037\",\"type\":\"Selection\"},{\"attributes\":{\"data_source\":{\"id\":\"1036\"},\"glyph\":{\"id\":\"1039\"},\"hover_glyph\":null,\"muted_glyph\":{\"id\":\"1041\"},\"nonselection_glyph\":{\"id\":\"1040\"},\"selection_glyph\":null,\"view\":{\"id\":\"1043\"}},\"id\":\"1042\",\"type\":\"GlyphRenderer\"},{\"attributes\":{\"bottom_units\":\"screen\",\"fill_alpha\":0.5,\"fill_color\":\"lightgrey\",\"left_units\":\"screen\",\"level\":\"overlay\",\"line_alpha\":1.0,\"line_color\":\"black\",\"line_dash\":[4,4],\"line_width\":2,\"right_units\":\"screen\",\"top_units\":\"screen\"},\"id\":\"1028\",\"type\":\"BoxAnnotation\"},{\"attributes\":{\"data\":{\"inertia\":{\"__ndarray__\":\"z////4RvN0EVeJMbATExQZHKGoGUxC1B5uLd3w8fKkFW6dBuS5QnQa6WoticpCVBvUVbwHqCJEEwNDdUQo8jQQUm2LeapSJBiUGODnXpIUE=\",\"dtype\":\"float64\",\"order\":\"little\",\"shape\":[10]},\"k\":[1,2,3,4,5,6,7,8,9,10]},\"selected\":{\"id\":\"1037\"},\"selection_policy\":{\"id\":\"1056\"}},\"id\":\"1036\",\"type\":\"ColumnDataSource\"},{\"attributes\":{\"line_color\":\"#30a2da\",\"line_width\":2,\"x\":{\"field\":\"k\"},\"y\":{\"field\":\"inertia\"}},\"id\":\"1039\",\"type\":\"Line\"},{\"attributes\":{\"ticks\":[1,2,3,4,5,6,7,8,9,10]},\"id\":\"1044\",\"type\":\"FixedTicker\"},{\"attributes\":{},\"id\":\"1011\",\"type\":\"LinearScale\"},{\"attributes\":{\"line_alpha\":0.1,\"line_color\":\"#30a2da\",\"line_width\":2,\"x\":{\"field\":\"k\"},\"y\":{\"field\":\"inertia\"}},\"id\":\"1040\",\"type\":\"Line\"},{\"attributes\":{\"below\":[{\"id\":\"1015\"}],\"center\":[{\"id\":\"1018\"},{\"id\":\"1022\"}],\"left\":[{\"id\":\"1019\"}],\"margin\":[5,5,5,5],\"min_border_bottom\":10,\"min_border_left\":10,\"min_border_right\":10,\"min_border_top\":10,\"plot_height\":300,\"plot_width\":700,\"renderers\":[{\"id\":\"1042\"}],\"sizing_mode\":\"fixed\",\"title\":{\"id\":\"1007\"},\"toolbar\":{\"id\":\"1029\"},\"x_range\":{\"id\":\"1003\"},\"x_scale\":{\"id\":\"1011\"},\"y_range\":{\"id\":\"1004\"},\"y_scale\":{\"id\":\"1013\"}},\"id\":\"1006\",\"subtype\":\"Figure\",\"type\":\"Plot\"},{\"attributes\":{},\"id\":\"1050\",\"type\":\"BasicTickFormatter\"},{\"attributes\":{\"text\":\"Elbow Curve\",\"text_color\":{\"value\":\"black\"},\"text_font_size\":{\"value\":\"12pt\"}},\"id\":\"1007\",\"type\":\"Title\"},{\"attributes\":{\"active_drag\":\"auto\",\"active_inspect\":\"auto\",\"active_multi\":null,\"active_scroll\":\"auto\",\"active_tap\":\"auto\",\"tools\":[{\"id\":\"1005\"},{\"id\":\"1023\"},{\"id\":\"1024\"},{\"id\":\"1025\"},{\"id\":\"1026\"},{\"id\":\"1027\"}]},\"id\":\"1029\",\"type\":\"Toolbar\"},{\"attributes\":{},\"id\":\"1023\",\"type\":\"SaveTool\"},{\"attributes\":{},\"id\":\"1024\",\"type\":\"PanTool\"},{\"attributes\":{\"margin\":[5,5,5,5],\"name\":\"HSpacer01538\",\"sizing_mode\":\"stretch_width\"},\"id\":\"1065\",\"type\":\"Spacer\"},{\"attributes\":{},\"id\":\"1027\",\"type\":\"ResetTool\"},{\"attributes\":{},\"id\":\"1025\",\"type\":\"WheelZoomTool\"},{\"attributes\":{},\"id\":\"1046\",\"type\":\"BasicTickFormatter\"}],\"root_ids\":[\"1001\"]},\"title\":\"Bokeh Application\",\"version\":\"2.2.3\"}};\n    var render_items = [{\"docid\":\"f11e2ddf-d900-47dd-a880-857833a249d3\",\"root_ids\":[\"1001\"],\"roots\":{\"1001\":\"026c07e4-9292-43de-8682-62c2c8a7ab56\"}}];\n    root.Bokeh.embed.embed_items_notebook(docs_json, render_items);\n  }\n  if (root.Bokeh !== undefined && root.Bokeh.Panel !== undefined) {\n    embed_document(root);\n  } else {\n    var attempts = 0;\n    var timer = setInterval(function(root) {\n      if (root.Bokeh !== undefined && root.Bokeh.Panel !== undefined) {\n        clearInterval(timer);\n        embed_document(root);\n      } else if (document.readyState == \"complete\") {\n        attempts++;\n        if (attempts > 100) {\n          clearInterval(timer);\n          console.log(\"Bokeh: ERROR: Unable to run BokehJS code because BokehJS library is missing\");\n        }\n      }\n    }, 10, root)\n  }\n})(window);</script>",
      "application/vnd.holoviews_exec.v0+json": "",
      "text/plain": [
       ":Curve   [k]   (inertia)"
      ]
     },
     "metadata": {
      "application/vnd.holoviews_exec.v0+json": {
       "id": "1001"
      }
     },
     "execution_count": 16
    }
   ],
   "source": [
    "inertia = []\n",
    "k = list(range(1, 11))\n",
    "\n",
    "for i in k:\n",
    "    km = KMeans(n_clusters=i, random_state=0)\n",
    "    km.fit(df_features_pca)\n",
    "    inertia.append(km.inertia_)\n",
    "\n",
    "elbow_data = {\"k\": k, \"inertia\": inertia}\n",
    "df_elbow = pd.DataFrame(elbow_data)\n",
    "df_elbow.hvplot.line(x=\"k\", y=\"inertia\", xticks=k, title=\"Elbow Curve\")"
   ]
  },
  {
   "cell_type": "code",
   "execution_count": null,
   "metadata": {},
   "outputs": [],
   "source": []
  }
 ]
}